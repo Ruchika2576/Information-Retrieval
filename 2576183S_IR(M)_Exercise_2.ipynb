{
  "nbformat": 4,
  "nbformat_minor": 0,
  "metadata": {
    "colab": {
      "name": "2576183S_IR(M)_Exercise_2.ipynb",
      "provenance": [],
      "collapsed_sections": []
    },
    "kernelspec": {
      "display_name": "Python 3",
      "name": "python3"
    }
  },
  "cells": [
    {
      "cell_type": "markdown",
      "metadata": {
        "id": "OrfB2Z3LfT33"
      },
      "source": [
        "# Information Retrieval Exercise 2 Notebook\n",
        "\n",
        "This is the template notebook for Exercise 2. The specification for the exercise and the corresponding Exercise 2 Quiz submission instance are available on the Moodle page of the course.\n",
        "\n",
        "## Assumed Knowledge\n",
        "\n",
        "This Exercise assumes knowedge of Pandas and PyTerrier from Exercise 1. The relevant parts of the PyTerrier documentation are:\n",
        " - [Using Terrier indices in PyTerrier](https://pyterrier.readthedocs.io/en/latest/terrier-indexing.html)\n",
        " - [Terrier Retrieval using PyTerrier](https://pyterrier.readthedocs.io/en/latest/terrier-retrieval.html), e.g. BatchRetrieve\n",
        " - [Operators on PyTerrier transformers](https://pyterrier.readthedocs.io/en/latest/operators.html)\n",
        "\n",
        "\n",
        "## Setup\n",
        "\n",
        "NB: Windows users may need to use `!pip install  --user python-terrier gensim` -- you can ignore warnings about cython, PATH etc. If in doubt, resort to Colab."
      ]
    },
    {
      "cell_type": "code",
      "metadata": {
        "colab": {
          "base_uri": "https://localhost:8080/"
        },
        "id": "0m5M7WiZfNfk",
        "outputId": "30dec8ed-77ef-4c28-f301-83df5db83d38"
      },
      "source": [
        "                                                  !pip install python-terrier gensim"
      ],
      "execution_count": null,
      "outputs": [
        {
          "output_type": "stream",
          "text": [
            "Requirement already satisfied: python-terrier in /usr/local/lib/python3.7/dist-packages (0.6.0)\n",
            "Requirement already satisfied: gensim in /usr/local/lib/python3.7/dist-packages (3.6.0)\n",
            "Requirement already satisfied: pyjnius~=1.3.0 in /usr/local/lib/python3.7/dist-packages (from python-terrier) (1.3.0)\n",
            "Requirement already satisfied: scipy in /usr/local/lib/python3.7/dist-packages (from python-terrier) (1.4.1)\n",
            "Requirement already satisfied: ir-datasets>=0.3.2 in /usr/local/lib/python3.7/dist-packages (from python-terrier) (0.4.0)\n",
            "Requirement already satisfied: ir-measures>=0.1.4 in /usr/local/lib/python3.7/dist-packages (from python-terrier) (0.1.4)\n",
            "Requirement already satisfied: pandas>=0.25.0 in /usr/local/lib/python3.7/dist-packages (from python-terrier) (1.1.5)\n",
            "Requirement already satisfied: requests in /usr/local/lib/python3.7/dist-packages (from python-terrier) (2.23.0)\n",
            "Requirement already satisfied: deprecation in /usr/local/lib/python3.7/dist-packages (from python-terrier) (2.1.0)\n",
            "Requirement already satisfied: more-itertools in /usr/local/lib/python3.7/dist-packages (from python-terrier) (8.8.0)\n",
            "Requirement already satisfied: numpy in /usr/local/lib/python3.7/dist-packages (from python-terrier) (1.19.5)\n",
            "Requirement already satisfied: tqdm in /usr/local/lib/python3.7/dist-packages (from python-terrier) (4.41.1)\n",
            "Requirement already satisfied: matchpy in /usr/local/lib/python3.7/dist-packages (from python-terrier) (0.5.4)\n",
            "Requirement already satisfied: wget in /usr/local/lib/python3.7/dist-packages (from python-terrier) (3.2)\n",
            "Requirement already satisfied: chest in /usr/local/lib/python3.7/dist-packages (from python-terrier) (0.2.3)\n",
            "Requirement already satisfied: sklearn in /usr/local/lib/python3.7/dist-packages (from python-terrier) (0.0)\n",
            "Requirement already satisfied: nptyping in /usr/local/lib/python3.7/dist-packages (from python-terrier) (1.4.2)\n",
            "Requirement already satisfied: statsmodels in /usr/local/lib/python3.7/dist-packages (from python-terrier) (0.10.2)\n",
            "Requirement already satisfied: jinja2 in /usr/local/lib/python3.7/dist-packages (from python-terrier) (2.11.3)\n",
            "Requirement already satisfied: joblib in /usr/local/lib/python3.7/dist-packages (from python-terrier) (1.0.1)\n",
            "Requirement already satisfied: smart-open>=1.2.1 in /usr/local/lib/python3.7/dist-packages (from gensim) (5.1.0)\n",
            "Requirement already satisfied: six>=1.5.0 in /usr/local/lib/python3.7/dist-packages (from gensim) (1.15.0)\n",
            "Requirement already satisfied: cython in /usr/local/lib/python3.7/dist-packages (from pyjnius~=1.3.0->python-terrier) (0.29.23)\n",
            "Requirement already satisfied: beautifulsoup4>=4.4.1 in /usr/local/lib/python3.7/dist-packages (from ir-datasets>=0.3.2->python-terrier) (4.6.3)\n",
            "Requirement already satisfied: lxml>=4.5.2 in /usr/local/lib/python3.7/dist-packages (from ir-datasets>=0.3.2->python-terrier) (4.6.3)\n",
            "Requirement already satisfied: trec-car-tools>=2.5.4 in /usr/local/lib/python3.7/dist-packages (from ir-datasets>=0.3.2->python-terrier) (2.5.4)\n",
            "Requirement already satisfied: warc3-wet>=0.2.3 in /usr/local/lib/python3.7/dist-packages (from ir-datasets>=0.3.2->python-terrier) (0.2.3)\n",
            "Requirement already satisfied: ijson>=3.1.3 in /usr/local/lib/python3.7/dist-packages (from ir-datasets>=0.3.2->python-terrier) (3.1.4)\n",
            "Requirement already satisfied: lz4>=3.1.1 in /usr/local/lib/python3.7/dist-packages (from ir-datasets>=0.3.2->python-terrier) (3.1.3)\n",
            "Requirement already satisfied: warc3-wet-clueweb09>=0.2.5 in /usr/local/lib/python3.7/dist-packages (from ir-datasets>=0.3.2->python-terrier) (0.2.5)\n",
            "Requirement already satisfied: zlib-state>=0.1.3 in /usr/local/lib/python3.7/dist-packages (from ir-datasets>=0.3.2->python-terrier) (0.1.3)\n",
            "Requirement already satisfied: pyyaml>=5.3.1 in /usr/local/lib/python3.7/dist-packages (from ir-datasets>=0.3.2->python-terrier) (5.4.1)\n",
            "Requirement already satisfied: pytrec-eval-terrier==0.5.1 in /usr/local/lib/python3.7/dist-packages (from ir-measures>=0.1.4->python-terrier) (0.5.1)\n",
            "Requirement already satisfied: pytz>=2017.2 in /usr/local/lib/python3.7/dist-packages (from pandas>=0.25.0->python-terrier) (2018.9)\n",
            "Requirement already satisfied: python-dateutil>=2.7.3 in /usr/local/lib/python3.7/dist-packages (from pandas>=0.25.0->python-terrier) (2.8.1)\n",
            "Requirement already satisfied: urllib3!=1.25.0,!=1.25.1,<1.26,>=1.21.1 in /usr/local/lib/python3.7/dist-packages (from requests->python-terrier) (1.24.3)\n",
            "Requirement already satisfied: certifi>=2017.4.17 in /usr/local/lib/python3.7/dist-packages (from requests->python-terrier) (2021.5.30)\n",
            "Requirement already satisfied: chardet<4,>=3.0.2 in /usr/local/lib/python3.7/dist-packages (from requests->python-terrier) (3.0.4)\n",
            "Requirement already satisfied: idna<3,>=2.5 in /usr/local/lib/python3.7/dist-packages (from requests->python-terrier) (2.10)\n",
            "Requirement already satisfied: packaging in /usr/local/lib/python3.7/dist-packages (from deprecation->python-terrier) (20.9)\n",
            "Requirement already satisfied: multiset<3.0,>=2.0 in /usr/local/lib/python3.7/dist-packages (from matchpy->python-terrier) (2.1.1)\n",
            "Requirement already satisfied: heapdict in /usr/local/lib/python3.7/dist-packages (from chest->python-terrier) (1.0.1)\n",
            "Requirement already satisfied: scikit-learn in /usr/local/lib/python3.7/dist-packages (from sklearn->python-terrier) (0.22.2.post1)\n",
            "Requirement already satisfied: typish>=1.7.0 in /usr/local/lib/python3.7/dist-packages (from nptyping->python-terrier) (1.9.2)\n",
            "Requirement already satisfied: patsy>=0.4.0 in /usr/local/lib/python3.7/dist-packages (from statsmodels->python-terrier) (0.5.1)\n",
            "Requirement already satisfied: MarkupSafe>=0.23 in /usr/local/lib/python3.7/dist-packages (from jinja2->python-terrier) (2.0.1)\n",
            "Requirement already satisfied: cbor>=1.0.0 in /usr/local/lib/python3.7/dist-packages (from trec-car-tools>=2.5.4->ir-datasets>=0.3.2->python-terrier) (1.0.0)\n",
            "Requirement already satisfied: pyparsing>=2.0.2 in /usr/local/lib/python3.7/dist-packages (from packaging->deprecation->python-terrier) (2.4.7)\n"
          ],
          "name": "stdout"
        }
      ]
    },
    {
      "cell_type": "code",
      "metadata": {
        "id": "pEJSTrbdfdK8"
      },
      "source": [
        "import pyterrier as pt\n",
        "if not pt.started():\n",
        "  pt.init()\n",
        "\n",
        "import pandas as pd\n",
        "pd.set_option('display.max_colwidth', 150)\n",
        "pd.set_option('display.max_rows', 200)"
      ],
      "execution_count": null,
      "outputs": []
    },
    {
      "cell_type": "markdown",
      "metadata": {
        "id": "NJRbjP2_64IV"
      },
      "source": [
        "# Datasets for Ex2\n",
        "\n",
        "For Exercise 2, we'll be using the Datasets API to obtain the files we need for this exercise. PyTerrier actually provides many datasets. You can list all of them using `pt.list_datasets()`."
      ]
    },
    {
      "cell_type": "code",
      "metadata": {
        "colab": {
          "base_uri": "https://localhost:8080/",
          "height": 470
        },
        "id": "9ZJDJ6dl-X2R",
        "outputId": "a0e51848-4c64-4c9d-f0b3-abe6ee28e066"
      },
      "source": [
        "pt.list_datasets()"
      ],
      "execution_count": null,
      "outputs": [
        {
          "output_type": "execute_result",
          "data": {
            "text/html": [
              "<div>\n",
              "<style scoped>\n",
              "    .dataframe tbody tr th:only-of-type {\n",
              "        vertical-align: middle;\n",
              "    }\n",
              "\n",
              "    .dataframe tbody tr th {\n",
              "        vertical-align: top;\n",
              "    }\n",
              "\n",
              "    .dataframe thead th {\n",
              "        text-align: right;\n",
              "    }\n",
              "</style>\n",
              "<table border=\"1\" class=\"dataframe\">\n",
              "  <thead>\n",
              "    <tr style=\"text-align: right;\">\n",
              "      <th></th>\n",
              "      <th>dataset</th>\n",
              "      <th>topics</th>\n",
              "      <th>topics_lang</th>\n",
              "      <th>qrels</th>\n",
              "      <th>corpus</th>\n",
              "      <th>corpus_lang</th>\n",
              "      <th>index</th>\n",
              "      <th>info_url</th>\n",
              "    </tr>\n",
              "  </thead>\n",
              "  <tbody>\n",
              "    <tr>\n",
              "      <th>0</th>\n",
              "      <td>50pct</td>\n",
              "      <td>[training, validation]</td>\n",
              "      <td>en</td>\n",
              "      <td>[training, validation]</td>\n",
              "      <td>None</td>\n",
              "      <td>None</td>\n",
              "      <td>[ex1, ex2]</td>\n",
              "      <td>None</td>\n",
              "    </tr>\n",
              "    <tr>\n",
              "      <th>1</th>\n",
              "      <td>antique</td>\n",
              "      <td>[train, test]</td>\n",
              "      <td>en</td>\n",
              "      <td>[train, test]</td>\n",
              "      <td>True</td>\n",
              "      <td>en</td>\n",
              "      <td>None</td>\n",
              "      <td>https://ciir.cs.umass.edu/downloads/Antique/readme.txt</td>\n",
              "    </tr>\n",
              "    <tr>\n",
              "      <th>2</th>\n",
              "      <td>vaswani</td>\n",
              "      <td>True</td>\n",
              "      <td>en</td>\n",
              "      <td>True</td>\n",
              "      <td>True</td>\n",
              "      <td>en</td>\n",
              "      <td>True</td>\n",
              "      <td>http://ir.dcs.gla.ac.uk/resources/test_collections/npl/</td>\n",
              "    </tr>\n",
              "    <tr>\n",
              "      <th>3</th>\n",
              "      <td>trec-deep-learning-docs</td>\n",
              "      <td>[train, dev, test, test-2020, leaderboard-2020]</td>\n",
              "      <td>en</td>\n",
              "      <td>[train, dev, test, test-2020]</td>\n",
              "      <td>True</td>\n",
              "      <td>en</td>\n",
              "      <td>None</td>\n",
              "      <td>https://microsoft.github.io/msmarco/</td>\n",
              "    </tr>\n",
              "    <tr>\n",
              "      <th>4</th>\n",
              "      <td>trec-deep-learning-passages</td>\n",
              "      <td>[train, dev, dev.small, eval, eval.small, test-2019, test-2020]</td>\n",
              "      <td>en</td>\n",
              "      <td>[train, dev, test-2019, test-2020, dev.small]</td>\n",
              "      <td>True</td>\n",
              "      <td>en</td>\n",
              "      <td>None</td>\n",
              "      <td>https://microsoft.github.io/MSMARCO-Passage-Ranking/</td>\n",
              "    </tr>\n",
              "    <tr>\n",
              "      <th>...</th>\n",
              "      <td>...</td>\n",
              "      <td>...</td>\n",
              "      <td>...</td>\n",
              "      <td>...</td>\n",
              "      <td>...</td>\n",
              "      <td>...</td>\n",
              "      <td>...</td>\n",
              "      <td>...</td>\n",
              "    </tr>\n",
              "    <tr>\n",
              "      <th>289</th>\n",
              "      <td>irds:wikir/en1k/validation</td>\n",
              "      <td>True</td>\n",
              "      <td>en</td>\n",
              "      <td>True</td>\n",
              "      <td>True</td>\n",
              "      <td>en</td>\n",
              "      <td>None</td>\n",
              "      <td>https://ir-datasets.com/wikir.html#wikir/en1k/validation</td>\n",
              "    </tr>\n",
              "    <tr>\n",
              "      <th>290</th>\n",
              "      <td>irds:wikir/en59k</td>\n",
              "      <td>None</td>\n",
              "      <td>None</td>\n",
              "      <td>None</td>\n",
              "      <td>True</td>\n",
              "      <td>en</td>\n",
              "      <td>None</td>\n",
              "      <td>https://ir-datasets.com/wikir.html#wikir/en59k</td>\n",
              "    </tr>\n",
              "    <tr>\n",
              "      <th>291</th>\n",
              "      <td>irds:wikir/en59k/test</td>\n",
              "      <td>True</td>\n",
              "      <td>en</td>\n",
              "      <td>True</td>\n",
              "      <td>True</td>\n",
              "      <td>en</td>\n",
              "      <td>None</td>\n",
              "      <td>https://ir-datasets.com/wikir.html#wikir/en59k/test</td>\n",
              "    </tr>\n",
              "    <tr>\n",
              "      <th>292</th>\n",
              "      <td>irds:wikir/en59k/training</td>\n",
              "      <td>True</td>\n",
              "      <td>en</td>\n",
              "      <td>True</td>\n",
              "      <td>True</td>\n",
              "      <td>en</td>\n",
              "      <td>None</td>\n",
              "      <td>https://ir-datasets.com/wikir.html#wikir/en59k/training</td>\n",
              "    </tr>\n",
              "    <tr>\n",
              "      <th>293</th>\n",
              "      <td>irds:wikir/en59k/validation</td>\n",
              "      <td>True</td>\n",
              "      <td>en</td>\n",
              "      <td>True</td>\n",
              "      <td>True</td>\n",
              "      <td>en</td>\n",
              "      <td>None</td>\n",
              "      <td>https://ir-datasets.com/wikir.html#wikir/en59k/validation</td>\n",
              "    </tr>\n",
              "  </tbody>\n",
              "</table>\n",
              "<p>259 rows × 8 columns</p>\n",
              "</div>"
            ],
            "text/plain": [
              "                         dataset  ...                                                   info_url\n",
              "0                          50pct  ...                                                       None\n",
              "1                        antique  ...     https://ciir.cs.umass.edu/downloads/Antique/readme.txt\n",
              "2                        vaswani  ...    http://ir.dcs.gla.ac.uk/resources/test_collections/npl/\n",
              "3        trec-deep-learning-docs  ...                       https://microsoft.github.io/msmarco/\n",
              "4    trec-deep-learning-passages  ...       https://microsoft.github.io/MSMARCO-Passage-Ranking/\n",
              "..                           ...  ...                                                        ...\n",
              "289   irds:wikir/en1k/validation  ...   https://ir-datasets.com/wikir.html#wikir/en1k/validation\n",
              "290             irds:wikir/en59k  ...             https://ir-datasets.com/wikir.html#wikir/en59k\n",
              "291        irds:wikir/en59k/test  ...        https://ir-datasets.com/wikir.html#wikir/en59k/test\n",
              "292    irds:wikir/en59k/training  ...    https://ir-datasets.com/wikir.html#wikir/en59k/training\n",
              "293  irds:wikir/en59k/validation  ...  https://ir-datasets.com/wikir.html#wikir/en59k/validation\n",
              "\n",
              "[259 rows x 8 columns]"
            ]
          },
          "metadata": {
            "tags": []
          },
          "execution_count": 225
        }
      ]
    },
    {
      "cell_type": "markdown",
      "metadata": {
        "id": "wD3GIPfC7EHS"
      },
      "source": [
        "There are several sets of files we need for Exercise 2:\n",
        " - the index for 50% of the TREC GOV corpus. We provide this through the \"50pct\" dataset, but you will need the username and password that we will assign to you once you sign the user license agreement.\n",
        " - the topics (queries) and qrels (relevance assessments) for evaluating the performance of our search engine. These come from the \"trec-wt-2004\" dataset.\n",
        "\n",
        "Update your username and password. DO NOT SHARE your login details with other students - all they need to do is to agree to the agreement on Moodle.\n",
        "\n"
      ]
    },
    {
      "cell_type": "code",
      "metadata": {
        "id": "GzxpU1Kn7t8n"
      },
      "source": [
        "USERNAME = \"2576183s\"\n",
        "PASSWORD = \"9c8d7804\"\n",
        "\n",
        "dotgov_50pct = pt.get_dataset(\"50pct\", user=USERNAME, password=PASSWORD)\n",
        "dotgov_topicsqrels = pt.get_dataset(\"trec-wt-2004\")"
      ],
      "execution_count": null,
      "outputs": []
    },
    {
      "cell_type": "markdown",
      "metadata": {
        "id": "xi4PSIgmaN5K"
      },
      "source": [
        "The size of the \"50pct\" index is 800MB - this will take a minute or so for Colab to download before we load it for the first time."
      ]
    },
    {
      "cell_type": "code",
      "metadata": {
        "id": "SLGyh2OkuaXd"
      },
      "source": [
        "indexref = dotgov_50pct.get_index()\n",
        "index = pt.IndexFactory.of(indexref)\n"
      ],
      "execution_count": null,
      "outputs": []
    },
    {
      "cell_type": "markdown",
      "metadata": {
        "id": "L0BTGU9_aQ44"
      },
      "source": [
        "# Q1\n",
        "\n",
        "Using this setup, you now have sufficient knowledge from the introductory lab to complete Q1 of this assessed exercise, namely to get the indexing statistics of the \"50pct\" collection."
      ]
    },
    {
      "cell_type": "code",
      "metadata": {
        "colab": {
          "base_uri": "https://localhost:8080/"
        },
        "id": "DD2dAGIdLQg7",
        "outputId": "1462c898-2262-404d-a78e-d52770c440eb"
      },
      "source": [
        "#YOUR SOLUTION\n",
        "# Print the index collection statistics \n",
        "print(index.getCollectionStatistics())"
      ],
      "execution_count": null,
      "outputs": [
        {
          "output_type": "stream",
          "text": [
            "Number of documents: 807775\n",
            "Number of terms: 2043788\n",
            "Number of postings: 177737957\n",
            "Number of fields: 0\n",
            "Number of tokens: 572916194\n",
            "Field names: []\n",
            "Positions:   false\n",
            "\n"
          ],
          "name": "stdout"
        }
      ]
    },
    {
      "cell_type": "markdown",
      "metadata": {
        "id": "rzW2v-qchgIF"
      },
      "source": [
        "# Retrieval & Evaluation\n",
        "\n",
        "In our experiments, we are using three sets of topics: \"hp\", \"np\" and \"td\". We can obtain them from the `dotgov_topicsqrels` dataset as follows:"
      ]
    },
    {
      "cell_type": "code",
      "metadata": {
        "colab": {
          "base_uri": "https://localhost:8080/",
          "height": 204
        },
        "id": "qR5fkwEglDIA",
        "outputId": "c07dd764-6d85-4df0-c134-1cf7c85b325b"
      },
      "source": [
        "topics = dotgov_topicsqrels.get_topics(variant=\"hp\")\n",
        "topics.head(5)"
      ],
      "execution_count": null,
      "outputs": [
        {
          "output_type": "execute_result",
          "data": {
            "text/html": [
              "<div>\n",
              "<style scoped>\n",
              "    .dataframe tbody tr th:only-of-type {\n",
              "        vertical-align: middle;\n",
              "    }\n",
              "\n",
              "    .dataframe tbody tr th {\n",
              "        vertical-align: top;\n",
              "    }\n",
              "\n",
              "    .dataframe thead th {\n",
              "        text-align: right;\n",
              "    }\n",
              "</style>\n",
              "<table border=\"1\" class=\"dataframe\">\n",
              "  <thead>\n",
              "    <tr style=\"text-align: right;\">\n",
              "      <th></th>\n",
              "      <th>qid</th>\n",
              "      <th>query</th>\n",
              "    </tr>\n",
              "  </thead>\n",
              "  <tbody>\n",
              "    <tr>\n",
              "      <th>0</th>\n",
              "      <td>6</td>\n",
              "      <td>philadelphia streets</td>\n",
              "    </tr>\n",
              "    <tr>\n",
              "      <th>1</th>\n",
              "      <td>7</td>\n",
              "      <td>togo embassy</td>\n",
              "    </tr>\n",
              "    <tr>\n",
              "      <th>2</th>\n",
              "      <td>9</td>\n",
              "      <td>baltimore</td>\n",
              "    </tr>\n",
              "    <tr>\n",
              "      <th>3</th>\n",
              "      <td>17</td>\n",
              "      <td>secure linux</td>\n",
              "    </tr>\n",
              "    <tr>\n",
              "      <th>4</th>\n",
              "      <td>29</td>\n",
              "      <td>grand canyon monitoring and research center</td>\n",
              "    </tr>\n",
              "  </tbody>\n",
              "</table>\n",
              "</div>"
            ],
            "text/plain": [
              "  qid                                        query\n",
              "0   6                         philadelphia streets\n",
              "1   7                                 togo embassy\n",
              "2   9                                    baltimore\n",
              "3  17                                 secure linux\n",
              "4  29  grand canyon monitoring and research center"
            ]
          },
          "metadata": {
            "tags": []
          },
          "execution_count": 229
        }
      ]
    },
    {
      "cell_type": "markdown",
      "metadata": {
        "id": "aDjZa_9v_vuw"
      },
      "source": [
        "Let's create a simple TF_IDF retriever - we will use this for demonstrating IR evaluation using PyTerrier."
      ]
    },
    {
      "cell_type": "code",
      "metadata": {
        "id": "vfqR_MHF7wvn"
      },
      "source": [
        "retr = pt.BatchRetrieve(index, wmodel=\"TF_IDF\")"
      ],
      "execution_count": null,
      "outputs": []
    },
    {
      "cell_type": "markdown",
      "metadata": {
        "id": "JeNYoPbrj7FN"
      },
      "source": [
        "Let's see how we can actually evaluate our TF_IDF retrieval system. Firstly, we'll need the qrels."
      ]
    },
    {
      "cell_type": "code",
      "metadata": {
        "id": "uvw_CXrak5MQ"
      },
      "source": [
        "qrels = dotgov_topicsqrels.get_qrels(variant='hp')"
      ],
      "execution_count": null,
      "outputs": []
    },
    {
      "cell_type": "markdown",
      "metadata": {
        "id": "ON8yEcWukIIA"
      },
      "source": [
        "We can use `pt.Utils.evaluate(results, qrels)` to evaluate the results    \n",
        "Args:    \n",
        " - metrics, `default = [\"map\", ndcg\"]`, select the evaluation metrics    \n",
        " - perquery, `default = False`, select whether to show the mean of the metrics over all queries or the metrics for each query"
      ]
    },
    {
      "cell_type": "code",
      "metadata": {
        "colab": {
          "base_uri": "https://localhost:8080/"
        },
        "id": "LXfETppwj55p",
        "outputId": "8bcd85da-593b-4adc-bd4f-9b536ef526c8"
      },
      "source": [
        "res = retr.transform(topics)\n",
        "eval = pt.Utils.evaluate(res, qrels, metrics=[\"map\"])\n",
        "eval"
      ],
      "execution_count": null,
      "outputs": [
        {
          "output_type": "execute_result",
          "data": {
            "text/plain": [
              "{'map': 0.20894845478512017}"
            ]
          },
          "metadata": {
            "tags": []
          },
          "execution_count": 232
        }
      ]
    },
    {
      "cell_type": "markdown",
      "metadata": {
        "id": "Ph_ZxuEPJVeN"
      },
      "source": [
        "However, creating the res dataframe for each system in turn, and then evaluating it is laborious. We strongly recommend using [`pt.Experiment()`](https://pyterrier.readthedocs.io/en/latest/experiments.html) to evaluate one or more retrieval systems at once, in a declarative manner. \n",
        "\n",
        "Take the time to read the [documentation for `pt.Experiment()`](https://pyterrier.readthedocs.io/en/latest/experiments.html) to understand its available functionality. Q2-Q4 will all require that you adapt the arguments to `pt.Experiment()` and use its output in different ways (e.g. for significance testing)."
      ]
    },
    {
      "cell_type": "code",
      "metadata": {
        "colab": {
          "base_uri": "https://localhost:8080/",
          "height": 80
        },
        "id": "hdUacQVaJVpd",
        "outputId": "81670b18-2e3f-481b-ad19-7fc8de4ded22"
      },
      "source": [
        "pt.Experiment(\n",
        "    [retr],\n",
        "     dotgov_topicsqrels.get_topics(variant='hp'),\n",
        "     dotgov_topicsqrels.get_qrels(variant='hp'), \n",
        "     eval_metrics=['map']\n",
        ")"
      ],
      "execution_count": null,
      "outputs": [
        {
          "output_type": "execute_result",
          "data": {
            "text/html": [
              "<div>\n",
              "<style scoped>\n",
              "    .dataframe tbody tr th:only-of-type {\n",
              "        vertical-align: middle;\n",
              "    }\n",
              "\n",
              "    .dataframe tbody tr th {\n",
              "        vertical-align: top;\n",
              "    }\n",
              "\n",
              "    .dataframe thead th {\n",
              "        text-align: right;\n",
              "    }\n",
              "</style>\n",
              "<table border=\"1\" class=\"dataframe\">\n",
              "  <thead>\n",
              "    <tr style=\"text-align: right;\">\n",
              "      <th></th>\n",
              "      <th>name</th>\n",
              "      <th>map</th>\n",
              "    </tr>\n",
              "  </thead>\n",
              "  <tbody>\n",
              "    <tr>\n",
              "      <th>0</th>\n",
              "      <td>BR(TF_IDF)</td>\n",
              "      <td>0.208948</td>\n",
              "    </tr>\n",
              "  </tbody>\n",
              "</table>\n",
              "</div>"
            ],
            "text/plain": [
              "         name       map\n",
              "0  BR(TF_IDF)  0.208948"
            ]
          },
          "metadata": {
            "tags": []
          },
          "execution_count": 233
        }
      ]
    },
    {
      "cell_type": "markdown",
      "metadata": {
        "id": "ZZ-9Oo8ebpu9"
      },
      "source": [
        "# Q2(a)\n",
        "\n",
        "You now have enough information to complete Q2(a) of the assessed exercise. \n",
        "\n",
        "*Hint*: We encourage you to write your own functions that perform reusable operations across different topic sets."
      ]
    },
    {
      "cell_type": "code",
      "metadata": {
        "colab": {
          "base_uri": "https://localhost:8080/"
        },
        "id": "bwSEX6jYIu1r",
        "outputId": "88af75cf-0b85-45d7-a7d5-ff3c18f6086d"
      },
      "source": [
        "#YOUR SOLUTION\n",
        "\n",
        "tfidf_retr = pt.BatchRetrieve(index, wmodel=\"TF_IDF\")\n",
        "bm25_retr = pt.BatchRetrieve(index, wmodel=\"BM25\")\n",
        "pl2_retr = pt.BatchRetrieve(index, wmodel=\"PL2\")\n",
        "\n",
        "# required MAP performances of each of the weighting models over the 3 topic sets. TF_IDF used as a baseline\n",
        "def calculate_MAP_performance(name, topic, qrel):\n",
        "  print(\"----------\" + name + \"----------\")\n",
        "  performance = pt.Experiment(\n",
        "    [tfidf_retr,bm25_retr,pl2_retr],\n",
        "     topic,\n",
        "     qrel, \n",
        "     eval_metrics=['map'],\n",
        "     round={\"map\" : 4 },\n",
        "     names = [\"TF_IDF\", \"BM25\", \"PL2\"],\n",
        "     baseline=0\n",
        "  )\n",
        "  print(performance)\n",
        "  return performance\n",
        "\n",
        "topics_hp =  dotgov_topicsqrels.get_topics(\"hp\")\n",
        "qrels_hp = dotgov_topicsqrels.get_qrels(\"hp\")\n",
        "performance_topics_hp = calculate_MAP_performance(\"Homepage Finding\", topics_hp, qrels_hp)\n",
        "\n",
        "topics_np =  dotgov_topicsqrels.get_topics(\"np\")\n",
        "qrels_np = dotgov_topicsqrels.get_qrels(\"np\")\n",
        "performance_topics_np = calculate_MAP_performance(\"Named Page Finding\", topics_np, qrels_np)\n",
        "\n",
        "topics_td =  dotgov_topicsqrels.get_topics(\"td\")\n",
        "qrels_td = dotgov_topicsqrels.get_qrels(\"td\")\n",
        "performance_topics_td = calculate_MAP_performance(\"Topic Distillation\", topics_td, qrels_td)\n",
        "\n",
        "import numpy as np\n",
        "tf_idf = np.array([performance_topics_hp['map'][0], performance_topics_np['map'][0], performance_topics_td['map'][0]])\n",
        "bm25 = np.array([performance_topics_hp['map'][1], performance_topics_np['map'][1], performance_topics_td['map'][1]])\n",
        "pl2 = np.array([performance_topics_hp['map'][2], performance_topics_np['map'][2], performance_topics_td['map'][2]])\n",
        "\n",
        "avg_tf_idf = np.average(tf_idf)\n",
        "avg_bm25 = np.average(bm25)\n",
        "avg_pl2 = np.average(pl2)\n",
        "avg_map = {'TF_IDF' : round(avg_tf_idf,4), 'BM25' : round(avg_bm25,4), 'PL2' : round(avg_pl2,4) }\n",
        "print(\"Average Map Performances: \")\n",
        "print(avg_map)\n"
      ],
      "execution_count": null,
      "outputs": [
        {
          "output_type": "stream",
          "text": [
            "----------Homepage Finding----------\n",
            "     name     map  map +  map -  map p-value\n",
            "0  TF_IDF  0.2089    NaN    NaN          NaN\n",
            "1    BM25  0.2186   11.0   20.0     0.463462\n",
            "2     PL2  0.2251   17.0   36.0     0.448418\n",
            "----------Named Page Finding----------\n",
            "     name     map  map +  map -  map p-value\n",
            "0  TF_IDF  0.4477    NaN    NaN          NaN\n",
            "1    BM25  0.4416    6.0   11.0     0.066561\n",
            "2     PL2  0.4392   17.0   20.0     0.654736\n",
            "----------Topic Distillation----------\n",
            "     name     map  map +  map -  map p-value\n",
            "0  TF_IDF  0.0698    NaN    NaN          NaN\n",
            "1    BM25  0.0703   26.0   31.0     0.249291\n",
            "2     PL2  0.0695   39.0   36.0     0.862098\n",
            "Average Map Performances: \n",
            "{'TF_IDF': 0.2421, 'BM25': 0.2435, 'PL2': 0.2446}\n"
          ],
          "name": "stdout"
        }
      ]
    },
    {
      "cell_type": "markdown",
      "metadata": {
        "id": "VbIV9xcFe586"
      },
      "source": [
        "#Q2(b) \n",
        "\n",
        "Question 2(b) is concerned with drawing interpolated recall precision graphs, each comparing TFIDF, BM25 and PL2, allowing you to answer the corresponding quiz questions. You will need to use the `\"iprec_at_recall\"` measure. You should have three curves, respectively addressing the \"hp\", \"np\", and \"td\" topic sets.\n",
        "\n",
        "*Hint*: Matplotlib has a [`savefig()`](https://chartio.com/resources/tutorials/how-to-save-a-plot-to-a-file-using-matplotlib/#the-savefig-method) function for saving a PNG of a figure."
      ]
    },
    {
      "cell_type": "code",
      "metadata": {
        "colab": {
          "base_uri": "https://localhost:8080/",
          "height": 1000
        },
        "id": "0oSZxcJl5yw9",
        "outputId": "6cd43fcf-6e8e-45eb-8ba4-777adf6ce815"
      },
      "source": [
        "#YOUR SOLUTION\n",
        "import matplotlib.pyplot as plt\n",
        "\n",
        "def plot_graph( title , performance ):\n",
        "  performance_arr = performance.to_numpy()\n",
        "  print(\"----------\" + title + \"----------\")\n",
        "  plt.plot(np.linspace(0.0,1.0,11),performance_arr[0][1:],'r', label = \"TF_IDF\")\n",
        "  plt.plot(np.linspace(0.0,1.0,11),performance_arr[1][1:], 'y',  label = \"BM25\")\n",
        "  plt.plot(np.linspace(0.0,1.0,11),performance_arr[2][1:], 'b', label = \"PL2\")\n",
        "  plt.legend()\n",
        "  plt.xlabel('Recall')\n",
        "  plt.ylabel('Precision')\n",
        "  plt.title(title)\n",
        "  plt.savefig(title + '.png')\n",
        "  plt.show()\n",
        "\n",
        "def calculate_iprec_plot(title, topic, qrel):\n",
        "  performance = pt.Experiment(\n",
        "    [tfidf_retr,bm25_retr,pl2_retr],\n",
        "     topic,\n",
        "     qrel, \n",
        "     eval_metrics=['iprec_at_recall'],\n",
        "     round={'iprec_at_recall' : 4 }\n",
        " )\n",
        "  print(title)\n",
        "  print(performance['IPrec@0.2'])\n",
        "  print(performance['IPrec@0.3'])\n",
        "  print(performance['IPrec@0.4'])\n",
        "  print(performance['IPrec@0.5'])\n",
        "\n",
        "  plot_graph(title, performance)\n",
        "\n",
        "calculate_iprec_plot('Homepage Finding', topics_hp, qrels_hp )\n",
        "calculate_iprec_plot('Named Page Finding', topics_np, qrels_np )\n",
        "calculate_iprec_plot('Topic Distillation', topics_td, qrels_td )\n"
      ],
      "execution_count": null,
      "outputs": [
        {
          "output_type": "stream",
          "text": [
            "Homepage Finding\n",
            "0    0.213123\n",
            "1    0.222756\n",
            "2    0.229183\n",
            "Name: IPrec@0.2, dtype: float64\n",
            "0    0.213123\n",
            "1    0.222756\n",
            "2    0.229183\n",
            "Name: IPrec@0.3, dtype: float64\n",
            "0    0.213123\n",
            "1    0.222756\n",
            "2    0.229183\n",
            "Name: IPrec@0.4, dtype: float64\n",
            "0    0.213123\n",
            "1    0.222756\n",
            "2    0.229183\n",
            "Name: IPrec@0.5, dtype: float64\n",
            "----------Homepage Finding----------\n"
          ],
          "name": "stdout"
        },
        {
          "output_type": "display_data",
          "data": {
            "image/png": "[encoded data removed]",
            "text/plain": [
              "<Figure size 432x288 with 1 Axes>"
            ]
          },
          "metadata": {
            "tags": [],
            "needs_background": "light"
          }
        },
        {
          "output_type": "stream",
          "text": [
            "Named Page Finding\n",
            "0    0.449847\n",
            "1    0.443682\n",
            "2    0.443162\n",
            "Name: IPrec@0.2, dtype: float64\n",
            "0    0.449847\n",
            "1    0.443682\n",
            "2    0.443162\n",
            "Name: IPrec@0.3, dtype: float64\n",
            "0    0.449847\n",
            "1    0.443682\n",
            "2    0.443162\n",
            "Name: IPrec@0.4, dtype: float64\n",
            "0    0.449847\n",
            "1    0.443682\n",
            "2    0.443162\n",
            "Name: IPrec@0.5, dtype: float64\n",
            "----------Named Page Finding----------\n"
          ],
          "name": "stdout"
        },
        {
          "output_type": "display_data",
          "data": {
            "image/png": "[encoded data removed]",
            "text/plain": [
              "<Figure size 432x288 with 1 Axes>"
            ]
          },
          "metadata": {
            "tags": [],
            "needs_background": "light"
          }
        },
        {
          "output_type": "stream",
          "text": [
            "Topic Distillation\n",
            "0    0.128181\n",
            "1    0.128443\n",
            "2    0.124698\n",
            "Name: IPrec@0.2, dtype: float64\n",
            "0    0.101728\n",
            "1    0.103514\n",
            "2    0.106343\n",
            "Name: IPrec@0.3, dtype: float64\n",
            "0    0.086377\n",
            "1    0.087262\n",
            "2    0.087748\n",
            "Name: IPrec@0.4, dtype: float64\n",
            "0    0.057259\n",
            "1    0.058282\n",
            "2    0.058264\n",
            "Name: IPrec@0.5, dtype: float64\n",
            "----------Topic Distillation----------\n"
          ],
          "name": "stdout"
        },
        {
          "output_type": "display_data",
          "data": {
            "image/png": "[encoded data removed]",
            "text/plain": [
              "<Figure size 432x288 with 1 Axes>"
            ]
          },
          "metadata": {
            "tags": [],
            "needs_background": "light"
          }
        }
      ]
    },
    {
      "cell_type": "markdown",
      "metadata": {
        "id": "ixEtgsSeiKEA"
      },
      "source": [
        "#Q2 (c)\n",
        "\n",
        "Now identify the most effective weighting model in terms of average MAP across the 3 topic sets."
      ]
    },
    {
      "cell_type": "code",
      "metadata": {
        "colab": {
          "base_uri": "https://localhost:8080/"
        },
        "id": "5LNFH_9gIzuB",
        "outputId": "18ad225f-2f84-47c6-cf8c-d4c12bf0c4d3"
      },
      "source": [
        "#YOUR SOLUTION\n",
        "most_effective_model = max(avg_map, key = avg_map.get)\n",
        "\n",
        "print(\"Most Effective Model : \", most_effective_model)"
      ],
      "execution_count": null,
      "outputs": [
        {
          "output_type": "stream",
          "text": [
            "Most Effective Model :  PL2\n"
          ],
          "name": "stdout"
        }
      ]
    },
    {
      "cell_type": "markdown",
      "metadata": {
        "id": "2lmdaFvk56na"
      },
      "source": [
        "# Q3 Query Expansion"
      ]
    },
    {
      "cell_type": "markdown",
      "metadata": {
        "id": "hUE4Kcn18WmR"
      },
      "source": [
        "Query expansion is one of the most well-known and effective techniques for improving the effectiveness of a search engine. We'll be using Terrier's Bo1 query expansion model.\n",
        "\n",
        "See the [relevant documentation](https://pyterrier.readthedocs.io/en/latest/rewrite.html#bo1queryexpansion) about creating a QE transformer pipeline in PyTerrier using the Bo1 model.\n",
        "\n",
        "You now have enough information to conduct Q3(a) and (b).\n",
        "\n"
      ]
    },
    {
      "cell_type": "markdown",
      "metadata": {
        "id": "MYz0Rs1U6ATl"
      },
      "source": [
        "#Q3(a)\n",
        "Run the required experiments for evaluating the application of query expansion on the best weighting model identified in the previous question."
      ]
    },
    {
      "cell_type": "code",
      "metadata": {
        "colab": {
          "base_uri": "https://localhost:8080/"
        },
        "id": "fb0ZKxI7I0vP",
        "outputId": "9206194e-d784-44bd-92c3-b2ab1eb24cb5"
      },
      "source": [
        "#YOUR SOLUTION\n",
        "\n",
        "bo1 = pt.rewrite.Bo1QueryExpansion(index)\n",
        "retr_pl2 = pt.BatchRetrieve(index, wmodel=\"PL2\")\n",
        "pipelineQE = retr_pl2 >> bo1 >> retr_pl2\n",
        "\n",
        "def cal_QE_map(topic, qrel, title):\n",
        "  performance = pt.Experiment(\n",
        "     [pipelineQE],\n",
        "     topic,\n",
        "     qrel, \n",
        "     eval_metrics=['map'],\n",
        "     round= {'map' : 4 },\n",
        "     names = [title]\n",
        "  )\n",
        "  print(performance)\n",
        "  \n",
        "cal_QE_map(topics_hp, qrels_hp, 'Homepage Finding')\n",
        "cal_QE_map(topics_np, qrels_np, 'Named Page Finding')\n",
        "cal_QE_map(topics_td, qrels_td, 'Topic Distillation')\n",
        "\n"
      ],
      "execution_count": null,
      "outputs": [
        {
          "output_type": "stream",
          "text": [
            "               name     map\n",
            "0  Homepage Finding  0.2423\n",
            "                 name     map\n",
            "0  Named Page Finding  0.4442\n",
            "                 name     map\n",
            "0  Topic Distillation  0.0671\n"
          ],
          "name": "stdout"
        }
      ]
    },
    {
      "cell_type": "markdown",
      "metadata": {
        "id": "5yPScO7S_RcC"
      },
      "source": [
        "#Q3(b)\n",
        "\n",
        "This question calls for a query-delta bar chart (See example in Lecture 5). You will need to use the ` perquery=True` option for `pt.Experiment()`. \n",
        "\n",
        "*Hints*: \n",
        " - You may need a [self-join](https://www.w3schools.com/sql/sql_join_self.asp) on a dataframe.\n",
        " - You can iterate through a dataframe using [`dataframe.iterrows()`](https://cmdlinetips.com/2018/12/how-to-loop-through-pandas-rows-or-how-to-iterate-over-pandas-rows/)"
      ]
    },
    {
      "cell_type": "code",
      "metadata": {
        "id": "MZwdWt8sRAKj"
      },
      "source": [
        "#YOUR SOLUTION\n",
        "def create_query_delta_chart(performanceQE,performancePL2):\n",
        "  combined_performance = performanceQE.merge( right = performancePL2, left_on='qid', right_on='qid')\n",
        "  qids = []\n",
        "  qid_values = []\n",
        "  inc = 0\n",
        "  dec = 0\n",
        "  for i, row in combined_performance.iterrows():\n",
        "      diff = row['value_x']-row['value_y']\n",
        "      if (abs(diff) > 0.02):\n",
        "        if diff > 0:\n",
        "          inc += 1\n",
        "        else:\n",
        "          dec += 1\n",
        "        qids.append(row['qid'])\n",
        "        qid_values.append(diff)\n",
        "\n",
        "  temp1 = {'qid': qids, 'Delta_AP': qid_values}\n",
        "  temp2 = pd.DataFrame(temp1)\n",
        "  print(\"Queries Improved >2% :\", inc)\n",
        "  print(\"Queries degraded >2%:\", dec)\n",
        "\n",
        "  all_query = topics_td[topics_td['qid'].isin(qids)]\n",
        "  temp3 = temp2.merge( right = topics_td, left_on='qid', right_on='qid')\n",
        "  data_to_plot = temp3.sort_values('Delta_AP', ascending= False)\n",
        "  data_to_plot['xticks'] = data_to_plot['qid']+':' + data_to_plot['query']\n",
        "\n",
        "  plt.bar( data_to_plot['xticks'], data_to_plot['Delta_AP'])\n",
        "  plt.ylabel('DELTA AP')\n",
        "  plt.xlabel('QID: QUERY')\n",
        "  plt.xticks(rotation = 'vertical')\n",
        "  plt.title('QUERY DELTA BAR CHART')\n",
        "  plt.savefig('QueryDeltaBarChartq3.png', bbox_inches ='tight')\n",
        "  plt.show()\n",
        "  \n",
        "  # 3rd displayed\n",
        "  print(data_to_plot.iloc[2]['xticks'])\n",
        "  # 10th disoplayed\n",
        "  print(data_to_plot.iloc[9]['xticks'])\n",
        "  # most positively affected\n",
        "  print(data_to_plot.iloc[0]['xticks'])\n",
        "  # most negatively affected\n",
        "  print(data_to_plot.iloc[13]['xticks'])\n"
      ],
      "execution_count": null,
      "outputs": []
    },
    {
      "cell_type": "code",
      "metadata": {
        "id": "gx0NmYGhwFji"
      },
      "source": [
        "\n",
        "# With query Expansion metrics, per query\n",
        "performance_QE_Bo1_PQ = pt.Experiment(\n",
        "     [pipelineQE],\n",
        "     topics_td,\n",
        "     qrels_td, \n",
        "     eval_metrics=['map'],\n",
        "     perquery = True,\n",
        "     names = ['first']\n",
        "  )\n",
        "\n",
        "# PL2 metrics, per query\n",
        "performancePL2_PQ = pt.Experiment(\n",
        "     [retr_pl2],\n",
        "     topics_td,\n",
        "     qrels_td, \n",
        "     eval_metrics=['map'],\n",
        "     perquery = True,\n",
        "     names = ['second']\n",
        "  )"
      ],
      "execution_count": null,
      "outputs": []
    },
    {
      "cell_type": "code",
      "metadata": {
        "colab": {
          "base_uri": "https://localhost:8080/",
          "height": 686
        },
        "id": "KhrH2ad4KCwr",
        "outputId": "c4194e4f-f748-4c71-b843-a27995040e36"
      },
      "source": [
        "create_query_delta_chart(performance_QE_Bo1_PQ, performancePL2_PQ)\n",
        "print('ufos -')\n",
        "print(pipelineQE.search('ufos')['query'][0])\n",
        "print('skin cancer -')\n",
        "print(pipelineQE.search('skin cancer')['query'][0])"
      ],
      "execution_count": null,
      "outputs": [
        {
          "output_type": "stream",
          "text": [
            "Queries Improved >2% : 8\n",
            "Queries degraded >2%: 6\n"
          ],
          "name": "stdout"
        },
        {
          "output_type": "display_data",
          "data": {
            "image/png": "[encoded data removed]",
            "text/plain": [
              "<Figure size 432x288 with 1 Axes>"
            ]
          },
          "metadata": {
            "tags": [],
            "needs_background": "light"
          }
        },
        {
          "output_type": "stream",
          "text": [
            "87:chronic pain\n",
            "221:homeland security\n",
            "97:ufos\n",
            "74:skin cancer\n",
            "ufos -\n",
            "applypipeline:off ufo^1.782897603 unidentifi^0.293526425 roswel^0.180836979 extraterrestri^0.155083480 forc^0.149192371 fly^0.144446932 blue^0.138189354 book^0.121246517 air^0.115234556 sight^0.114460152\n",
            "skin cancer -\n",
            "applypipeline:off skin^1.402936462 cancer^1.233351080 sunscreen^0.081970932 cell^0.071433646 melanoma^0.070226770 sun^0.068207895 squamou^0.067213993 carcinoma^0.063889040 uv^0.055406079 basal^0.054696254\n"
          ],
          "name": "stdout"
        }
      ]
    },
    {
      "cell_type": "code",
      "metadata": {
        "colab": {
          "base_uri": "https://localhost:8080/"
        },
        "id": "02XhCdMCzsI6",
        "outputId": "99e2809b-2373-482d-aa48-ecefec5b2bef"
      },
      "source": [
        "# With query Expansion metrics, average\n",
        "performance_QE_Bo1 = pt.Experiment(\n",
        "     [pipelineQE],\n",
        "     topics_td,\n",
        "     qrels_td, \n",
        "     eval_metrics=['map'],\n",
        "     round= {'map' : 4 },\n",
        "     names = ['MAP for Bo1']\n",
        "  )\n",
        "\n",
        "# PL2 metrics, average\n",
        "performancePL2 = pt.Experiment(\n",
        "     [retr_pl2],\n",
        "     topics_td,\n",
        "     qrels_td, \n",
        "     eval_metrics=['map'],  \n",
        "     round= {'map' : 4 }, \n",
        "     names = ['MAP for PL2']\n",
        "  )\n",
        "\n",
        "print(performance_QE_Bo1)\n",
        "print(performancePL2)"
      ],
      "execution_count": null,
      "outputs": [
        {
          "output_type": "stream",
          "text": [
            "          name     map\n",
            "0  MAP for Bo1  0.0671\n",
            "          name     map\n",
            "0  MAP for PL2  0.0695\n"
          ],
          "name": "stdout"
        }
      ]
    },
    {
      "cell_type": "markdown",
      "metadata": {
        "id": "-msK8wu79sXy"
      },
      "source": [
        "# Q4 Word Embeddings\n",
        "\n",
        "Q4 asks for a word2vec-based query expansion model. Word2vec (also called word embeddings) is a shallow neural network where semantically similar words end up with similar embedding vectors.\n",
        "\n",
        "If you haven't taken Text-as-Data, you can do some background reading about word embeddings at:\n",
        " - https://towardsdatascience.com/introduction-to-word-embedding-and-word2vec-652d0c2060fa\n",
        " - https://en.wikipedia.org/wiki/Word2vec\n",
        " - https://en.wikipedia.org/wiki/Word_embedding\n",
        "\n",
        "In general, while word2vec is still a very widely used model, note that it has been surpassed by more complex models such as BERT. But word2vec is still useful to consider in the context of query expansion.\n"
      ]
    },
    {
      "cell_type": "markdown",
      "metadata": {
        "id": "Urs_h1V5OBNk"
      },
      "source": [
        "In this part of the exercise, we will use [Gensim](https://radimrehurek.com/gensim/auto_examples/tutorials/run_word2vec.html), a Python toolkit for working with a word2vec model. \n",
        "\n",
        "We are providing a pre-trained word2vec model that Gensim will download and open - the file is very large, so this might take a few minutes to download and a couple of minutes to load. You can read on while it opens."
      ]
    },
    {
      "cell_type": "code",
      "metadata": {
        "colab": {
          "base_uri": "https://localhost:8080/"
        },
        "id": "sd87GzpQafAw",
        "outputId": "509f4672-afa1-4874-85a9-c63e6e173086"
      },
      "source": [
        "import gensim.downloader as api\n",
        "%time model = api.load(\"glove-wiki-gigaword-300\")"
      ],
      "execution_count": null,
      "outputs": [
        {
          "output_type": "stream",
          "text": [
            "CPU times: user 2min 3s, sys: 1.55 s, total: 2min 4s\n",
            "Wall time: 2min 4s\n"
          ],
          "name": "stdout"
        }
      ]
    },
    {
      "cell_type": "markdown",
      "metadata": {
        "id": "gWW6jMYsPdVu"
      },
      "source": [
        "`model` is of type [gensim.models.keyedvectors.KeyedVectors](https://radimrehurek.com/gensim/models/keyedvectors.html#gensim.models.keyedvectors.KeyedVectors).\n",
        "\n",
        "You can think of this as a dictionary mapping string words to the vector embeddings for each word.  For example, we can get the vector for the word `'government'` as follows:"
      ]
    },
    {
      "cell_type": "code",
      "metadata": {
        "colab": {
          "base_uri": "https://localhost:8080/"
        },
        "id": "-qAOz8MNPsXr",
        "outputId": "650a8005-1311-4aee-c46b-6dc2fe6bd437"
      },
      "source": [
        "emb = model.get_vector(\"government\")\n",
        "print(emb.shape)\n",
        "print(emb)"
      ],
      "execution_count": null,
      "outputs": [
        {
          "output_type": "stream",
          "text": [
            "(300,)\n",
            "[ 2.5470e-02 -1.0216e-01 -2.8455e-01  2.8603e-01  1.9018e-01 -4.7529e-01\n",
            "  1.4468e-01  1.9805e-01 -4.2931e-02 -2.9325e+00 -6.3137e-01  9.7630e-02\n",
            "  1.0803e-01  5.4072e-01 -1.1834e-02  6.8399e-01  3.7241e-02 -3.8651e-01\n",
            "  5.1331e-01 -4.0682e-01  3.3802e-01  3.9780e-02  1.0934e+00 -2.6993e-02\n",
            " -3.2652e-01  1.8426e-01  2.5084e-02 -1.9201e-02 -1.9761e-01  4.9951e-01\n",
            " -2.3426e-01 -1.1926e-01  4.3991e-02  3.2443e-01 -2.6306e-01 -1.7991e-01\n",
            "  2.3484e-01  3.4124e-01 -3.1304e-01 -1.9777e-01 -1.9651e-01  2.8835e-01\n",
            " -1.6815e-01  3.8187e-01 -1.6562e-01 -4.0849e-01 -3.9998e-01  2.6185e-01\n",
            " -5.3972e-01  2.4353e-01  1.3366e-01 -3.0213e-01  3.7712e-01  1.8414e-01\n",
            "  7.4082e-03  1.4511e-01  3.2574e-01  1.6853e-01 -1.0872e-01  1.9417e-02\n",
            " -3.2784e-01  3.9864e-01 -7.8588e-01  2.3249e-01  2.8092e-02 -4.3737e-01\n",
            "  1.3954e-01 -4.0254e-01 -3.2712e-01  4.1180e-01  1.3976e-01  6.8819e-01\n",
            "  3.9624e-02  2.7002e-02  2.3729e-01 -6.6964e-02  5.5686e-02  2.4415e-01\n",
            "  1.2575e-03  5.1176e-01  1.3287e-01 -3.3563e-01  4.3484e-01  2.8397e-01\n",
            "  5.1968e-01  1.0791e-01 -7.4799e-02 -3.4167e-03 -1.3757e-01 -5.0712e-02\n",
            " -1.3372e-01 -1.9203e-01 -2.6988e-01  1.2323e-01  3.8608e-01 -2.7709e-02\n",
            " -8.5306e-02  3.0588e-01 -2.0863e-01  5.1200e-01  2.7791e-01 -2.6512e-01\n",
            " -3.6793e-01 -2.7299e-01  1.2325e-01  2.4941e-02 -5.6067e-01  5.3860e-02\n",
            " -6.0468e-02  1.2572e-01 -7.2452e-02 -6.5689e-01 -2.7048e-01 -5.1343e-01\n",
            "  3.5888e-01  2.4968e-01  9.2726e-02  1.1145e-01  4.1245e-01 -8.3346e-01\n",
            "  9.9315e-02 -6.8263e-02 -2.6200e-01  1.5697e-01  6.5353e-02 -6.1494e-01\n",
            "  2.0978e-01  1.9596e-01  1.0233e-02  4.2670e-01 -3.0503e-01 -7.2013e-02\n",
            " -2.5165e-02 -9.4581e-02  4.2129e-01  2.5155e-01  2.1072e-01 -2.4235e-02\n",
            "  3.6006e-01 -1.4018e-01 -9.7339e-02  4.7664e-01 -3.1374e-01  8.3262e-02\n",
            " -5.9347e-01 -1.3060e-01  1.9546e-01  2.6835e-01  4.3899e-02 -1.7273e-02\n",
            "  1.0099e+00 -1.4987e-02  1.7707e-02  3.1759e-01  2.7929e-01  4.5154e-01\n",
            "  1.0662e-02  7.6270e-02  3.9064e-02 -1.2765e-01  1.5507e-01  1.2937e-01\n",
            "  2.8904e-01  5.7720e-02 -4.1774e-01 -1.8795e-01  1.6175e-01 -1.4805e-01\n",
            " -1.9554e-03  1.1287e-01 -2.9316e-01 -2.7471e-01 -7.4981e-01  2.0245e-01\n",
            "  5.4333e-02  2.0324e-01 -4.1409e-01 -2.2466e-01 -1.5163e-01  7.4656e-01\n",
            "  9.3554e-02  2.2191e-01  1.7560e-01 -1.6155e-01 -7.8256e-02  3.3462e-01\n",
            " -1.1481e-01 -3.6853e-02  3.7746e-01 -1.0307e-01  2.1646e-01 -7.7427e-02\n",
            " -6.4254e-02  1.7607e-01  2.8693e-01  4.3777e-01  2.1964e-02  2.3730e-01\n",
            "  2.6717e-02 -1.1660e-01  2.7223e-01 -7.8559e-02  2.1517e-02 -2.8614e-02\n",
            "  1.9661e-03 -2.1028e-01 -1.5228e-01 -2.4300e-02  4.9377e-01 -8.3850e-02\n",
            " -4.5019e-02  5.1382e-02  6.9632e-02  1.0506e-01  1.6457e-01  3.2654e-01\n",
            " -6.0213e-02  2.7409e-01  1.2652e-01  6.7440e-01  6.0100e-01 -6.1608e-02\n",
            " -2.8924e-01  2.1374e-01  2.0753e-02 -1.8507e-01  4.3709e-01 -4.9838e-02\n",
            "  1.3316e-01 -3.4565e-01  2.7452e-01 -6.8051e-02  1.6351e-01  4.9942e-01\n",
            " -3.5026e-02 -5.0862e-02 -1.7264e-01 -1.8708e-01  4.8739e-01 -7.9031e-02\n",
            "  2.0715e-01 -6.5269e-02  3.7214e-01 -1.2470e-02 -6.2193e-01  9.5748e-01\n",
            "  4.7598e-01 -5.1563e-01  9.2283e-02  9.4128e-02  1.2573e-02 -1.8689e-01\n",
            "  2.2435e-01 -1.5478e-01  7.8359e-01 -1.7577e-01 -4.5908e-01  3.9201e-01\n",
            " -4.5039e-01 -1.6417e-01 -1.5380e-01 -1.8668e-01 -1.7151e-02 -5.4394e-02\n",
            "  9.7406e-02 -2.0390e-01  1.4467e-01  2.5500e-01 -1.8374e-01 -9.3682e-02\n",
            "  9.2240e-02  3.2854e-01  6.4037e-02  5.8784e-02  2.4794e-01  1.6599e-01\n",
            " -2.4789e+00  2.0171e-01  1.2950e+00 -1.8016e-01  8.4134e-01 -5.2966e-01\n",
            "  8.2971e-02 -5.5717e-02  2.7861e-01 -1.1111e-01 -2.5051e-02  3.9859e-01\n",
            " -1.1919e-01 -1.6299e-01  1.9196e-01 -2.6775e-01  2.3950e-01 -1.8337e-01\n",
            "  5.0646e-01  9.7249e-01 -1.0446e-01 -5.4483e-01 -1.3254e-01 -7.3358e-02]\n"
          ],
          "name": "stdout"
        }
      ]
    },
    {
      "cell_type": "markdown",
      "metadata": {
        "id": "kTmkl3ZjP5lr"
      },
      "source": [
        "As you can see, each word is represented by a 300-dimension vector.\n",
        "\n",
        "We can also ask `model` for the most similar words to `'government'` using [`model.most_similar()`](https://radimrehurek.com/gensim/models/keyedvectors.html#gensim.models.keyedvectors.KeyedVectors.most_similar). It returns the 10 most similar words, based on the cosine similarity of their emebddings to that of `'government'`. \n",
        "\n",
        "See also: [Example in Gensim documentation](https://radimrehurek.com/gensim/models/keyedvectors.html#what-can-i-do-with-word-vectors)."
      ]
    },
    {
      "cell_type": "code",
      "metadata": {
        "colab": {
          "base_uri": "https://localhost:8080/"
        },
        "id": "Ji4egT__bQYZ",
        "outputId": "8a55aee8-cec8-4e6d-95aa-a21817235096"
      },
      "source": [
        "model.most_similar(\"government\")"
      ],
      "execution_count": null,
      "outputs": [
        {
          "output_type": "execute_result",
          "data": {
            "text/plain": [
              "[('governments', 0.6940836906433105),\n",
              " ('administration', 0.6544793844223022),\n",
              " ('authorities', 0.6283242702484131),\n",
              " ('officials', 0.6262894868850708),\n",
              " ('federal', 0.6101000905036926),\n",
              " ('opposition', 0.6081914901733398),\n",
              " ('official', 0.5788125395774841),\n",
              " ('saying', 0.5778090953826904),\n",
              " ('public', 0.575609564781189),\n",
              " ('ministry', 0.5619341135025024)]"
            ]
          },
          "metadata": {
            "tags": []
          },
          "execution_count": 244
        }
      ]
    },
    {
      "cell_type": "markdown",
      "metadata": {
        "id": "ejW6i4hUQjmp"
      },
      "source": [
        "As you can see, some words are clearly related to the original word `'government'`, including some lexical variations (`'governments'`), as well as semantically similar (`\"authorities\"`) words. You can also see some words that perhaps seem unrelated - probably they are highly weighted because they appeared in similar contexts to `\"government\"` (e.g. `\"saying\"`)."
      ]
    },
    {
      "cell_type": "markdown",
      "metadata": {
        "id": "8ElGY5PwQbd8"
      },
      "source": [
        "#Q4 Word2Vec-based Query Expansion\n",
        "\n",
        "The next task is to use `model` to develop your custom transformer for a word2vec-based query expansion.\n",
        "\n",
        "*Hints*:\n",
        " - Inspired by Pandas, PyTerrier has the notion of [apply functions](https://pyterrier.readthedocs.io/en/latest/apply.html) for applying transformations.\n",
        " - What to do with out-of-vocabulary (OOV) words?\n",
        " - How many similar terms to identify for each existing query term?  \n",
        " - What is the relative importance of these new terms compared to the existing query terms? e.g. you might want to give more emphasis to the original query terms. \n",
        " - How/if to integrate the Word2Vec cosine distance into your weighting formula? \n",
        " - How to deal with special characters not recognised by the default Terrier query parser, causing a QueryParserException (e.g `/`)?\n",
        "\n",
        "You now have sufficient information to make a start on Q4."
      ]
    },
    {
      "cell_type": "code",
      "metadata": {
        "id": "CohQ29flI20e",
        "colab": {
          "base_uri": "https://localhost:8080/"
        },
        "outputId": "ad280d04-f0b0-4e5f-a3ab-eedc55b6da3e"
      },
      "source": [
        "#YOUR SOLUTION\n",
        "def get_similar_words_w2v(query):\n",
        "  # query = query_row['query']\n",
        "  terms = query.split(\" \")\n",
        "  new_terms_weight = []\n",
        "  for each_term in terms:\n",
        "    new_terms = model.most_similar(each_term)\n",
        "    new_terms_weight.append(each_term + '^' +str(3))\n",
        "    for i in range(0,2):\n",
        "      if (new_terms[i][0].isalnum()):\n",
        "        new_terms_weight.append(new_terms[i][0] + '^' +str(new_terms[i][1]))\n",
        "  new_query = ' '.join(map(str, new_terms_weight))\n",
        "  return new_query\n",
        "\n",
        "new_queries = topics_td.apply(lambda row: get_similar_words_w2v(row['query']), axis=1)\n",
        "topics_td_QE = pd.DataFrame({'qid':topics_td['qid'].tolist(), 'query': new_queries.tolist()})\n",
        "\n",
        "performance_QE_custom = pt.Experiment(\n",
        "     [retr_pl2],\n",
        "     topics_td_QE,\n",
        "     qrels_td, \n",
        "     eval_metrics=['map'],  \n",
        "     round= {'map' : 4 }, \n",
        "     names = ['MAP for custom QE']\n",
        "  )\n",
        "print(performance_QE_custom)\n",
        "print(performance_QE_Bo1)\n",
        "print(performancePL2)\n"
      ],
      "execution_count": null,
      "outputs": [
        {
          "output_type": "stream",
          "text": [
            "                name     map\n",
            "0  MAP for custom QE  0.0689\n",
            "          name     map\n",
            "0  MAP for Bo1  0.0671\n",
            "          name     map\n",
            "0  MAP for PL2  0.0695\n"
          ],
          "name": "stdout"
        }
      ]
    },
    {
      "cell_type": "code",
      "metadata": {
        "colab": {
          "base_uri": "https://localhost:8080/"
        },
        "id": "ycCdYLKlQdH7",
        "outputId": "32ba73ba-2675-4420-8de7-39d699bd7c4e"
      },
      "source": [
        "ufo_words = get_similar_words_w2v('ufos')\n",
        "print(ufo_words)\n",
        "# nlp_words = get_similar_words_w2v('Natural Language Processing')\n",
        "# print(nlp_words)\n",
        "\n",
        "ohio_words = get_similar_words_w2v('ohio dams and locks')\n",
        "print(ohio_words)\n",
        "\n",
        "hiv_words = get_similar_words_w2v('hiv aids')\n",
        "print(hiv_words)\n",
        "\n",
        "salmon_words = get_similar_words_w2v('salmon')\n",
        "print(salmon_words)"
      ],
      "execution_count": null,
      "outputs": [
        {
          "output_type": "stream",
          "text": [
            "ufos^3 extraterrestrials^0.6519498825073242 ufo^0.6218308210372925\n",
            "ohio^3 michigan^0.689485490322113 illinois^0.676207423210144 dams^3 reservoirs^0.7382661700248718 dam^0.7074760794639587 and^3 both^0.7574156522750854 well^0.7293297648429871 locks^3 lock^0.6263008713722229 locking^0.4763319790363312\n",
            "hiv^3 aids^0.8710564374923706 infection^0.6605448722839355 aids^3 hiv^0.8710564374923706 malaria^0.6543203592300415\n",
            "salmon^3 trout^0.6639248132705688 fish^0.6541996002197266\n"
          ],
          "name": "stdout"
        }
      ]
    },
    {
      "cell_type": "code",
      "metadata": {
        "colab": {
          "base_uri": "https://localhost:8080/",
          "height": 355
        },
        "id": "LO9l9R6VrJ8J",
        "outputId": "6aaf47bc-699f-4046-d25b-680d42ff62d3"
      },
      "source": [
        "performance_QE_custom_PQ = pt.Experiment(\n",
        "     [retr_pl2],\n",
        "     topics_td_QE,\n",
        "     qrels_td, \n",
        "     eval_metrics=['map'],\n",
        "     perquery = True,\n",
        "     names = ['third']\n",
        "  )\n",
        "\n",
        "combined_performance = performance_QE_custom_PQ.merge( right = performancePL2_PQ, left_on='qid', right_on='qid')\n",
        "qids = []\n",
        "qid_values = []\n",
        "inc = 0\n",
        "dec = 0\n",
        "\n",
        "for i, row in combined_performance.iterrows():\n",
        "    diff = row['value_x']-row['value_y']\n",
        "    if diff > 0:\n",
        "        inc += 1\n",
        "    else:\n",
        "        dec += 1\n",
        "    qids.append(row['qid'])\n",
        "    qid_values.append(diff)\n",
        "\n",
        "temp1 = {'qid': qids, 'Delta_AP': qid_values}\n",
        "temp2 = pd.DataFrame(temp1)\n",
        "print(\"Queries Improved :\", inc)\n",
        "print(\"Queries degraded :\", dec)\n",
        "all_query = topics_td[topics_td['qid'].isin(qids)]\n",
        "temp3 = temp2.merge( right = topics_td, left_on='qid', right_on='qid')\n",
        "data_to_plot = temp3.sort_values('Delta_AP', ascending= False)\n",
        "\n",
        "\n",
        "plt.bar( data_to_plot['qid'], data_to_plot['Delta_AP'])\n",
        "plt.ylabel('DELTA AP')\n",
        "plt.xlabel('QID: QUERY')\n",
        "plt.xticks(rotation = 'vertical')\n",
        "plt.title('QUERY DELTA BAR CHART')\n",
        "plt.show()\n",
        "plt.savefig('QueryDeltaBarChartq4.png')\n"
      ],
      "execution_count": null,
      "outputs": [
        {
          "output_type": "stream",
          "text": [
            "Queries Improved : 25\n",
            "Queries degraded : 50\n"
          ],
          "name": "stdout"
        },
        {
          "output_type": "display_data",
          "data": {
            "image/png": "[encoded data removed]",
            "text/plain": [
              "<Figure size 432x288 with 1 Axes>"
            ]
          },
          "metadata": {
            "tags": [],
            "needs_background": "light"
          }
        },
        {
          "output_type": "display_data",
          "data": {
            "text/plain": [
              "<Figure size 432x288 with 0 Axes>"
            ]
          },
          "metadata": {
            "tags": []
          }
        }
      ]
    },
    {
      "cell_type": "markdown",
      "metadata": {
        "id": "BLuwITIISDL-"
      },
      "source": [
        "# That's all Folks\n",
        "\n",
        "**Submission Instructions:** Complete this notebook, and answer the related questions in the Exercise 2 Quiz Instance on Moodle. As part of the Quiz, you will be asked to upload your .ipynb notebook solution and answer various corresponding questions as per the exercise specification (use File... Download .ipynb).\n",
        "\n",
        "Your responses to the Quiz along with your ipynb notebook solution must be submitted by **Wednesday 16th June 2021, 4:30pm**."
      ]
    }
  ]
}