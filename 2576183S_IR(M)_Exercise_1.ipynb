{
  "nbformat": 4,
  "nbformat_minor": 0,
  "metadata": {
    "colab": {
      "name": "2576183S_Information_Retrieval_Ex1.ipynb",
      "provenance": [],
      "collapsed_sections": []
    },
    "kernelspec": {
      "name": "python3",
      "display_name": "Python 3"
    }
  },
  "cells": [
    {
      "cell_type": "markdown",
      "metadata": {
        "id": "6UxEkLc6yz6J"
      },
      "source": [
        "# Exercise 1 - Pandas and PyTerrier introduction\n",
        "\n",
        "In this notebook, we recap [Pandas](https://pandas.pydata.org/), as well as provide an introduction to [PyTerrier](https://github.com/terrier-org/pyterrier).  This exercise is **an individual assessment** (with a weighting of 5%). \n",
        "\n",
        "At the end of this lab, you must complete the corresponding Exercise 1 assessment Quiz instance on the Moodle page, as well as download the ipynb file and submit it along your answers to the Quiz by **Thursday 10th June 4:40pm**.\n",
        "\n",
        "The intended learning outcomes of this lab are:\n",
        "1. provide an overview/refresher of Pandas for relational data manipulation, including:\n",
        "  - creating Pandas dataframes\n",
        "  - applying relational algebra operations on dataframes (projection, restriction, set-union)\n",
        "  - joining dataframes\n",
        "  - applying functions on dataframes\n",
        "2. provide an introduction to PyTerrier\n",
        "  - installation\n",
        "  - indexing a collection\n",
        "  - accessing an index\n",
        "  - the BatchRetrieve transformer for searching an index \n",
        "  - reformulating queries\n",
        "  - composing transformers together to make retrieval pipelines\n",
        "\n",
        "Pre-requisites:\n",
        " - We assume that you are confident in programming Python, including [lambda functions](https://realpython.com/python-lambda/).\n",
        " - We will **only be supporting notebooks on the Google Colab platform**.\n",
        " - You can also try to use your own personal machine, but if you have problems, you should resort to using Colab.\n",
        "\n",
        "Related Reading:\n",
        " - [Pandas documentation](https://pandas.pydata.org/docs/)\n",
        " - [PyTerrier documentation](https://pyterrier.readthedocs.io/en/latest/)\n"
      ]
    },
    {
      "cell_type": "markdown",
      "metadata": {
        "id": "NlNrCyggueji"
      },
      "source": [
        "## Part 1 - Pandas"
      ]
    },
    {
      "cell_type": "code",
      "metadata": {
        "id": "qpQGo9Sv9yIT"
      },
      "source": [
        "# we need to import pandas. We commonly rename it to pd, to make commands shorter\n",
        "import pandas as pd\n",
        "\n",
        "# let's not truncate Pandas output too much\n",
        "pd.set_option('display.max_colwidth', 150)"
      ],
      "execution_count": null,
      "outputs": []
    },
    {
      "cell_type": "markdown",
      "metadata": {
        "id": "9EhtYovQGJVT"
      },
      "source": [
        "### Constructing a Pandas dataframe"
      ]
    },
    {
      "cell_type": "code",
      "metadata": {
        "id": "Qp7dHcV054TB",
        "colab": {
          "base_uri": "https://localhost:8080/",
          "height": 142
        },
        "outputId": "34a37f0b-698c-47e7-b415-74bc23fada9c"
      },
      "source": [
        "# let's take our data from a list, where each element is the rows of the data.\n",
        "population_data = [\n",
        "  ['California', 38332521],\n",
        "  ['Texas', 26448193],                  \n",
        "  ['Illinois', 12882135]                  \n",
        "]\n",
        "\n",
        "# now we construct a dataframe object. this is our relation\n",
        "# we need to name the columns\n",
        "population_df = pd.DataFrame(population_data, columns=['State', 'Population']) \n",
        "# if we put a variable last in the code cell, its content will be printed\n",
        "population_df"
      ],
      "execution_count": null,
      "outputs": [
        {
          "output_type": "execute_result",
          "data": {
            "text/html": [
              "<div>\n",
              "<style scoped>\n",
              "    .dataframe tbody tr th:only-of-type {\n",
              "        vertical-align: middle;\n",
              "    }\n",
              "\n",
              "    .dataframe tbody tr th {\n",
              "        vertical-align: top;\n",
              "    }\n",
              "\n",
              "    .dataframe thead th {\n",
              "        text-align: right;\n",
              "    }\n",
              "</style>\n",
              "<table border=\"1\" class=\"dataframe\">\n",
              "  <thead>\n",
              "    <tr style=\"text-align: right;\">\n",
              "      <th></th>\n",
              "      <th>State</th>\n",
              "      <th>Population</th>\n",
              "    </tr>\n",
              "  </thead>\n",
              "  <tbody>\n",
              "    <tr>\n",
              "      <th>0</th>\n",
              "      <td>California</td>\n",
              "      <td>38332521</td>\n",
              "    </tr>\n",
              "    <tr>\n",
              "      <th>1</th>\n",
              "      <td>Texas</td>\n",
              "      <td>26448193</td>\n",
              "    </tr>\n",
              "    <tr>\n",
              "      <th>2</th>\n",
              "      <td>Illinois</td>\n",
              "      <td>12882135</td>\n",
              "    </tr>\n",
              "  </tbody>\n",
              "</table>\n",
              "</div>"
            ],
            "text/plain": [
              "        State  Population\n",
              "0  California    38332521\n",
              "1       Texas    26448193\n",
              "2    Illinois    12882135"
            ]
          },
          "metadata": {
            "tags": []
          },
          "execution_count": 152
        }
      ]
    },
    {
      "cell_type": "markdown",
      "metadata": {
        "id": "tsoO8i73Bmlv"
      },
      "source": [
        "As you can see, this is very much like a relation, with a name (`population_df`), a header with attribute names, and rows.\n",
        "\n",
        "We can also make a dataframe using a dictionary:"
      ]
    },
    {
      "cell_type": "code",
      "metadata": {
        "id": "mVeczn_Wvlw6",
        "colab": {
          "base_uri": "https://localhost:8080/",
          "height": 142
        },
        "outputId": "86865c41-9a8d-4a16-b361-81d35c798a1d"
      },
      "source": [
        "population_df = pd.DataFrame({\n",
        "      'State' : ['California', 'Texas', 'Illinois'],\n",
        "      'Population' : [38332521, 26448193, 12882135]\n",
        "    })\n",
        "population_df"
      ],
      "execution_count": null,
      "outputs": [
        {
          "output_type": "execute_result",
          "data": {
            "text/html": [
              "<div>\n",
              "<style scoped>\n",
              "    .dataframe tbody tr th:only-of-type {\n",
              "        vertical-align: middle;\n",
              "    }\n",
              "\n",
              "    .dataframe tbody tr th {\n",
              "        vertical-align: top;\n",
              "    }\n",
              "\n",
              "    .dataframe thead th {\n",
              "        text-align: right;\n",
              "    }\n",
              "</style>\n",
              "<table border=\"1\" class=\"dataframe\">\n",
              "  <thead>\n",
              "    <tr style=\"text-align: right;\">\n",
              "      <th></th>\n",
              "      <th>State</th>\n",
              "      <th>Population</th>\n",
              "    </tr>\n",
              "  </thead>\n",
              "  <tbody>\n",
              "    <tr>\n",
              "      <th>0</th>\n",
              "      <td>California</td>\n",
              "      <td>38332521</td>\n",
              "    </tr>\n",
              "    <tr>\n",
              "      <th>1</th>\n",
              "      <td>Texas</td>\n",
              "      <td>26448193</td>\n",
              "    </tr>\n",
              "    <tr>\n",
              "      <th>2</th>\n",
              "      <td>Illinois</td>\n",
              "      <td>12882135</td>\n",
              "    </tr>\n",
              "  </tbody>\n",
              "</table>\n",
              "</div>"
            ],
            "text/plain": [
              "        State  Population\n",
              "0  California    38332521\n",
              "1       Texas    26448193\n",
              "2    Illinois    12882135"
            ]
          },
          "metadata": {
            "tags": []
          },
          "execution_count": 153
        }
      ]
    },
    {
      "cell_type": "markdown",
      "metadata": {
        "id": "30zr36uBwMgN"
      },
      "source": [
        "Dataframes have attributes (such as length).\n"
      ]
    },
    {
      "cell_type": "code",
      "metadata": {
        "id": "7oIvyT__v632",
        "colab": {
          "base_uri": "https://localhost:8080/"
        },
        "outputId": "19905a20-60e9-4308-dbc6-7559b5b527ee"
      },
      "source": [
        "len(population_df)"
      ],
      "execution_count": null,
      "outputs": [
        {
          "output_type": "execute_result",
          "data": {
            "text/plain": [
              "3"
            ]
          },
          "metadata": {
            "tags": []
          },
          "execution_count": 154
        }
      ]
    },
    {
      "cell_type": "markdown",
      "metadata": {
        "id": "GhyF_0pawkly"
      },
      "source": [
        "Each column is typed (actually using Numpy datatypes)"
      ]
    },
    {
      "cell_type": "code",
      "metadata": {
        "id": "AlrRiW06wVQZ",
        "colab": {
          "base_uri": "https://localhost:8080/"
        },
        "outputId": "58c01434-9fba-42cf-abfe-2b692a26edfd"
      },
      "source": [
        "population_df.dtypes"
      ],
      "execution_count": null,
      "outputs": [
        {
          "output_type": "execute_result",
          "data": {
            "text/plain": [
              "State         object\n",
              "Population     int64\n",
              "dtype: object"
            ]
          },
          "metadata": {
            "tags": []
          },
          "execution_count": 155
        }
      ]
    },
    {
      "cell_type": "markdown",
      "metadata": {
        "id": "Wt8s9GkMAsiL"
      },
      "source": [
        "\n",
        "### Projection"
      ]
    },
    {
      "cell_type": "markdown",
      "metadata": {
        "id": "SaV7E9Uc-OJq"
      },
      "source": [
        "Ok, we now have a dataframe. Unlike a relation, this has order, so we can ask to *select* the first or second rows:"
      ]
    },
    {
      "cell_type": "code",
      "metadata": {
        "id": "lTEUphBB9t5I",
        "colab": {
          "base_uri": "https://localhost:8080/"
        },
        "outputId": "d0e362ac-c8c4-4959-ae25-b05a3d74a098"
      },
      "source": [
        "population_df.iloc[1]"
      ],
      "execution_count": null,
      "outputs": [
        {
          "output_type": "execute_result",
          "data": {
            "text/plain": [
              "State            Texas\n",
              "Population    26448193\n",
              "Name: 1, dtype: object"
            ]
          },
          "metadata": {
            "tags": []
          },
          "execution_count": 156
        }
      ]
    },
    {
      "cell_type": "markdown",
      "metadata": {
        "id": "F1KwS-vp_O9C"
      },
      "source": [
        "We'll return to selection shortly.\n",
        "\n",
        "We can *project* one column:"
      ]
    },
    {
      "cell_type": "code",
      "metadata": {
        "id": "wHAWpZAE_Hzs",
        "colab": {
          "base_uri": "https://localhost:8080/"
        },
        "outputId": "e2c5206c-6446-437a-c2f5-deaccd38478c"
      },
      "source": [
        "population_df['Population']"
      ],
      "execution_count": null,
      "outputs": [
        {
          "output_type": "execute_result",
          "data": {
            "text/plain": [
              "0    38332521\n",
              "1    26448193\n",
              "2    12882135\n",
              "Name: Population, dtype: int64"
            ]
          },
          "metadata": {
            "tags": []
          },
          "execution_count": 157
        }
      ]
    },
    {
      "cell_type": "markdown",
      "metadata": {
        "id": "NrsWbWo0w08l"
      },
      "source": [
        "When both projecting single rows or columns, we get an object of type [Pandas Series](https://pandas.pydata.org/pandas-docs/stable/reference/series.html). "
      ]
    },
    {
      "cell_type": "code",
      "metadata": {
        "id": "VXkZbpP4w-X7",
        "colab": {
          "base_uri": "https://localhost:8080/"
        },
        "outputId": "769725a3-c21c-4f8b-e660-c5dbe340aa3e"
      },
      "source": [
        "type(population_df['Population'])"
      ],
      "execution_count": null,
      "outputs": [
        {
          "output_type": "execute_result",
          "data": {
            "text/plain": [
              "pandas.core.series.Series"
            ]
          },
          "metadata": {
            "tags": []
          },
          "execution_count": 158
        }
      ]
    },
    {
      "cell_type": "markdown",
      "metadata": {
        "id": "xLszXgqyxBFH"
      },
      "source": [
        "A Pandas Series can be thought of as a kind of dictionary/key-value store. We can ask for a given value using 'dot notation', or square brackets:"
      ]
    },
    {
      "cell_type": "code",
      "metadata": {
        "id": "FAV-K4KsxTtx",
        "colab": {
          "base_uri": "https://localhost:8080/",
          "height": 37
        },
        "outputId": "d0454694-7c62-44ca-e4b2-5a542f2bfb69"
      },
      "source": [
        "population_df.iloc[1].State"
      ],
      "execution_count": null,
      "outputs": [
        {
          "output_type": "execute_result",
          "data": {
            "application/vnd.google.colaboratory.intrinsic+json": {
              "type": "string"
            },
            "text/plain": [
              "'Texas'"
            ]
          },
          "metadata": {
            "tags": []
          },
          "execution_count": 159
        }
      ]
    },
    {
      "cell_type": "code",
      "metadata": {
        "id": "8YFHeT-_xchT",
        "colab": {
          "base_uri": "https://localhost:8080/",
          "height": 37
        },
        "outputId": "b1bf575f-cd6b-4b9a-e8e3-c486c82df4bf"
      },
      "source": [
        "population_df.iloc[1][\"State\"]"
      ],
      "execution_count": null,
      "outputs": [
        {
          "output_type": "execute_result",
          "data": {
            "application/vnd.google.colaboratory.intrinsic+json": {
              "type": "string"
            },
            "text/plain": [
              "'Texas'"
            ]
          },
          "metadata": {
            "tags": []
          },
          "execution_count": 160
        }
      ]
    },
    {
      "cell_type": "markdown",
      "metadata": {
        "id": "EXJMXq-q_2Wv"
      },
      "source": [
        "On the other hand, if we wanted to project many columns we would end up with a *dataframe* that looks similar to the original one, just with columns reordered).\n",
        "\n",
        "Note how we use an additional `[]` when we want to project many columns - i.e. we are projecting a *list* of columns."
      ]
    },
    {
      "cell_type": "code",
      "metadata": {
        "id": "wVC8tM0J_w-X",
        "colab": {
          "base_uri": "https://localhost:8080/",
          "height": 142
        },
        "outputId": "dd0b7cbc-6f36-49ef-9589-854389462e1f"
      },
      "source": [
        "population_df[['Population', 'State']]"
      ],
      "execution_count": null,
      "outputs": [
        {
          "output_type": "execute_result",
          "data": {
            "text/html": [
              "<div>\n",
              "<style scoped>\n",
              "    .dataframe tbody tr th:only-of-type {\n",
              "        vertical-align: middle;\n",
              "    }\n",
              "\n",
              "    .dataframe tbody tr th {\n",
              "        vertical-align: top;\n",
              "    }\n",
              "\n",
              "    .dataframe thead th {\n",
              "        text-align: right;\n",
              "    }\n",
              "</style>\n",
              "<table border=\"1\" class=\"dataframe\">\n",
              "  <thead>\n",
              "    <tr style=\"text-align: right;\">\n",
              "      <th></th>\n",
              "      <th>Population</th>\n",
              "      <th>State</th>\n",
              "    </tr>\n",
              "  </thead>\n",
              "  <tbody>\n",
              "    <tr>\n",
              "      <th>0</th>\n",
              "      <td>38332521</td>\n",
              "      <td>California</td>\n",
              "    </tr>\n",
              "    <tr>\n",
              "      <th>1</th>\n",
              "      <td>26448193</td>\n",
              "      <td>Texas</td>\n",
              "    </tr>\n",
              "    <tr>\n",
              "      <th>2</th>\n",
              "      <td>12882135</td>\n",
              "      <td>Illinois</td>\n",
              "    </tr>\n",
              "  </tbody>\n",
              "</table>\n",
              "</div>"
            ],
            "text/plain": [
              "   Population       State\n",
              "0    38332521  California\n",
              "1    26448193       Texas\n",
              "2    12882135    Illinois"
            ]
          },
          "metadata": {
            "tags": []
          },
          "execution_count": 161
        }
      ]
    },
    {
      "cell_type": "markdown",
      "metadata": {
        "id": "kJ6AFYvsAn9S"
      },
      "source": [
        "### Union\n",
        "\n",
        "\n",
        "One of the simplest operations in relational algebra is data union. That is uniting two tables to create a third, which contains all the rows of both the first and the second table!\n",
        "\n",
        "Here, we're interested in the union of DataFrames. With Pandas, this operation is carried out using `pd.concat`."
      ]
    },
    {
      "cell_type": "code",
      "metadata": {
        "id": "zkIESYJq_7Ug",
        "colab": {
          "base_uri": "https://localhost:8080/",
          "height": 204
        },
        "outputId": "aae0267d-0cfe-4207-dded-d6a95af70fd4"
      },
      "source": [
        "#we've just been informed about the population of some east coast states\n",
        "population_df_eastcoast = pd.DataFrame([['New York', 19651127], ['Florida', 19552860]], columns=['State', 'Population'])\n",
        "\n",
        "#we can make a new dataframe by concatenating the dataframes - this is the union. \n",
        "population_all_df = pd.concat([population_df, population_df_eastcoast])\n",
        "population_all_df"
      ],
      "execution_count": null,
      "outputs": [
        {
          "output_type": "execute_result",
          "data": {
            "text/html": [
              "<div>\n",
              "<style scoped>\n",
              "    .dataframe tbody tr th:only-of-type {\n",
              "        vertical-align: middle;\n",
              "    }\n",
              "\n",
              "    .dataframe tbody tr th {\n",
              "        vertical-align: top;\n",
              "    }\n",
              "\n",
              "    .dataframe thead th {\n",
              "        text-align: right;\n",
              "    }\n",
              "</style>\n",
              "<table border=\"1\" class=\"dataframe\">\n",
              "  <thead>\n",
              "    <tr style=\"text-align: right;\">\n",
              "      <th></th>\n",
              "      <th>State</th>\n",
              "      <th>Population</th>\n",
              "    </tr>\n",
              "  </thead>\n",
              "  <tbody>\n",
              "    <tr>\n",
              "      <th>0</th>\n",
              "      <td>California</td>\n",
              "      <td>38332521</td>\n",
              "    </tr>\n",
              "    <tr>\n",
              "      <th>1</th>\n",
              "      <td>Texas</td>\n",
              "      <td>26448193</td>\n",
              "    </tr>\n",
              "    <tr>\n",
              "      <th>2</th>\n",
              "      <td>Illinois</td>\n",
              "      <td>12882135</td>\n",
              "    </tr>\n",
              "    <tr>\n",
              "      <th>0</th>\n",
              "      <td>New York</td>\n",
              "      <td>19651127</td>\n",
              "    </tr>\n",
              "    <tr>\n",
              "      <th>1</th>\n",
              "      <td>Florida</td>\n",
              "      <td>19552860</td>\n",
              "    </tr>\n",
              "  </tbody>\n",
              "</table>\n",
              "</div>"
            ],
            "text/plain": [
              "        State  Population\n",
              "0  California    38332521\n",
              "1       Texas    26448193\n",
              "2    Illinois    12882135\n",
              "0    New York    19651127\n",
              "1     Florida    19552860"
            ]
          },
          "metadata": {
            "tags": []
          },
          "execution_count": 162
        }
      ]
    },
    {
      "cell_type": "markdown",
      "metadata": {
        "id": "mz40jshoGP9x"
      },
      "source": [
        "###Selection\n",
        "\n",
        "Selection is the filtering of rows. We can do this based on conditions, for instance with a population greater than a threshold, e.g. 30M."
      ]
    },
    {
      "cell_type": "code",
      "metadata": {
        "id": "8cLpByWEIAqA",
        "colab": {
          "base_uri": "https://localhost:8080/",
          "height": 80
        },
        "outputId": "fea3662b-fbdd-465b-8ccf-c31cf7d51994"
      },
      "source": [
        "population_all_df[population_all_df['Population'] > 3e7]"
      ],
      "execution_count": null,
      "outputs": [
        {
          "output_type": "execute_result",
          "data": {
            "text/html": [
              "<div>\n",
              "<style scoped>\n",
              "    .dataframe tbody tr th:only-of-type {\n",
              "        vertical-align: middle;\n",
              "    }\n",
              "\n",
              "    .dataframe tbody tr th {\n",
              "        vertical-align: top;\n",
              "    }\n",
              "\n",
              "    .dataframe thead th {\n",
              "        text-align: right;\n",
              "    }\n",
              "</style>\n",
              "<table border=\"1\" class=\"dataframe\">\n",
              "  <thead>\n",
              "    <tr style=\"text-align: right;\">\n",
              "      <th></th>\n",
              "      <th>State</th>\n",
              "      <th>Population</th>\n",
              "    </tr>\n",
              "  </thead>\n",
              "  <tbody>\n",
              "    <tr>\n",
              "      <th>0</th>\n",
              "      <td>California</td>\n",
              "      <td>38332521</td>\n",
              "    </tr>\n",
              "  </tbody>\n",
              "</table>\n",
              "</div>"
            ],
            "text/plain": [
              "        State  Population\n",
              "0  California    38332521"
            ]
          },
          "metadata": {
            "tags": []
          },
          "execution_count": 163
        }
      ]
    },
    {
      "cell_type": "markdown",
      "metadata": {
        "id": "u1zUQrdaIW1y"
      },
      "source": [
        "What happened here? Let's break this down.\n",
        "\n",
        "Inside the brackets is \n",
        "```python\n",
        "population_all_df['Population'] > 3e7\n",
        "```\n",
        "This identifies all rows that have a population greater than 30 million (I'm using 3e7, a shorthand scientific notation for 30 million). Let's run that by itself"
      ]
    },
    {
      "cell_type": "code",
      "metadata": {
        "id": "2oQwt38oIkTD",
        "colab": {
          "base_uri": "https://localhost:8080/"
        },
        "outputId": "48cded27-f81f-4b75-80cb-e24eeeac649c"
      },
      "source": [
        "population_all_df['Population'] > 3e7"
      ],
      "execution_count": null,
      "outputs": [
        {
          "output_type": "execute_result",
          "data": {
            "text/plain": [
              "0     True\n",
              "1    False\n",
              "2    False\n",
              "0    False\n",
              "1    False\n",
              "Name: Population, dtype: bool"
            ]
          },
          "metadata": {
            "tags": []
          },
          "execution_count": 164
        }
      ]
    },
    {
      "cell_type": "markdown",
      "metadata": {
        "id": "y9_2XLGDIxfY"
      },
      "source": [
        "It evaluates the expression Population > 3e7 for each row, and returns a kind of list (actually a Pandas [Series](https://pandas.pydata.org/pandas-docs/stable/reference/api/pandas.Series.html)), with `True` and `False` values for each row, determining if the row meets the selection condition.\n",
        "\n",
        "By inserting this into `population_all_df[]`, we determine which rows to return (i.e. only those for California)."
      ]
    },
    {
      "cell_type": "markdown",
      "metadata": {
        "id": "rWmlLM9zCYZ6"
      },
      "source": [
        "###Join\n",
        "\n",
        "Another very useful function to manipulate Dataframes is `pd.merge`, which allows you to **join** DataFrames.\n",
        "\n",
        "A join assembles information from one table A with that from another table B according to a chosen criterion. This criterion is called the join condition. This condition is composed of one or more columns that are common to A and B.\n",
        "\n",
        "Here is a quick example to help explain. Let's imagine that we have two Dataframes:\n",
        "\n",
        "*  `df1`  containing a list of employees and the names of the departments in which they work,\n",
        "\n",
        "*  `df2`  containing the same list of employees and their dates of entry into the company.\n",
        "\n",
        "The `pd.merge` function allows us to transform these two Dataframes into one, containing both information.\n",
        "\n",
        "![alt text](https://user.oc-static.com/upload/2018/11/19/15426263274571_15190382351255_foo.png)"
      ]
    },
    {
      "cell_type": "code",
      "metadata": {
        "id": "z5fhpGEeAjJz",
        "colab": {
          "base_uri": "https://localhost:8080/",
          "height": 173
        },
        "outputId": "73346b84-6fb8-44e1-a29a-6861c17b0426"
      },
      "source": [
        "df1 = pd.DataFrame({'employee': ['Bob', 'Jake', 'Lisa', 'Sue'],\n",
        "                    'department': ['Accounting', 'Engineering', 'Engineering', 'HR']})\n",
        "                    \n",
        "df2 = pd.DataFrame({'employee': ['Lisa', 'Bob', 'Jake', 'Sue'],\n",
        "                    'date': [2004, 2008, 2012, 2014]})\n",
        "df3 = pd.merge(df1, df2)\n",
        "df3"
      ],
      "execution_count": null,
      "outputs": [
        {
          "output_type": "execute_result",
          "data": {
            "text/html": [
              "<div>\n",
              "<style scoped>\n",
              "    .dataframe tbody tr th:only-of-type {\n",
              "        vertical-align: middle;\n",
              "    }\n",
              "\n",
              "    .dataframe tbody tr th {\n",
              "        vertical-align: top;\n",
              "    }\n",
              "\n",
              "    .dataframe thead th {\n",
              "        text-align: right;\n",
              "    }\n",
              "</style>\n",
              "<table border=\"1\" class=\"dataframe\">\n",
              "  <thead>\n",
              "    <tr style=\"text-align: right;\">\n",
              "      <th></th>\n",
              "      <th>employee</th>\n",
              "      <th>department</th>\n",
              "      <th>date</th>\n",
              "    </tr>\n",
              "  </thead>\n",
              "  <tbody>\n",
              "    <tr>\n",
              "      <th>0</th>\n",
              "      <td>Bob</td>\n",
              "      <td>Accounting</td>\n",
              "      <td>2008</td>\n",
              "    </tr>\n",
              "    <tr>\n",
              "      <th>1</th>\n",
              "      <td>Jake</td>\n",
              "      <td>Engineering</td>\n",
              "      <td>2012</td>\n",
              "    </tr>\n",
              "    <tr>\n",
              "      <th>2</th>\n",
              "      <td>Lisa</td>\n",
              "      <td>Engineering</td>\n",
              "      <td>2004</td>\n",
              "    </tr>\n",
              "    <tr>\n",
              "      <th>3</th>\n",
              "      <td>Sue</td>\n",
              "      <td>HR</td>\n",
              "      <td>2014</td>\n",
              "    </tr>\n",
              "  </tbody>\n",
              "</table>\n",
              "</div>"
            ],
            "text/plain": [
              "  employee   department  date\n",
              "0      Bob   Accounting  2008\n",
              "1     Jake  Engineering  2012\n",
              "2     Lisa  Engineering  2004\n",
              "3      Sue           HR  2014"
            ]
          },
          "metadata": {
            "tags": []
          },
          "execution_count": 165
        }
      ]
    },
    {
      "cell_type": "markdown",
      "metadata": {
        "id": "nn4Jkv5-DHbG"
      },
      "source": [
        "`pd.merge` automatically recognised that the `employee` column was common to both Dataframes, and used it as a join condition. This is akin to a **natural join** in relational algebra. We might explicitly make this clear using the `on=` kwarg.\n",
        "\n",
        "```python\n",
        "df3 = pd.merge(df1, df2, on=\"employee\")\n",
        "```\n",
        "\n",
        "But if these 2 columns had different names (for example employee on df1 and emp_name on df2), then you would instead write:\n",
        "\n",
        "```python\n",
        "  df3 = pd.merge(df1, df2, left_on=\"employee\", right_on=\"emp_name\")\n",
        "```\n",
        "\n",
        "(This would have been an equi-join).\n",
        "\n",
        "We can do left and right outer joins using the `how=` kwarg, which control what we do with rows from the left or right dataframes that don't have a match in the other. See the [Pandas merge documentation for more details](https://pandas.pydata.org/pandas-docs/stable/reference/api/pandas.merge.html).\n",
        "\n",
        "\n",
        "Gotcha: There is also a `pd.join()` method, which does NOT do the same thing (it only operates on special columns called indexes, which we dont use here). Only use `pd.merge()`.\n"
      ]
    },
    {
      "cell_type": "markdown",
      "metadata": {
        "id": "vXB4pO_e1a5O"
      },
      "source": [
        "### Apply\n",
        "\n",
        "Sometimes we want to apply a function on a row of a dataframe. [Pandas apply() function](https://pandas.pydata.org/pandas-docs/stable/reference/api/pandas.DataFrame.apply.html) is very useful for this.\n",
        "\n",
        "For instance, perhaps we want to add a string representation of the states population, e.g. `\"38M\"` for the population of California.\n",
        "\n",
        "I'm going to use a nice Python function from [StackExchange](https://stackoverflow.com/a/3155023):\n"
      ]
    },
    {
      "cell_type": "code",
      "metadata": {
        "id": "0bzXnkt62Qtb",
        "colab": {
          "base_uri": "https://localhost:8080/",
          "height": 37
        },
        "outputId": "936cb6c1-0fa6-4dde-f3e9-0bceac77f1a2"
      },
      "source": [
        "import math\n",
        "millnames = ['','K','M','B','T']\n",
        "def millify(n):\n",
        "    n = float(n)\n",
        "    millidx = max(0,min(len(millnames)-1,\n",
        "                        int(math.floor(0 if n == 0 else math.log10(abs(n))/3))))\n",
        "    return '{:.0f}{}'.format(n / 10**(3 * millidx), millnames[millidx])\n",
        "  \n",
        "millify(38332521)"
      ],
      "execution_count": null,
      "outputs": [
        {
          "output_type": "execute_result",
          "data": {
            "application/vnd.google.colaboratory.intrinsic+json": {
              "type": "string"
            },
            "text/plain": [
              "'38M'"
            ]
          },
          "metadata": {
            "tags": []
          },
          "execution_count": 166
        }
      ]
    },
    {
      "cell_type": "markdown",
      "metadata": {
        "id": "YFqRee4m2olm"
      },
      "source": [
        "Ok, so how to \"apply\" this function to our dataframe. \n",
        "\n",
        "Well, let's take the Series for the population columns, and apply the function. That returns a new Series with the new string form of the column. "
      ]
    },
    {
      "cell_type": "code",
      "metadata": {
        "id": "fb14Xxox2tt4",
        "colab": {
          "base_uri": "https://localhost:8080/"
        },
        "outputId": "2368a15f-4593-4716-da25-d617bea2d201"
      },
      "source": [
        "population_all_df[\"Population\"].apply(millify)"
      ],
      "execution_count": null,
      "outputs": [
        {
          "output_type": "execute_result",
          "data": {
            "text/plain": [
              "0    38M\n",
              "1    26M\n",
              "2    13M\n",
              "0    20M\n",
              "1    20M\n",
              "Name: Population, dtype: object"
            ]
          },
          "metadata": {
            "tags": []
          },
          "execution_count": 167
        }
      ]
    },
    {
      "cell_type": "markdown",
      "metadata": {
        "id": "By1WCNzL3MCL"
      },
      "source": [
        "In this case, for *each* Population value, millify is called on the numeric value. \n",
        "\n",
        "We can also apply on an entire dataframe. Here, we use a lambda function to call millify on the attribute we care about. The lambda is called for each row of population_all_df, being passed that row as a Pandas series. We use the square brackets notation to get the Population value. Finally, `axis=1` tells Pandas we are operating row-by-row, not column-by-column, which is the default. "
      ]
    },
    {
      "cell_type": "code",
      "metadata": {
        "id": "ITntzYWI3Arf",
        "colab": {
          "base_uri": "https://localhost:8080/"
        },
        "outputId": "18b0a69f-99f8-493d-9743-7d8af58b3ee3"
      },
      "source": [
        "population_all_df.apply(lambda row: millify(row[\"Population\"]), axis=1)"
      ],
      "execution_count": null,
      "outputs": [
        {
          "output_type": "execute_result",
          "data": {
            "text/plain": [
              "0    38M\n",
              "1    26M\n",
              "2    13M\n",
              "0    20M\n",
              "1    20M\n",
              "dtype: object"
            ]
          },
          "metadata": {
            "tags": []
          },
          "execution_count": 168
        }
      ]
    },
    {
      "cell_type": "markdown",
      "metadata": {
        "id": "xPN_JKPb35W2"
      },
      "source": [
        "Ok, so how can we make a new column. Well we can assign columns to dataframes too."
      ]
    },
    {
      "cell_type": "code",
      "metadata": {
        "id": "MKLtFyIz34R1",
        "colab": {
          "base_uri": "https://localhost:8080/",
          "height": 204
        },
        "outputId": "1b5df728-b29e-43ec-9449-bbc64ff5bbe4"
      },
      "source": [
        "population_all_df[\"Pop Human\"] = population_all_df[\"Population\"].apply(millify)\n",
        "population_all_df"
      ],
      "execution_count": null,
      "outputs": [
        {
          "output_type": "execute_result",
          "data": {
            "text/html": [
              "<div>\n",
              "<style scoped>\n",
              "    .dataframe tbody tr th:only-of-type {\n",
              "        vertical-align: middle;\n",
              "    }\n",
              "\n",
              "    .dataframe tbody tr th {\n",
              "        vertical-align: top;\n",
              "    }\n",
              "\n",
              "    .dataframe thead th {\n",
              "        text-align: right;\n",
              "    }\n",
              "</style>\n",
              "<table border=\"1\" class=\"dataframe\">\n",
              "  <thead>\n",
              "    <tr style=\"text-align: right;\">\n",
              "      <th></th>\n",
              "      <th>State</th>\n",
              "      <th>Population</th>\n",
              "      <th>Pop Human</th>\n",
              "    </tr>\n",
              "  </thead>\n",
              "  <tbody>\n",
              "    <tr>\n",
              "      <th>0</th>\n",
              "      <td>California</td>\n",
              "      <td>38332521</td>\n",
              "      <td>38M</td>\n",
              "    </tr>\n",
              "    <tr>\n",
              "      <th>1</th>\n",
              "      <td>Texas</td>\n",
              "      <td>26448193</td>\n",
              "      <td>26M</td>\n",
              "    </tr>\n",
              "    <tr>\n",
              "      <th>2</th>\n",
              "      <td>Illinois</td>\n",
              "      <td>12882135</td>\n",
              "      <td>13M</td>\n",
              "    </tr>\n",
              "    <tr>\n",
              "      <th>0</th>\n",
              "      <td>New York</td>\n",
              "      <td>19651127</td>\n",
              "      <td>20M</td>\n",
              "    </tr>\n",
              "    <tr>\n",
              "      <th>1</th>\n",
              "      <td>Florida</td>\n",
              "      <td>19552860</td>\n",
              "      <td>20M</td>\n",
              "    </tr>\n",
              "  </tbody>\n",
              "</table>\n",
              "</div>"
            ],
            "text/plain": [
              "        State  Population Pop Human\n",
              "0  California    38332521       38M\n",
              "1       Texas    26448193       26M\n",
              "2    Illinois    12882135       13M\n",
              "0    New York    19651127       20M\n",
              "1     Florida    19552860       20M"
            ]
          },
          "metadata": {
            "tags": []
          },
          "execution_count": 169
        }
      ]
    },
    {
      "cell_type": "markdown",
      "metadata": {
        "id": "nAfB0bd54HWD"
      },
      "source": [
        "Beautiful!"
      ]
    },
    {
      "cell_type": "markdown",
      "metadata": {
        "id": "DH0FmKDoJWQO"
      },
      "source": [
        "### Pandas Exercises\n"
      ]
    },
    {
      "cell_type": "markdown",
      "metadata": {
        "id": "J8Oib3jdJx4j"
      },
      "source": [
        "####Q1. Creating a Pandas dataframe\n",
        "\n",
        "Create a dataframe `area_df` for the following information about states:\n",
        "\n",
        "State| Area\n",
        "--- | ---\n",
        "California | 423967\n",
        "Texas | 695662\n",
        "New York | 141297\n",
        "Florida | 170312\n",
        "Illinois | 149995\n",
        "\n"
      ]
    },
    {
      "cell_type": "code",
      "metadata": {
        "id": "-izi15qBC4t9",
        "colab": {
          "base_uri": "https://localhost:8080/",
          "height": 204
        },
        "outputId": "28f4a871-caf6-4bd7-8398-002c5ca42842"
      },
      "source": [
        "#YOUR SOLUTION\n",
        "data_f = pd.DataFrame({'State': ['California', 'Texas', 'New York', 'Florida','Illinois'],\n",
        "                    'Area': [423967, 695662, 141297, 170312,149995]})\n",
        "data_f\n"
      ],
      "execution_count": null,
      "outputs": [
        {
          "output_type": "execute_result",
          "data": {
            "text/html": [
              "<div>\n",
              "<style scoped>\n",
              "    .dataframe tbody tr th:only-of-type {\n",
              "        vertical-align: middle;\n",
              "    }\n",
              "\n",
              "    .dataframe tbody tr th {\n",
              "        vertical-align: top;\n",
              "    }\n",
              "\n",
              "    .dataframe thead th {\n",
              "        text-align: right;\n",
              "    }\n",
              "</style>\n",
              "<table border=\"1\" class=\"dataframe\">\n",
              "  <thead>\n",
              "    <tr style=\"text-align: right;\">\n",
              "      <th></th>\n",
              "      <th>State</th>\n",
              "      <th>Area</th>\n",
              "    </tr>\n",
              "  </thead>\n",
              "  <tbody>\n",
              "    <tr>\n",
              "      <th>0</th>\n",
              "      <td>California</td>\n",
              "      <td>423967</td>\n",
              "    </tr>\n",
              "    <tr>\n",
              "      <th>1</th>\n",
              "      <td>Texas</td>\n",
              "      <td>695662</td>\n",
              "    </tr>\n",
              "    <tr>\n",
              "      <th>2</th>\n",
              "      <td>New York</td>\n",
              "      <td>141297</td>\n",
              "    </tr>\n",
              "    <tr>\n",
              "      <th>3</th>\n",
              "      <td>Florida</td>\n",
              "      <td>170312</td>\n",
              "    </tr>\n",
              "    <tr>\n",
              "      <th>4</th>\n",
              "      <td>Illinois</td>\n",
              "      <td>149995</td>\n",
              "    </tr>\n",
              "  </tbody>\n",
              "</table>\n",
              "</div>"
            ],
            "text/plain": [
              "        State    Area\n",
              "0  California  423967\n",
              "1       Texas  695662\n",
              "2    New York  141297\n",
              "3     Florida  170312\n",
              "4    Illinois  149995"
            ]
          },
          "metadata": {
            "tags": []
          },
          "execution_count": 170
        }
      ]
    },
    {
      "cell_type": "markdown",
      "metadata": {
        "id": "umPsES8RJ-mJ"
      },
      "source": [
        "#### Q2. What are the names of states which have an area less than 150,000?\n",
        "\n"
      ]
    },
    {
      "cell_type": "code",
      "metadata": {
        "id": "mjrtM9ntK9L3",
        "colab": {
          "base_uri": "https://localhost:8080/",
          "height": 111
        },
        "outputId": "154ccd8c-948b-43f8-d394-74c72e7b15f7"
      },
      "source": [
        "#YOUR SOLUTION\n",
        "data_f[data_f['Area'] < 150000]"
      ],
      "execution_count": null,
      "outputs": [
        {
          "output_type": "execute_result",
          "data": {
            "text/html": [
              "<div>\n",
              "<style scoped>\n",
              "    .dataframe tbody tr th:only-of-type {\n",
              "        vertical-align: middle;\n",
              "    }\n",
              "\n",
              "    .dataframe tbody tr th {\n",
              "        vertical-align: top;\n",
              "    }\n",
              "\n",
              "    .dataframe thead th {\n",
              "        text-align: right;\n",
              "    }\n",
              "</style>\n",
              "<table border=\"1\" class=\"dataframe\">\n",
              "  <thead>\n",
              "    <tr style=\"text-align: right;\">\n",
              "      <th></th>\n",
              "      <th>State</th>\n",
              "      <th>Area</th>\n",
              "    </tr>\n",
              "  </thead>\n",
              "  <tbody>\n",
              "    <tr>\n",
              "      <th>2</th>\n",
              "      <td>New York</td>\n",
              "      <td>141297</td>\n",
              "    </tr>\n",
              "    <tr>\n",
              "      <th>4</th>\n",
              "      <td>Illinois</td>\n",
              "      <td>149995</td>\n",
              "    </tr>\n",
              "  </tbody>\n",
              "</table>\n",
              "</div>"
            ],
            "text/plain": [
              "      State    Area\n",
              "2  New York  141297\n",
              "4  Illinois  149995"
            ]
          },
          "metadata": {
            "tags": []
          },
          "execution_count": 171
        }
      ]
    },
    {
      "cell_type": "markdown",
      "metadata": {
        "id": "jBRKINffLZS-"
      },
      "source": [
        "#### Q3. Provide the population and area for the states of Texas and Florida in a single dataframe\n",
        "\n",
        "It should have columns State, Population, Area, and have 2 rows."
      ]
    },
    {
      "cell_type": "code",
      "metadata": {
        "id": "IW8a14YtLnGi",
        "colab": {
          "base_uri": "https://localhost:8080/",
          "height": 111
        },
        "outputId": "336c0ed9-6030-4672-ba51-61beb8d68968"
      },
      "source": [
        "#YOUR SOLUTION\n",
        "data_f2 = pd.merge(data_f, population_all_df)\n",
        "data_f2 = data_f2[['State','Population','Area']]\n",
        "data_f3 = data_f2[(data_f2['State'].__eq__('Texas')) | (data_f2['State'].__eq__('Florida'))]\n",
        "data_f3"
      ],
      "execution_count": null,
      "outputs": [
        {
          "output_type": "execute_result",
          "data": {
            "text/html": [
              "<div>\n",
              "<style scoped>\n",
              "    .dataframe tbody tr th:only-of-type {\n",
              "        vertical-align: middle;\n",
              "    }\n",
              "\n",
              "    .dataframe tbody tr th {\n",
              "        vertical-align: top;\n",
              "    }\n",
              "\n",
              "    .dataframe thead th {\n",
              "        text-align: right;\n",
              "    }\n",
              "</style>\n",
              "<table border=\"1\" class=\"dataframe\">\n",
              "  <thead>\n",
              "    <tr style=\"text-align: right;\">\n",
              "      <th></th>\n",
              "      <th>State</th>\n",
              "      <th>Population</th>\n",
              "      <th>Area</th>\n",
              "    </tr>\n",
              "  </thead>\n",
              "  <tbody>\n",
              "    <tr>\n",
              "      <th>1</th>\n",
              "      <td>Texas</td>\n",
              "      <td>26448193</td>\n",
              "      <td>695662</td>\n",
              "    </tr>\n",
              "    <tr>\n",
              "      <th>3</th>\n",
              "      <td>Florida</td>\n",
              "      <td>19552860</td>\n",
              "      <td>170312</td>\n",
              "    </tr>\n",
              "  </tbody>\n",
              "</table>\n",
              "</div>"
            ],
            "text/plain": [
              "     State  Population    Area\n",
              "1    Texas    26448193  695662\n",
              "3  Florida    19552860  170312"
            ]
          },
          "metadata": {
            "tags": []
          },
          "execution_count": 172
        }
      ]
    },
    {
      "cell_type": "markdown",
      "metadata": {
        "id": "7u2hD-zBzfpR"
      },
      "source": [
        "## Part 2 - PyTerrier\n",
        "\n",
        "PyTerrier is a Python framework, but uses the underlying [Terrier.org information retrieval toolkit](http://terrier.org) for many indexing and retrieval operations. While PyTerrier was new in 2020, Terrier is written in Java and has a long history dating back to 2001. PyTerrier makes it easy to perform IR experiments in Python, but using the mature Terrier platform for the expensive indexing and retrieval operations. \n",
        "\n",
        "In the following, we introduce everything you need to know about PyTerrier, and also provide appropriate links to relevant parts of the [PyTerrier documentation](https://pyterrier.readthedocs.io/en/latest/).\n"
      ]
    },
    {
      "cell_type": "markdown",
      "metadata": {
        "id": "iH0Ds2370V0G"
      },
      "source": [
        "### Installation & Configuration\n",
        "\n",
        "PyTerrier is installed as follows. This might take a few minutes, so you can read on."
      ]
    },
    {
      "cell_type": "code",
      "metadata": {
        "id": "5oE5neAX0bkW",
        "colab": {
          "base_uri": "https://localhost:8080/"
        },
        "outputId": "ebb51e3d-fc64-4979-e432-470d9803aa17"
      },
      "source": [
        "!pip install python-terrier"
      ],
      "execution_count": null,
      "outputs": [
        {
          "output_type": "stream",
          "text": [
            "Requirement already satisfied: python-terrier in /usr/local/lib/python3.7/dist-packages (0.6.0)\n",
            "Requirement already satisfied: pandas>=0.25.0 in /usr/local/lib/python3.7/dist-packages (from python-terrier) (1.1.5)\n",
            "Requirement already satisfied: ir-datasets>=0.3.2 in /usr/local/lib/python3.7/dist-packages (from python-terrier) (0.4.0)\n",
            "Requirement already satisfied: jinja2 in /usr/local/lib/python3.7/dist-packages (from python-terrier) (2.11.3)\n",
            "Requirement already satisfied: chest in /usr/local/lib/python3.7/dist-packages (from python-terrier) (0.2.3)\n",
            "Requirement already satisfied: pyjnius~=1.3.0 in /usr/local/lib/python3.7/dist-packages (from python-terrier) (1.3.0)\n",
            "Requirement already satisfied: more-itertools in /usr/local/lib/python3.7/dist-packages (from python-terrier) (8.7.0)\n",
            "Requirement already satisfied: numpy in /usr/local/lib/python3.7/dist-packages (from python-terrier) (1.19.5)\n",
            "Requirement already satisfied: ir-measures>=0.1.4 in /usr/local/lib/python3.7/dist-packages (from python-terrier) (0.1.4)\n",
            "Requirement already satisfied: sklearn in /usr/local/lib/python3.7/dist-packages (from python-terrier) (0.0)\n",
            "Requirement already satisfied: deprecation in /usr/local/lib/python3.7/dist-packages (from python-terrier) (2.1.0)\n",
            "Requirement already satisfied: requests in /usr/local/lib/python3.7/dist-packages (from python-terrier) (2.23.0)\n",
            "Requirement already satisfied: scipy in /usr/local/lib/python3.7/dist-packages (from python-terrier) (1.4.1)\n",
            "Requirement already satisfied: tqdm in /usr/local/lib/python3.7/dist-packages (from python-terrier) (4.41.1)\n",
            "Requirement already satisfied: statsmodels in /usr/local/lib/python3.7/dist-packages (from python-terrier) (0.10.2)\n",
            "Requirement already satisfied: nptyping in /usr/local/lib/python3.7/dist-packages (from python-terrier) (1.4.2)\n",
            "Requirement already satisfied: wget in /usr/local/lib/python3.7/dist-packages (from python-terrier) (3.2)\n",
            "Requirement already satisfied: matchpy in /usr/local/lib/python3.7/dist-packages (from python-terrier) (0.5.4)\n",
            "Requirement already satisfied: joblib in /usr/local/lib/python3.7/dist-packages (from python-terrier) (1.0.1)\n",
            "Requirement already satisfied: pytz>=2017.2 in /usr/local/lib/python3.7/dist-packages (from pandas>=0.25.0->python-terrier) (2018.9)\n",
            "Requirement already satisfied: python-dateutil>=2.7.3 in /usr/local/lib/python3.7/dist-packages (from pandas>=0.25.0->python-terrier) (2.8.1)\n",
            "Requirement already satisfied: warc3-wet>=0.2.3 in /usr/local/lib/python3.7/dist-packages (from ir-datasets>=0.3.2->python-terrier) (0.2.3)\n",
            "Requirement already satisfied: beautifulsoup4>=4.4.1 in /usr/local/lib/python3.7/dist-packages (from ir-datasets>=0.3.2->python-terrier) (4.6.3)\n",
            "Requirement already satisfied: lz4>=3.1.1 in /usr/local/lib/python3.7/dist-packages (from ir-datasets>=0.3.2->python-terrier) (3.1.3)\n",
            "Requirement already satisfied: pyyaml>=5.3.1 in /usr/local/lib/python3.7/dist-packages (from ir-datasets>=0.3.2->python-terrier) (5.4.1)\n",
            "Requirement already satisfied: warc3-wet-clueweb09>=0.2.5 in /usr/local/lib/python3.7/dist-packages (from ir-datasets>=0.3.2->python-terrier) (0.2.5)\n",
            "Requirement already satisfied: ijson>=3.1.3 in /usr/local/lib/python3.7/dist-packages (from ir-datasets>=0.3.2->python-terrier) (3.1.4)\n",
            "Requirement already satisfied: lxml>=4.5.2 in /usr/local/lib/python3.7/dist-packages (from ir-datasets>=0.3.2->python-terrier) (4.6.3)\n",
            "Requirement already satisfied: zlib-state>=0.1.3 in /usr/local/lib/python3.7/dist-packages (from ir-datasets>=0.3.2->python-terrier) (0.1.3)\n",
            "Requirement already satisfied: trec-car-tools>=2.5.4 in /usr/local/lib/python3.7/dist-packages (from ir-datasets>=0.3.2->python-terrier) (2.5.4)\n",
            "Requirement already satisfied: MarkupSafe>=0.23 in /usr/local/lib/python3.7/dist-packages (from jinja2->python-terrier) (2.0.1)\n",
            "Requirement already satisfied: heapdict in /usr/local/lib/python3.7/dist-packages (from chest->python-terrier) (1.0.1)\n",
            "Requirement already satisfied: cython in /usr/local/lib/python3.7/dist-packages (from pyjnius~=1.3.0->python-terrier) (0.29.23)\n",
            "Requirement already satisfied: six>=1.7.0 in /usr/local/lib/python3.7/dist-packages (from pyjnius~=1.3.0->python-terrier) (1.15.0)\n",
            "Requirement already satisfied: pytrec-eval-terrier==0.5.1 in /usr/local/lib/python3.7/dist-packages (from ir-measures>=0.1.4->python-terrier) (0.5.1)\n",
            "Requirement already satisfied: scikit-learn in /usr/local/lib/python3.7/dist-packages (from sklearn->python-terrier) (0.22.2.post1)\n",
            "Requirement already satisfied: packaging in /usr/local/lib/python3.7/dist-packages (from deprecation->python-terrier) (20.9)\n",
            "Requirement already satisfied: idna<3,>=2.5 in /usr/local/lib/python3.7/dist-packages (from requests->python-terrier) (2.10)\n",
            "Requirement already satisfied: urllib3!=1.25.0,!=1.25.1,<1.26,>=1.21.1 in /usr/local/lib/python3.7/dist-packages (from requests->python-terrier) (1.24.3)\n",
            "Requirement already satisfied: chardet<4,>=3.0.2 in /usr/local/lib/python3.7/dist-packages (from requests->python-terrier) (3.0.4)\n",
            "Requirement already satisfied: certifi>=2017.4.17 in /usr/local/lib/python3.7/dist-packages (from requests->python-terrier) (2020.12.5)\n",
            "Requirement already satisfied: patsy>=0.4.0 in /usr/local/lib/python3.7/dist-packages (from statsmodels->python-terrier) (0.5.1)\n",
            "Requirement already satisfied: typish>=1.7.0 in /usr/local/lib/python3.7/dist-packages (from nptyping->python-terrier) (1.9.2)\n",
            "Requirement already satisfied: multiset<3.0,>=2.0 in /usr/local/lib/python3.7/dist-packages (from matchpy->python-terrier) (2.1.1)\n",
            "Requirement already satisfied: cbor>=1.0.0 in /usr/local/lib/python3.7/dist-packages (from trec-car-tools>=2.5.4->ir-datasets>=0.3.2->python-terrier) (1.0.0)\n",
            "Requirement already satisfied: pyparsing>=2.0.2 in /usr/local/lib/python3.7/dist-packages (from packaging->deprecation->python-terrier) (2.4.7)\n"
          ],
          "name": "stdout"
        }
      ]
    },
    {
      "cell_type": "markdown",
      "metadata": {
        "id": "JUN1B8RI0gPC"
      },
      "source": [
        "The next step is to initialise PyTerrier. This is performed using PyTerrier's `init()` method. The `init()` method is needed as PyTerrier must download Terrier's jar file and start the Java virtual machine. We prevent init() from being called more than once by checking `started()`."
      ]
    },
    {
      "cell_type": "code",
      "metadata": {
        "id": "Z4qALBa90-7g"
      },
      "source": [
        "import pyterrier as pt\n",
        "if not pt.started():\n",
        "  pt.init()"
      ],
      "execution_count": null,
      "outputs": []
    },
    {
      "cell_type": "markdown",
      "metadata": {
        "id": "-qqjVSu-5_FX"
      },
      "source": [
        "### Documents, Indexing and Indexes"
      ]
    },
    {
      "cell_type": "markdown",
      "metadata": {
        "id": "3soS1IIy5B83"
      },
      "source": [
        "Much of PyTerrier's view of the world is wrapped up in Pandas dataframes. Let's consider some textual documents in a dataframe.\n"
      ]
    },
    {
      "cell_type": "code",
      "metadata": {
        "id": "gSEiEuTE5uyL"
      },
      "source": [
        "import pandas as pd\n",
        "docs_df = pd.DataFrame([\n",
        "    [\"d1\", \"this is the first document of many documents\"],\n",
        "    [\"d2\", \"this is another document\"],\n",
        "    [\"d3\", \"the topic of this document is unknown\"]\n",
        "], columns=[\"docno\", \"text\"])\n"
      ],
      "execution_count": null,
      "outputs": []
    },
    {
      "cell_type": "code",
      "metadata": {
        "colab": {
          "base_uri": "https://localhost:8080/",
          "height": 142
        },
        "id": "PKpD245nNrEJ",
        "outputId": "79df38e2-dad8-4c2c-bb84-67e7ec7bf9ab"
      },
      "source": [
        "docs_df"
      ],
      "execution_count": null,
      "outputs": [
        {
          "output_type": "execute_result",
          "data": {
            "text/html": [
              "<div>\n",
              "<style scoped>\n",
              "    .dataframe tbody tr th:only-of-type {\n",
              "        vertical-align: middle;\n",
              "    }\n",
              "\n",
              "    .dataframe tbody tr th {\n",
              "        vertical-align: top;\n",
              "    }\n",
              "\n",
              "    .dataframe thead th {\n",
              "        text-align: right;\n",
              "    }\n",
              "</style>\n",
              "<table border=\"1\" class=\"dataframe\">\n",
              "  <thead>\n",
              "    <tr style=\"text-align: right;\">\n",
              "      <th></th>\n",
              "      <th>docno</th>\n",
              "      <th>text</th>\n",
              "    </tr>\n",
              "  </thead>\n",
              "  <tbody>\n",
              "    <tr>\n",
              "      <th>0</th>\n",
              "      <td>d1</td>\n",
              "      <td>this is the first document of many documents</td>\n",
              "    </tr>\n",
              "    <tr>\n",
              "      <th>1</th>\n",
              "      <td>d2</td>\n",
              "      <td>this is another document</td>\n",
              "    </tr>\n",
              "    <tr>\n",
              "      <th>2</th>\n",
              "      <td>d3</td>\n",
              "      <td>the topic of this document is unknown</td>\n",
              "    </tr>\n",
              "  </tbody>\n",
              "</table>\n",
              "</div>"
            ],
            "text/plain": [
              "  docno                                          text\n",
              "0    d1  this is the first document of many documents\n",
              "1    d2                      this is another document\n",
              "2    d3         the topic of this document is unknown"
            ]
          },
          "metadata": {
            "tags": []
          },
          "execution_count": 176
        }
      ]
    },
    {
      "cell_type": "markdown",
      "metadata": {
        "id": "2RCtCCTU6GAj"
      },
      "source": [
        "Before any search engine can estimate which documents are most likely to be relevant for a given query, it must index the documents. The index is written into a directory called `index_3docs`. "
      ]
    },
    {
      "cell_type": "code",
      "metadata": {
        "id": "1YvLhEOS6V8w",
        "colab": {
          "base_uri": "https://localhost:8080/",
          "height": 37
        },
        "outputId": "359a3812-03c4-48b5-b5aa-c9c6ddbf0909"
      },
      "source": [
        "indexer = pt.DFIndexer(\"./index_3docs\", overwrite=True)\n",
        "indexref = indexer.index(docs_df[\"text\"], docs_df[\"docno\"])\n",
        "indexref.toString()"
      ],
      "execution_count": null,
      "outputs": [
        {
          "output_type": "execute_result",
          "data": {
            "application/vnd.google.colaboratory.intrinsic+json": {
              "type": "string"
            },
            "text/plain": [
              "'./index_3docs/data.properties'"
            ]
          },
          "metadata": {
            "tags": []
          },
          "execution_count": 177
        }
      ]
    },
    {
      "cell_type": "markdown",
      "metadata": {
        "id": "TUm6r6_625gW"
      },
      "source": [
        "An IndexRef is essentially a string saying where an index is stored. \n",
        "\n",
        "Indeed, we can look in the `index_3docs` directory and see that it has created various small files. The filenames give hints to the corresponding data structures: \n",
        " - some files relating to a lexicon (aka vocabulary)\n",
        " - a file relating to the inverted index\n",
        " - a file relating to the direct index (aka forward index, used for QE)\n",
        " - files relating to document metadata (e.g. storing the unique identifiers for documents) and document lengths\n"
      ]
    },
    {
      "cell_type": "code",
      "metadata": {
        "id": "TF45pl5O8p7R",
        "colab": {
          "base_uri": "https://localhost:8080/"
        },
        "outputId": "53936b3a-ff1b-4a4b-cc1d-f2457ccd4993"
      },
      "source": [
        "!ls -lh index_3docs/"
      ],
      "execution_count": null,
      "outputs": [
        {
          "output_type": "stream",
          "text": [
            "total 36K\n",
            "-rw-r--r-- 1 root root    3 Jun 11 03:40 data.direct.bf\n",
            "-rw-r--r-- 1 root root   51 Jun 11 03:40 data.document.fsarrayfile\n",
            "-rw-r--r-- 1 root root    4 Jun 11 03:40 data.inverted.bf\n",
            "-rw-r--r-- 1 root root  344 Jun 11 03:40 data.lexicon.fsomapfile\n",
            "-rw-r--r-- 1 root root  249 Jun 11 03:40 data.lexicon.fsomaphash\n",
            "-rw-r--r-- 1 root root   24 Jun 11 03:40 data.meta.idx\n",
            "-rw-r--r-- 1 root root   48 Jun 11 03:40 data.meta.zdata\n",
            "-rw-r--r-- 1 root root 4.1K Jun 11 03:40 data.properties\n"
          ],
          "name": "stdout"
        }
      ]
    },
    {
      "cell_type": "markdown",
      "metadata": {
        "id": "B2b8isFP3Kv6"
      },
      "source": [
        "How can we make an IndexRef useful - we can load it to an actual index - pt.IndexFactory.of() is the relevant factory. "
      ]
    },
    {
      "cell_type": "code",
      "metadata": {
        "id": "TTM17szD6pNy",
        "colab": {
          "base_uri": "https://localhost:8080/"
        },
        "outputId": "8cb08582-7752-4844-f305-ada910ff8e57"
      },
      "source": [
        "index = pt.IndexFactory.of(indexref)\n",
        "\n",
        "#lets see what Python type index is.\n",
        "type(index)"
      ],
      "execution_count": null,
      "outputs": [
        {
          "output_type": "execute_result",
          "data": {
            "text/plain": [
              "jnius.reflect.org.terrier.structures.Index"
            ]
          },
          "metadata": {
            "tags": []
          },
          "execution_count": 179
        }
      ]
    },
    {
      "cell_type": "markdown",
      "metadata": {
        "id": "mZe3HD5i7G3v"
      },
      "source": [
        "Ok, so this object refers to Terrier's [Index type](http://terrier.org/docs/current/javadoc/org/terrier/structures/Index.html). Check the linked Javadoc - you will see that this Java object has methods such as:\n",
        " - getCollectionStatistics()\n",
        " - getInvertedIndex()\n",
        " - getLexicon() \n",
        "\n",
        "Let's see what's in the CollectionStatistics:"
      ]
    },
    {
      "cell_type": "code",
      "metadata": {
        "id": "6-gXEDSX65bx",
        "colab": {
          "base_uri": "https://localhost:8080/"
        },
        "outputId": "65950d0b-b3a4-4c50-b054-60e7622c25bb"
      },
      "source": [
        "print(index.getCollectionStatistics())"
      ],
      "execution_count": null,
      "outputs": [
        {
          "output_type": "stream",
          "text": [
            "Number of documents: 3\n",
            "Number of terms: 4\n",
            "Number of postings: 6\n",
            "Number of fields: 0\n",
            "Number of tokens: 7\n",
            "Field names: []\n",
            "Positions:   false\n",
            "\n"
          ],
          "name": "stdout"
        }
      ]
    },
    {
      "cell_type": "markdown",
      "metadata": {
        "id": "i6HrR4lc7i10"
      },
      "source": [
        "Ok, that seems fair - we have 3 documents. But why only 4 terms? \n",
        "Let's check the [Lexicon](http://terrier.org/docs/current/javadoc/org/terrier/structures/Lexicon.html), which is our vocabulary. Fortunately, the Lexicon can be iterated easily from Python:"
      ]
    },
    {
      "cell_type": "code",
      "metadata": {
        "id": "us2mAzTW7Bny",
        "colab": {
          "base_uri": "https://localhost:8080/"
        },
        "outputId": "deb03fd9-8f4a-4b0d-d296-e65d6322a663"
      },
      "source": [
        "for kv in index.getLexicon():\n",
        "  print(\"%s (%s) -> %s (%s)\" % (kv.getKey(), type(kv.getKey()), kv.getValue(), type(kv.getValue()) ) )"
      ],
      "execution_count": null,
      "outputs": [
        {
          "output_type": "stream",
          "text": [
            "document (<class 'str'>) -> term0 Nt=3 TF=4 maxTF=2 @{0 0 0} (<class 'jnius.reflect.org.terrier.structures.LexiconEntry'>)\n",
            "first (<class 'str'>) -> term1 Nt=1 TF=1 maxTF=1 @{0 0 7} (<class 'jnius.reflect.org.terrier.structures.LexiconEntry'>)\n",
            "topic (<class 'str'>) -> term2 Nt=1 TF=1 maxTF=1 @{0 1 1} (<class 'jnius.reflect.org.terrier.structures.LexiconEntry'>)\n",
            "unknown (<class 'str'>) -> term3 Nt=1 TF=1 maxTF=1 @{0 1 5} (<class 'jnius.reflect.org.terrier.structures.LexiconEntry'>)\n"
          ],
          "name": "stdout"
        }
      ]
    },
    {
      "cell_type": "markdown",
      "metadata": {
        "id": "fwbp94gh86pw"
      },
      "source": [
        "Here, iterating over the Lexicon returns a pair of String term, and a [LexiconEntry](http://terrier.org/docs/current/javadoc/org/terrier/structures/LexiconEntry.html) -- which itself is an [EntryStatistics](http://terrier.org/docs/current/javadoc/org/terrier/structures/EntryStatistics.html) -- and contains information including the statistics of that term.\n",
        "\n",
        "\n",
        "So what did we find? Here are some observations:\n",
        " - we only have 4 unique terms, as stopwords were removed\n",
        " - we have one term for `\"document\"`, even though `\"documents\"` occurred in document \"d1\". \n",
        " \n",
        "Both these observations make sense, as indeed Terrier removes standard stopwords and applies Porter's stemmer by default.\n",
        "\n",
        "Further:\n",
        " - `Nt` is the number of unique documents that each term occurs in. This is useful for calculating IDF\n",
        " - `TF` is the total number of occurrences - some weighting models use this instead of Nt.\n",
        " - The numbers in the `@{}` are a pointer - they tell Terrier where the postings are for that term in the inverted index data structure.\n",
        "\n",
        "Finally, we can also use the square bracket notation to lookup terms in Terrier's lexicon. This is equivalent to [Lexicon.getLexiconEntry(\"chemical\")](http://terrier.org/docs/current/javadoc/org/terrier/structures/Lexicon.html#getLexiconEntry(KEY))\n"
      ]
    },
    {
      "cell_type": "code",
      "metadata": {
        "id": "SZmi9498-Ijw",
        "colab": {
          "base_uri": "https://localhost:8080/",
          "height": 37
        },
        "outputId": "39a81dea-3565-4421-ffa6-e39ac7a993c2"
      },
      "source": [
        "index.getLexicon()[\"document\"].toString()"
      ],
      "execution_count": null,
      "outputs": [
        {
          "output_type": "execute_result",
          "data": {
            "application/vnd.google.colaboratory.intrinsic+json": {
              "type": "string"
            },
            "text/plain": [
              "'term0 Nt=3 TF=4 maxTF=2 @{0 0 0}'"
            ]
          },
          "metadata": {
            "tags": []
          },
          "execution_count": 182
        }
      ]
    },
    {
      "cell_type": "markdown",
      "metadata": {
        "id": "vaKaU59l-kzg"
      },
      "source": [
        "Let's now think about the inverted index. Remember from Lecture 2 that the inverted index tells us in which *documents* each term occurs in. The LexiconEntry is the pointer that tell us where to find the postings for that term in the inverted index."
      ]
    },
    {
      "cell_type": "code",
      "metadata": {
        "id": "XQki_Pds8ut2",
        "colab": {
          "base_uri": "https://localhost:8080/"
        },
        "outputId": "c13ea722-3a05-487d-983b-5337f1226a40"
      },
      "source": [
        "pointer = index.getLexicon()[\"document\"]\n",
        "for posting in index.getInvertedIndex().getPostings(pointer):\n",
        "  print(posting.toString() + \" doclen=%d\" % posting.getDocumentLength())"
      ],
      "execution_count": null,
      "outputs": [
        {
          "output_type": "stream",
          "text": [
            "ID(0) TF(2) doclen=3\n",
            "ID(1) TF(1) doclen=1\n",
            "ID(2) TF(1) doclen=3\n"
          ],
          "name": "stdout"
        }
      ]
    },
    {
      "cell_type": "markdown",
      "metadata": {
        "id": "l7EaoIIO_DPx"
      },
      "source": [
        "Ok, so we can see that `\"document\"` occurs once in each of the three documents. NB: Terrier counts documents as integers from 0 (called *docids*). It records the mapping back to *docnos* (the string form, i.e. \"d1\", \"d2\") in a separate data structure called the metaindex."
      ]
    },
    {
      "cell_type": "markdown",
      "metadata": {
        "id": "Klgep_b6AGOA"
      },
      "source": [
        "Similarly, we can see what terms occur in document d1, by using a datastructure called the *direct* index. You can think of this as the opposite of the inverted index: the inverted index tell us, for each term, which documents contain that term; the direct index tells us, for each document, which terms it contains.\n",
        "\n",
        "Let's define a function to show us the contents of a document using the direct index. This a translation of [the Java code for displaying the contents of a document in the Terrier documentation](https://github.com/terrier-org/terrier-core/blob/5.x/doc/extend_retrieval.md#what-terms-occur-in-the-11th-document). When using our function, we can specify which document either by docno (string) or docid (int)."
      ]
    },
    {
      "cell_type": "code",
      "metadata": {
        "id": "J93Pg8w5AFrP"
      },
      "source": [
        "def get_document_direct(index, docno=None, docid=None):\n",
        "  if docid is None and docno is None:\n",
        "    raise ValueError(\"Must specify docno or docid\")\n",
        "  if docno is not None:\n",
        "    docid = index.getMetaIndex().getDocument(\"docno\", docno)\n",
        "  else:\n",
        "    docno = index.getMetaIndex().getItem(\"docno\", docid)\n",
        "  rtr = \"Docno %s (docid %d)\\n\" % (docno, docid)\n",
        "  pointer = index.getDocumentIndex().getDocumentEntry(docid)\n",
        "  for p in index.getDirectIndex().getPostings(pointer):\n",
        "    termid = p.getId()\n",
        "    term = index.getLexicon()[termid].getKey()\n",
        "    rtr += (\"\\t%s %d\\n\" % ( term, p.getFrequency()))\n",
        "  return rtr"
      ],
      "execution_count": null,
      "outputs": []
    },
    {
      "cell_type": "code",
      "metadata": {
        "id": "iX608k5j7uHT",
        "colab": {
          "base_uri": "https://localhost:8080/"
        },
        "outputId": "ddb61802-5f7e-4c5b-e48d-f9ae7294298c"
      },
      "source": [
        "print(get_document_direct(index, docno=\"d1\"))"
      ],
      "execution_count": null,
      "outputs": [
        {
          "output_type": "stream",
          "text": [
            "Docno d1 (docid 0)\n",
            "\tdocument 2\n",
            "\tfirst 1\n",
            "\n"
          ],
          "name": "stdout"
        }
      ]
    },
    {
      "cell_type": "code",
      "metadata": {
        "id": "QZmQPitqAZ_4",
        "colab": {
          "base_uri": "https://localhost:8080/"
        },
        "outputId": "ebe44061-c9e5-46ec-cac8-423230bc2d65"
      },
      "source": [
        "print(get_document_direct(index, docid=0))"
      ],
      "execution_count": null,
      "outputs": [
        {
          "output_type": "stream",
          "text": [
            "Docno d1 (docid 0)\n",
            "\tdocument 2\n",
            "\tfirst 1\n",
            "\n"
          ],
          "name": "stdout"
        }
      ]
    },
    {
      "cell_type": "markdown",
      "metadata": {
        "id": "zOSdVAr-CGRf"
      },
      "source": [
        "### Searching an Index\n",
        "\n",
        "Our way into search in PyTerrier is called BatchRetrieve. BatchRetrieve is configured by specifying an index and a weighting model. We then search for a single-word query, `\"document\"`."
      ]
    },
    {
      "cell_type": "code",
      "metadata": {
        "id": "XtK93nwXCF5C",
        "colab": {
          "base_uri": "https://localhost:8080/",
          "height": 142
        },
        "outputId": "bf8546bb-4e65-4e11-e978-e927a8936785"
      },
      "source": [
        "br = pt.BatchRetrieve(index, wmodel=\"Tf\")\n",
        "br.search(\"document\")"
      ],
      "execution_count": null,
      "outputs": [
        {
          "output_type": "execute_result",
          "data": {
            "text/html": [
              "<div>\n",
              "<style scoped>\n",
              "    .dataframe tbody tr th:only-of-type {\n",
              "        vertical-align: middle;\n",
              "    }\n",
              "\n",
              "    .dataframe tbody tr th {\n",
              "        vertical-align: top;\n",
              "    }\n",
              "\n",
              "    .dataframe thead th {\n",
              "        text-align: right;\n",
              "    }\n",
              "</style>\n",
              "<table border=\"1\" class=\"dataframe\">\n",
              "  <thead>\n",
              "    <tr style=\"text-align: right;\">\n",
              "      <th></th>\n",
              "      <th>qid</th>\n",
              "      <th>docid</th>\n",
              "      <th>docno</th>\n",
              "      <th>rank</th>\n",
              "      <th>score</th>\n",
              "      <th>query</th>\n",
              "    </tr>\n",
              "  </thead>\n",
              "  <tbody>\n",
              "    <tr>\n",
              "      <th>0</th>\n",
              "      <td>1</td>\n",
              "      <td>0</td>\n",
              "      <td>d1</td>\n",
              "      <td>0</td>\n",
              "      <td>2.0</td>\n",
              "      <td>document</td>\n",
              "    </tr>\n",
              "    <tr>\n",
              "      <th>1</th>\n",
              "      <td>1</td>\n",
              "      <td>2</td>\n",
              "      <td>d3</td>\n",
              "      <td>1</td>\n",
              "      <td>1.0</td>\n",
              "      <td>document</td>\n",
              "    </tr>\n",
              "    <tr>\n",
              "      <th>2</th>\n",
              "      <td>1</td>\n",
              "      <td>1</td>\n",
              "      <td>d2</td>\n",
              "      <td>2</td>\n",
              "      <td>1.0</td>\n",
              "      <td>document</td>\n",
              "    </tr>\n",
              "  </tbody>\n",
              "</table>\n",
              "</div>"
            ],
            "text/plain": [
              "  qid  docid docno  rank  score     query\n",
              "0   1      0    d1     0    2.0  document\n",
              "1   1      2    d3     1    1.0  document\n",
              "2   1      1    d2     2    1.0  document"
            ]
          },
          "metadata": {
            "tags": []
          },
          "execution_count": 187
        }
      ]
    },
    {
      "cell_type": "markdown",
      "metadata": {
        "id": "BHqSfTCtDM2T"
      },
      "source": [
        "So `search()` returns a dataframe with columns:\n",
        " - qid: this is by default \"1\", since it's our first and only query\n",
        " - docid: Terrier' internal integer for each doucment\n",
        " - docno: the external (string) unique identifier for each document\n",
        " - score: the total frequency of the query (terms) in each document\n",
        " - rank: A handy attribute showing the descending order by score\n",
        " - query: the input query\n",
        "\n",
        "As expected, the Tf weighting model used here only counts the frequencies of the query terms in each document, i.e.:\n",
        "$$\n",
        "score(d,Q) = \\sum_{t \\in Q} tf_{t,d}\n",
        "$$\n",
        "\n",
        "Hence, it's clear that document d1 should be the highest scored document with two occurrences (c.f. `'document'` and `'documents'`).  "
      ]
    },
    {
      "cell_type": "markdown",
      "metadata": {
        "id": "BJBXquPOD6q7"
      },
      "source": [
        "We can also pass a dataframe of one or more queries to the `transform()` method (rather than the `search()` method) of a transformer, with queries numbered \"q1\", \"q2\" etc.. "
      ]
    },
    {
      "cell_type": "code",
      "metadata": {
        "id": "TPBmPOETBKWk",
        "colab": {
          "base_uri": "https://localhost:8080/",
          "height": 235
        },
        "outputId": "ba703514-c0a8-4514-a3fd-d46115831de3"
      },
      "source": [
        "import pandas as pd\n",
        "queries = pd.DataFrame([[\"q1\", \"document\"], [\"q2\", \"first document\"]], columns=[\"qid\", \"query\"])\n",
        "br.transform(queries)"
      ],
      "execution_count": null,
      "outputs": [
        {
          "output_type": "execute_result",
          "data": {
            "text/html": [
              "<div>\n",
              "<style scoped>\n",
              "    .dataframe tbody tr th:only-of-type {\n",
              "        vertical-align: middle;\n",
              "    }\n",
              "\n",
              "    .dataframe tbody tr th {\n",
              "        vertical-align: top;\n",
              "    }\n",
              "\n",
              "    .dataframe thead th {\n",
              "        text-align: right;\n",
              "    }\n",
              "</style>\n",
              "<table border=\"1\" class=\"dataframe\">\n",
              "  <thead>\n",
              "    <tr style=\"text-align: right;\">\n",
              "      <th></th>\n",
              "      <th>qid</th>\n",
              "      <th>docid</th>\n",
              "      <th>docno</th>\n",
              "      <th>rank</th>\n",
              "      <th>score</th>\n",
              "      <th>query</th>\n",
              "    </tr>\n",
              "  </thead>\n",
              "  <tbody>\n",
              "    <tr>\n",
              "      <th>0</th>\n",
              "      <td>q1</td>\n",
              "      <td>0</td>\n",
              "      <td>d1</td>\n",
              "      <td>0</td>\n",
              "      <td>2.0</td>\n",
              "      <td>document</td>\n",
              "    </tr>\n",
              "    <tr>\n",
              "      <th>1</th>\n",
              "      <td>q1</td>\n",
              "      <td>2</td>\n",
              "      <td>d3</td>\n",
              "      <td>1</td>\n",
              "      <td>1.0</td>\n",
              "      <td>document</td>\n",
              "    </tr>\n",
              "    <tr>\n",
              "      <th>2</th>\n",
              "      <td>q1</td>\n",
              "      <td>1</td>\n",
              "      <td>d2</td>\n",
              "      <td>2</td>\n",
              "      <td>1.0</td>\n",
              "      <td>document</td>\n",
              "    </tr>\n",
              "    <tr>\n",
              "      <th>3</th>\n",
              "      <td>q2</td>\n",
              "      <td>0</td>\n",
              "      <td>d1</td>\n",
              "      <td>0</td>\n",
              "      <td>3.0</td>\n",
              "      <td>first document</td>\n",
              "    </tr>\n",
              "    <tr>\n",
              "      <th>4</th>\n",
              "      <td>q2</td>\n",
              "      <td>2</td>\n",
              "      <td>d3</td>\n",
              "      <td>1</td>\n",
              "      <td>1.0</td>\n",
              "      <td>first document</td>\n",
              "    </tr>\n",
              "    <tr>\n",
              "      <th>5</th>\n",
              "      <td>q2</td>\n",
              "      <td>1</td>\n",
              "      <td>d2</td>\n",
              "      <td>2</td>\n",
              "      <td>1.0</td>\n",
              "      <td>first document</td>\n",
              "    </tr>\n",
              "  </tbody>\n",
              "</table>\n",
              "</div>"
            ],
            "text/plain": [
              "  qid  docid docno  rank  score           query\n",
              "0  q1      0    d1     0    2.0        document\n",
              "1  q1      2    d3     1    1.0        document\n",
              "2  q1      1    d2     2    1.0        document\n",
              "3  q2      0    d1     0    3.0  first document\n",
              "4  q2      2    d3     1    1.0  first document\n",
              "5  q2      1    d2     2    1.0  first document"
            ]
          },
          "metadata": {
            "tags": []
          },
          "execution_count": 188
        }
      ]
    },
    {
      "cell_type": "markdown",
      "metadata": {
        "id": "tcgDzFLBEWAI"
      },
      "source": [
        "In fact, we are usually calling `transform()`, so it's the default method - i.e. \n",
        "`br.transform(queries)` can be more succinctly written as `br(queries)`."
      ]
    },
    {
      "cell_type": "code",
      "metadata": {
        "id": "YCwxb3HhEOp_",
        "colab": {
          "base_uri": "https://localhost:8080/",
          "height": 235
        },
        "outputId": "a250d80e-7aa5-4347-ea5b-d6111d4debdb"
      },
      "source": [
        "br(queries)"
      ],
      "execution_count": null,
      "outputs": [
        {
          "output_type": "execute_result",
          "data": {
            "text/html": [
              "<div>\n",
              "<style scoped>\n",
              "    .dataframe tbody tr th:only-of-type {\n",
              "        vertical-align: middle;\n",
              "    }\n",
              "\n",
              "    .dataframe tbody tr th {\n",
              "        vertical-align: top;\n",
              "    }\n",
              "\n",
              "    .dataframe thead th {\n",
              "        text-align: right;\n",
              "    }\n",
              "</style>\n",
              "<table border=\"1\" class=\"dataframe\">\n",
              "  <thead>\n",
              "    <tr style=\"text-align: right;\">\n",
              "      <th></th>\n",
              "      <th>qid</th>\n",
              "      <th>docid</th>\n",
              "      <th>docno</th>\n",
              "      <th>rank</th>\n",
              "      <th>score</th>\n",
              "      <th>query</th>\n",
              "    </tr>\n",
              "  </thead>\n",
              "  <tbody>\n",
              "    <tr>\n",
              "      <th>0</th>\n",
              "      <td>q1</td>\n",
              "      <td>0</td>\n",
              "      <td>d1</td>\n",
              "      <td>0</td>\n",
              "      <td>2.0</td>\n",
              "      <td>document</td>\n",
              "    </tr>\n",
              "    <tr>\n",
              "      <th>1</th>\n",
              "      <td>q1</td>\n",
              "      <td>2</td>\n",
              "      <td>d3</td>\n",
              "      <td>1</td>\n",
              "      <td>1.0</td>\n",
              "      <td>document</td>\n",
              "    </tr>\n",
              "    <tr>\n",
              "      <th>2</th>\n",
              "      <td>q1</td>\n",
              "      <td>1</td>\n",
              "      <td>d2</td>\n",
              "      <td>2</td>\n",
              "      <td>1.0</td>\n",
              "      <td>document</td>\n",
              "    </tr>\n",
              "    <tr>\n",
              "      <th>3</th>\n",
              "      <td>q2</td>\n",
              "      <td>0</td>\n",
              "      <td>d1</td>\n",
              "      <td>0</td>\n",
              "      <td>3.0</td>\n",
              "      <td>first document</td>\n",
              "    </tr>\n",
              "    <tr>\n",
              "      <th>4</th>\n",
              "      <td>q2</td>\n",
              "      <td>2</td>\n",
              "      <td>d3</td>\n",
              "      <td>1</td>\n",
              "      <td>1.0</td>\n",
              "      <td>first document</td>\n",
              "    </tr>\n",
              "    <tr>\n",
              "      <th>5</th>\n",
              "      <td>q2</td>\n",
              "      <td>1</td>\n",
              "      <td>d2</td>\n",
              "      <td>2</td>\n",
              "      <td>1.0</td>\n",
              "      <td>first document</td>\n",
              "    </tr>\n",
              "  </tbody>\n",
              "</table>\n",
              "</div>"
            ],
            "text/plain": [
              "  qid  docid docno  rank  score           query\n",
              "0  q1      0    d1     0    2.0        document\n",
              "1  q1      2    d3     1    1.0        document\n",
              "2  q1      1    d2     2    1.0        document\n",
              "3  q2      0    d1     0    3.0  first document\n",
              "4  q2      2    d3     1    1.0  first document\n",
              "5  q2      1    d2     2    1.0  first document"
            ]
          },
          "metadata": {
            "tags": []
          },
          "execution_count": 189
        }
      ]
    },
    {
      "cell_type": "markdown",
      "metadata": {
        "id": "ldY8VV8wQ60Z"
      },
      "source": [
        "### Moving on up\n",
        "\n",
        "OK, having 3 documents is quite trivial, so let's move upto a slightly larger corpus of documents. We'll be using Vaswani NPL. Terrier has a handy `get_dataset()` API, which allows us to download a ready-made index. "
      ]
    },
    {
      "cell_type": "code",
      "metadata": {
        "id": "L2lJsK-vEcQx"
      },
      "source": [
        "vaswani_dataset = pt.get_dataset(\"vaswani\")\n",
        "index = pt.IndexFactory.of(vaswani_dataset.get_index())\n"
      ],
      "execution_count": null,
      "outputs": []
    },
    {
      "cell_type": "markdown",
      "metadata": {
        "id": "y7GK9uANRt8w"
      },
      "source": [
        "#### **Task 1**\n",
        "- What are the statistics of our index?\n",
        "- Can you get a feeling for what kind of documents this index contains by inspecting a few documents. e.g. look into the content of the index of docids 0, 10 and 100"
      ]
    },
    {
      "cell_type": "code",
      "metadata": {
        "id": "bNAVqf9uRr2p",
        "colab": {
          "base_uri": "https://localhost:8080/"
        },
        "outputId": "17cf6889-55dd-433f-a36b-7da322e1db14"
      },
      "source": [
        "#YOUR SOLUTION\n",
        "print(\"---- The statistics of Index----\")\n",
        "print(index.getCollectionStatistics())\n",
        "print(\"--------------------------------\")\n",
        "\n",
        "print(\"---- Document 0 ----\")\n",
        "print(get_document_direct(index, docid=0))\n",
        "print(\"--------------------------------\")\n",
        "\n",
        "print(\"---- Document 10 ----\")\n",
        "print(get_document_direct(index, docid=10))\n",
        "print(\"--------------------------------\")\n",
        "\n",
        "print(\"---- Document 100 ----\")\n",
        "print(get_document_direct(index, docid=100))\n",
        "print(\"--------------------------------\")"
      ],
      "execution_count": null,
      "outputs": [
        {
          "output_type": "stream",
          "text": [
            "---- The statistics of Index----\n",
            "Number of documents: 11429\n",
            "Number of terms: 7756\n",
            "Number of postings: 224573\n",
            "Number of fields: 0\n",
            "Number of tokens: 271581\n",
            "Field names: []\n",
            "Positions:   false\n",
            "\n",
            "--------------------------------\n",
            "---- Document 0 ----\n",
            "Docno 1 (docid 0)\n",
            "\tstorag 1\n",
            "\trandom 1\n",
            "\tflexibl 1\n",
            "\tdata 1\n",
            "\tsystem 1\n",
            "\tcompact 1\n",
            "\tsequenti 1\n",
            "\tdigit 1\n",
            "\tmemori 1\n",
            "\tbit 1\n",
            "\taccess 1\n",
            "\tcapac 2\n",
            "\n",
            "--------------------------------\n",
            "---- Document 10 ----\n",
            "Docno 11 (docid 10)\n",
            "\tcircuit 3\n",
            "\ttransistor 1\n",
            "\tus 1\n",
            "\tobtain 1\n",
            "\tswitch 2\n",
            "\tdesign 1\n",
            "\taffect 1\n",
            "\tplot 1\n",
            "\tjunction 1\n",
            "\tcharacterist 1\n",
            "\tparamet 1\n",
            "\trelat 1\n",
            "\ttheoret 1\n",
            "\tload 1\n",
            "\tbistabl 1\n",
            "\tcurv 1\n",
            "\tmai 1\n",
            "\tdiagram 1\n",
            "\tline 1\n",
            "\tstatic 1\n",
            "\n",
            "--------------------------------\n",
            "---- Document 100 ----\n",
            "Docno 101 (docid 100)\n",
            "\tmeasur 1\n",
            "\tobtain 1\n",
            "\tdiscuss 1\n",
            "\tmai 1\n",
            "\tthird 1\n",
            "\tanalysi 1\n",
            "\tresult 1\n",
            "\ttaken 1\n",
            "\tfunction 1\n",
            "\tmolecular 1\n",
            "\tobserv 1\n",
            "\trel 1\n",
            "\tion 1\n",
            "\tshow 1\n",
            "\tspectromet 1\n",
            "\tsatellit 1\n",
            "\tartifici 1\n",
            "\tintens 1\n",
            "\tkm 2\n",
            "\tatmospher 1\n",
            "\theight 2\n",
            "\tvariat 1\n",
            "\tearth 1\n",
            "\tgraph 1\n",
            "\tlatitud 2\n",
            "\tinterv 1\n",
            "\tspectrogram 1\n",
            "\tionic 2\n",
            "\tmass 2\n",
            "\tcomposit 1\n",
            "\tlonger 1\n",
            "\n",
            "--------------------------------\n"
          ],
          "name": "stdout"
        }
      ]
    },
    {
      "cell_type": "markdown",
      "metadata": {
        "id": "UaD-_XX7tD4v"
      },
      "source": [
        "So Vaswani is a reasonable index - let's examine the extent that it exhibits some of the textual properties we would expect.\n",
        "\n",
        "#### **Task 2**\n",
        "\n",
        "Use a matplotlib histogram to examine the distribution of the terms occurring in the Lexicon - i.e. it should be possible to read for a given frequency range, the number of terms that have that frequency.\n",
        "\n",
        "Hint: What method of the LexiconEntry can be used to determine the frequency for each term?\n",
        "\n",
        "Hint: it might be easier to read if you apply a logarithmic scale for the y-axis. Allow matplotlib to use its default number of bins (which is 10).\n",
        "\n",
        "<p>&nbsp;</p>\n",
        "\n",
        "#### **Stretch Task (Optional)**\n",
        "\n",
        "Next, let's try to see if Vaswani follows a Zipfian distribution. In terms of probabilities, we have \n",
        "$$\n",
        "r.Pr_t \\approx A\n",
        "$$\n",
        "where $r$ is the rank of the term, and $Pr_t$ is the probability of the term. To check how well Vaswani follows Zipf, reproduce slide 14 from Lecture 3 (concerning AP89) for this collection. We expect that Zipf's law will not hold for low and high ranked terms.\n",
        "\n",
        "Hint: SciPy's [rankdata()](https://docs.scipy.org/doc/scipy/reference/generated/scipy.stats.rankdata.html) function might be useful for getting the rank of any term frequency.\n",
        "\n",
        "Hint: To obtain $Pr_t$, you should compare each term's frequency to one of the collection statistics. \n"
      ]
    },
    {
      "cell_type": "code",
      "metadata": {
        "id": "bZ7kZhBVtoPy",
        "colab": {
          "base_uri": "https://localhost:8080/",
          "height": 384
        },
        "outputId": "196be09f-757b-42f7-c5d8-2786e33fddfe"
      },
      "source": [
        "#YOUR SOLUTION\n",
        "import matplotlib.pyplot as plt\n",
        "\n",
        "freq = []\n",
        "keys = []\n",
        "\n",
        "for entry in index.getLexicon():\n",
        "  keys.append(entry.getKey())\n",
        "\n",
        "for entry in keys:\n",
        "  freq.append(index.getLexicon()[entry].getFrequency())\n",
        "plt.xlabel(\"Frequency\")\n",
        "plt.ylabel(\"no. of terms\")\n",
        "plt.hist(freq, log = True)"
      ],
      "execution_count": null,
      "outputs": [
        {
          "output_type": "execute_result",
          "data": {
            "text/plain": [
              "(array([7.54e+03, 1.39e+02, 3.90e+01, 2.00e+01, 5.00e+00, 8.00e+00,\n",
              "        0.00e+00, 3.00e+00, 1.00e+00, 1.00e+00]),\n",
              " array([1.0000e+00, 3.0630e+02, 6.1160e+02, 9.1690e+02, 1.2222e+03,\n",
              "        1.5275e+03, 1.8328e+03, 2.1381e+03, 2.4434e+03, 2.7487e+03,\n",
              "        3.0540e+03]),\n",
              " <a list of 10 Patch objects>)"
            ]
          },
          "metadata": {
            "tags": []
          },
          "execution_count": 192
        },
        {
          "output_type": "display_data",
          "data": {
            "image/png": "[encoded data removed]",
            "text/plain": [
              "<Figure size 432x288 with 1 Axes>"
            ]
          },
          "metadata": {
            "tags": [],
            "needs_background": "light"
          }
        }
      ]
    },
    {
      "cell_type": "code",
      "metadata": {
        "id": "gxxicWjfVN70",
        "colab": {
          "base_uri": "https://localhost:8080/",
          "height": 282
        },
        "outputId": "e6850c27-0142-463a-b8f9-6acee41af2b1"
      },
      "source": [
        "#YOUR SOLUTION - STRETCH/OPTIONAL\n",
        "from scipy.stats import rankdata\n",
        "\n",
        "probabilities = []\n",
        "for entry in keys:\n",
        "  term_prob = index.getLexicon()[entry].getFrequency() / index.getCollectionStatistics().getNumberOfTokens()\n",
        "  probabilities.append(term_prob * 100)\n",
        "\n",
        "ranks = rankdata(freq)\n",
        "\n",
        "plt.plot(ranks, probabilities)\n"
      ],
      "execution_count": null,
      "outputs": [
        {
          "output_type": "execute_result",
          "data": {
            "text/plain": [
              "[<matplotlib.lines.Line2D at 0x7f1430c5e190>]"
            ]
          },
          "metadata": {
            "tags": []
          },
          "execution_count": 193
        },
        {
          "output_type": "display_data",
          "data": {
            "image/png": "[encoded data removed]",
            "text/plain": [
              "<Figure size 432x288 with 1 Axes>"
            ]
          },
          "metadata": {
            "tags": [],
            "needs_background": "light"
          }
        }
      ]
    },
    {
      "cell_type": "markdown",
      "metadata": {
        "id": "tQD9Q8CqSirN"
      },
      "source": [
        "Next, Vaswani is a *test collection*, in that it is not just a corpus of documents, but it also has a set of queries (called *topics*), with each query having one or more **known** *relevant* documents (also called *qrels*). We'll hear more about test collections in Lecture 5.\n",
        "\n",
        "We can easily access the topics and qrels from the dataset. Indeed these are expressed as dataframes as well (we use Pandas's [head()](https://pandas.pydata.org/pandas-docs/stable/reference/api/pandas.DataFrame.head.html) method to show only the first 5 topics):"
      ]
    },
    {
      "cell_type": "code",
      "metadata": {
        "id": "8n7oY-YYS_-A",
        "colab": {
          "base_uri": "https://localhost:8080/",
          "height": 204
        },
        "outputId": "bc88d628-e3e0-4f92-d16e-07397f40a733"
      },
      "source": [
        "vaswani_dataset.get_topics().head(5)"
      ],
      "execution_count": null,
      "outputs": [
        {
          "output_type": "execute_result",
          "data": {
            "text/html": [
              "<div>\n",
              "<style scoped>\n",
              "    .dataframe tbody tr th:only-of-type {\n",
              "        vertical-align: middle;\n",
              "    }\n",
              "\n",
              "    .dataframe tbody tr th {\n",
              "        vertical-align: top;\n",
              "    }\n",
              "\n",
              "    .dataframe thead th {\n",
              "        text-align: right;\n",
              "    }\n",
              "</style>\n",
              "<table border=\"1\" class=\"dataframe\">\n",
              "  <thead>\n",
              "    <tr style=\"text-align: right;\">\n",
              "      <th></th>\n",
              "      <th>qid</th>\n",
              "      <th>query</th>\n",
              "    </tr>\n",
              "  </thead>\n",
              "  <tbody>\n",
              "    <tr>\n",
              "      <th>0</th>\n",
              "      <td>1</td>\n",
              "      <td>measurement of dielectric constant of liquids by the use of microwave techniques</td>\n",
              "    </tr>\n",
              "    <tr>\n",
              "      <th>1</th>\n",
              "      <td>2</td>\n",
              "      <td>mathematical analysis and design details of waveguide fed microwave radiations</td>\n",
              "    </tr>\n",
              "    <tr>\n",
              "      <th>2</th>\n",
              "      <td>3</td>\n",
              "      <td>use of digital computers in the design of band pass filters having given phase and attenuation characteristics</td>\n",
              "    </tr>\n",
              "    <tr>\n",
              "      <th>3</th>\n",
              "      <td>4</td>\n",
              "      <td>systems of data coding for information transfer</td>\n",
              "    </tr>\n",
              "    <tr>\n",
              "      <th>4</th>\n",
              "      <td>5</td>\n",
              "      <td>use of programs in engineering testing of computers</td>\n",
              "    </tr>\n",
              "  </tbody>\n",
              "</table>\n",
              "</div>"
            ],
            "text/plain": [
              "  qid                                                                                                           query\n",
              "0   1                                measurement of dielectric constant of liquids by the use of microwave techniques\n",
              "1   2                                  mathematical analysis and design details of waveguide fed microwave radiations\n",
              "2   3  use of digital computers in the design of band pass filters having given phase and attenuation characteristics\n",
              "3   4                                                                 systems of data coding for information transfer\n",
              "4   5                                                             use of programs in engineering testing of computers"
            ]
          },
          "metadata": {
            "tags": []
          },
          "execution_count": 194
        }
      ]
    },
    {
      "cell_type": "code",
      "metadata": {
        "id": "-rYxqvhJTGNX",
        "colab": {
          "base_uri": "https://localhost:8080/",
          "height": 204
        },
        "outputId": "7d345593-806f-4d37-f13c-5e0ed90a4dc0"
      },
      "source": [
        "vaswani_dataset.get_qrels().head(5)"
      ],
      "execution_count": null,
      "outputs": [
        {
          "output_type": "execute_result",
          "data": {
            "text/html": [
              "<div>\n",
              "<style scoped>\n",
              "    .dataframe tbody tr th:only-of-type {\n",
              "        vertical-align: middle;\n",
              "    }\n",
              "\n",
              "    .dataframe tbody tr th {\n",
              "        vertical-align: top;\n",
              "    }\n",
              "\n",
              "    .dataframe thead th {\n",
              "        text-align: right;\n",
              "    }\n",
              "</style>\n",
              "<table border=\"1\" class=\"dataframe\">\n",
              "  <thead>\n",
              "    <tr style=\"text-align: right;\">\n",
              "      <th></th>\n",
              "      <th>qid</th>\n",
              "      <th>docno</th>\n",
              "      <th>label</th>\n",
              "    </tr>\n",
              "  </thead>\n",
              "  <tbody>\n",
              "    <tr>\n",
              "      <th>0</th>\n",
              "      <td>1</td>\n",
              "      <td>1239</td>\n",
              "      <td>1</td>\n",
              "    </tr>\n",
              "    <tr>\n",
              "      <th>1</th>\n",
              "      <td>1</td>\n",
              "      <td>1502</td>\n",
              "      <td>1</td>\n",
              "    </tr>\n",
              "    <tr>\n",
              "      <th>2</th>\n",
              "      <td>1</td>\n",
              "      <td>4462</td>\n",
              "      <td>1</td>\n",
              "    </tr>\n",
              "    <tr>\n",
              "      <th>3</th>\n",
              "      <td>1</td>\n",
              "      <td>4569</td>\n",
              "      <td>1</td>\n",
              "    </tr>\n",
              "    <tr>\n",
              "      <th>4</th>\n",
              "      <td>1</td>\n",
              "      <td>5472</td>\n",
              "      <td>1</td>\n",
              "    </tr>\n",
              "  </tbody>\n",
              "</table>\n",
              "</div>"
            ],
            "text/plain": [
              "  qid docno  label\n",
              "0   1  1239      1\n",
              "1   1  1502      1\n",
              "2   1  4462      1\n",
              "3   1  4569      1\n",
              "4   1  5472      1"
            ]
          },
          "metadata": {
            "tags": []
          },
          "execution_count": 195
        }
      ]
    },
    {
      "cell_type": "markdown",
      "metadata": {
        "id": "PX2Y-0DiTSAI"
      },
      "source": [
        "#### **Task 3**\n",
        "\n",
        "Using `get_document_direct()` and the qrels, print the contents of the relevant documents for the query with qid \"4\". NB: qids are strings.\n",
        "\n",
        "Hint: Try a Pandas apply()?\n"
      ]
    },
    {
      "cell_type": "code",
      "metadata": {
        "colab": {
          "base_uri": "https://localhost:8080/"
        },
        "id": "NBn4S8Uxgwri",
        "outputId": "be5b9d65-d51b-4108-fc64-994b58c15ec9"
      },
      "source": [
        "#YOUR SOLUTION\n",
        "qids = vaswani_dataset.get_qrels()\n",
        "docnos = qids[qids['qid'] == '4']\n",
        "\n",
        "print(\"-----Documents with qid 4-----\")\n",
        "print(docnos)\n",
        "print(\"-----------------------\")"
      ],
      "execution_count": null,
      "outputs": [
        {
          "output_type": "stream",
          "text": [
            "-----Documents with qid 4-----\n",
            "   qid docno  label\n",
            "67   4  2042      1\n",
            "68   4  2180      1\n",
            "69   4  3595      1\n",
            "70   4  4057      1\n",
            "71   4  7985      1\n",
            "-----------------------\n"
          ],
          "name": "stdout"
        }
      ]
    },
    {
      "cell_type": "code",
      "metadata": {
        "id": "qPWFJErjTP50",
        "colab": {
          "base_uri": "https://localhost:8080/"
        },
        "outputId": "cb7c7ee2-c444-4d45-ee2c-7e930069e266"
      },
      "source": [
        "# doc_direct = docnos.apply(lambda entry : get_document_direct(index, docid = int(entry[\"docno\"])),axis = 1)\n",
        "# print(doc_direct)\n",
        "for i in docnos['docno']:\n",
        "    print(\"Document\", i)\n",
        "    print(get_document_direct(index, docid = int(i)))\n",
        "    print('-----------------------')"
      ],
      "execution_count": null,
      "outputs": [
        {
          "output_type": "stream",
          "text": [
            "Document 2042\n",
            "Docno 2043 (docid 2042)\n",
            "\tsystem 1\n",
            "\tcontinu 1\n",
            "\tsens 1\n",
            "\tfoil 1\n",
            "\tpunch 2\n",
            "\tcard 1\n",
            "\n",
            "-----------------------\n",
            "Document 2180\n",
            "Docno 2181 (docid 2180)\n",
            "\tmemori 1\n",
            "\tcore 1\n",
            "\tnois 1\n",
            "\tcurrent 1\n",
            "\tproblem 1\n",
            "\tcoincid 1\n",
            "\n",
            "-----------------------\n",
            "Document 3595\n",
            "Docno 3596 (docid 3595)\n",
            "\tdigit 1\n",
            "\tcomput 1\n",
            "\telectron 1\n",
            "\tcount 1\n",
            "\tnew 1\n",
            "\tcycl 1\n",
            "\taddress 1\n",
            "\tinstruct 1\n",
            "\n",
            "-----------------------\n",
            "Document 4057\n",
            "Docno 4058 (docid 4057)\n",
            "\tdigit 1\n",
            "\tcomput 1\n",
            "\tfast 1\n",
            "\ttechniqu 1\n",
            "\tmultipl 1\n",
            "\timprov 1\n",
            "\tserial 1\n",
            "\n",
            "-----------------------\n",
            "Document 7985\n",
            "Docno 7986 (docid 7985)\n",
            "\tstorag 1\n",
            "\tsystem 2\n",
            "\tdigit 2\n",
            "\tcomput 1\n",
            "\toper 1\n",
            "\tdensiti 1\n",
            "\tcompon 1\n",
            "\tlow 1\n",
            "\ttime 1\n",
            "\tform 1\n",
            "\thigh 2\n",
            "\tpossibl 1\n",
            "\tphosphor 1\n",
            "\tgrid 1\n",
            "\tspace 1\n",
            "\tperman 1\n",
            "\tdecai 1\n",
            "\tarrang 1\n",
            "\tspeed 1\n",
            "\treliabl 1\n",
            "\tadvantag 1\n",
            "\tstore 2\n",
            "\tcommerci 1\n",
            "\tpick 1\n",
            "\tspot 2\n",
            "\tavail 1\n",
            "\tordin 1\n",
            "\tslide 1\n",
            "\tfly 1\n",
            "\n",
            "-----------------------\n"
          ],
          "name": "stdout"
        }
      ]
    },
    {
      "cell_type": "markdown",
      "metadata": {
        "id": "2Gop4-jVbIIu"
      },
      "source": [
        "### Weighting Models\n",
        "\n",
        "So far, we have been using the simple Tf as our ranking function for document retrieval in BatchRetrieve. However, we can use other models such as `\"TF_IDF\"` by simply changing the `wmodel=\"Tf\"` keyword argument in the constructor of BatchRetrieve.\n"
      ]
    },
    {
      "cell_type": "code",
      "metadata": {
        "id": "Cg8AGzCibdPG",
        "colab": {
          "base_uri": "https://localhost:8080/",
          "height": 419
        },
        "outputId": "88712fb5-4176-4977-bf3f-478cb472ce43"
      },
      "source": [
        "tfidf = pt.BatchRetrieve(index, wmodel=\"TF_IDF\")\n",
        "\n",
        "tfidf.transform(vaswani_dataset.get_topics().head(1))"
      ],
      "execution_count": null,
      "outputs": [
        {
          "output_type": "execute_result",
          "data": {
            "text/html": [
              "<div>\n",
              "<style scoped>\n",
              "    .dataframe tbody tr th:only-of-type {\n",
              "        vertical-align: middle;\n",
              "    }\n",
              "\n",
              "    .dataframe tbody tr th {\n",
              "        vertical-align: top;\n",
              "    }\n",
              "\n",
              "    .dataframe thead th {\n",
              "        text-align: right;\n",
              "    }\n",
              "</style>\n",
              "<table border=\"1\" class=\"dataframe\">\n",
              "  <thead>\n",
              "    <tr style=\"text-align: right;\">\n",
              "      <th></th>\n",
              "      <th>qid</th>\n",
              "      <th>docid</th>\n",
              "      <th>docno</th>\n",
              "      <th>rank</th>\n",
              "      <th>score</th>\n",
              "      <th>query</th>\n",
              "    </tr>\n",
              "  </thead>\n",
              "  <tbody>\n",
              "    <tr>\n",
              "      <th>0</th>\n",
              "      <td>1</td>\n",
              "      <td>8171</td>\n",
              "      <td>8172</td>\n",
              "      <td>0</td>\n",
              "      <td>13.746087</td>\n",
              "      <td>measurement of dielectric constant of liquids by the use of microwave techniques</td>\n",
              "    </tr>\n",
              "    <tr>\n",
              "      <th>1</th>\n",
              "      <td>1</td>\n",
              "      <td>9880</td>\n",
              "      <td>9881</td>\n",
              "      <td>1</td>\n",
              "      <td>12.352666</td>\n",
              "      <td>measurement of dielectric constant of liquids by the use of microwave techniques</td>\n",
              "    </tr>\n",
              "    <tr>\n",
              "      <th>2</th>\n",
              "      <td>1</td>\n",
              "      <td>5501</td>\n",
              "      <td>5502</td>\n",
              "      <td>2</td>\n",
              "      <td>12.178153</td>\n",
              "      <td>measurement of dielectric constant of liquids by the use of microwave techniques</td>\n",
              "    </tr>\n",
              "    <tr>\n",
              "      <th>3</th>\n",
              "      <td>1</td>\n",
              "      <td>1501</td>\n",
              "      <td>1502</td>\n",
              "      <td>3</td>\n",
              "      <td>10.993585</td>\n",
              "      <td>measurement of dielectric constant of liquids by the use of microwave techniques</td>\n",
              "    </tr>\n",
              "    <tr>\n",
              "      <th>4</th>\n",
              "      <td>1</td>\n",
              "      <td>9858</td>\n",
              "      <td>9859</td>\n",
              "      <td>4</td>\n",
              "      <td>10.271452</td>\n",
              "      <td>measurement of dielectric constant of liquids by the use of microwave techniques</td>\n",
              "    </tr>\n",
              "    <tr>\n",
              "      <th>...</th>\n",
              "      <td>...</td>\n",
              "      <td>...</td>\n",
              "      <td>...</td>\n",
              "      <td>...</td>\n",
              "      <td>...</td>\n",
              "      <td>...</td>\n",
              "    </tr>\n",
              "    <tr>\n",
              "      <th>995</th>\n",
              "      <td>1</td>\n",
              "      <td>2455</td>\n",
              "      <td>2456</td>\n",
              "      <td>995</td>\n",
              "      <td>2.646072</td>\n",
              "      <td>measurement of dielectric constant of liquids by the use of microwave techniques</td>\n",
              "    </tr>\n",
              "    <tr>\n",
              "      <th>996</th>\n",
              "      <td>1</td>\n",
              "      <td>3972</td>\n",
              "      <td>3973</td>\n",
              "      <td>996</td>\n",
              "      <td>2.646072</td>\n",
              "      <td>measurement of dielectric constant of liquids by the use of microwave techniques</td>\n",
              "    </tr>\n",
              "    <tr>\n",
              "      <th>997</th>\n",
              "      <td>1</td>\n",
              "      <td>8288</td>\n",
              "      <td>8289</td>\n",
              "      <td>997</td>\n",
              "      <td>2.646072</td>\n",
              "      <td>measurement of dielectric constant of liquids by the use of microwave techniques</td>\n",
              "    </tr>\n",
              "    <tr>\n",
              "      <th>998</th>\n",
              "      <td>1</td>\n",
              "      <td>11011</td>\n",
              "      <td>11012</td>\n",
              "      <td>998</td>\n",
              "      <td>2.644992</td>\n",
              "      <td>measurement of dielectric constant of liquids by the use of microwave techniques</td>\n",
              "    </tr>\n",
              "    <tr>\n",
              "      <th>999</th>\n",
              "      <td>1</td>\n",
              "      <td>8036</td>\n",
              "      <td>8037</td>\n",
              "      <td>999</td>\n",
              "      <td>2.644992</td>\n",
              "      <td>measurement of dielectric constant of liquids by the use of microwave techniques</td>\n",
              "    </tr>\n",
              "  </tbody>\n",
              "</table>\n",
              "<p>1000 rows × 6 columns</p>\n",
              "</div>"
            ],
            "text/plain": [
              "    qid  ...                                                                             query\n",
              "0     1  ...  measurement of dielectric constant of liquids by the use of microwave techniques\n",
              "1     1  ...  measurement of dielectric constant of liquids by the use of microwave techniques\n",
              "2     1  ...  measurement of dielectric constant of liquids by the use of microwave techniques\n",
              "3     1  ...  measurement of dielectric constant of liquids by the use of microwave techniques\n",
              "4     1  ...  measurement of dielectric constant of liquids by the use of microwave techniques\n",
              "..   ..  ...                                                                               ...\n",
              "995   1  ...  measurement of dielectric constant of liquids by the use of microwave techniques\n",
              "996   1  ...  measurement of dielectric constant of liquids by the use of microwave techniques\n",
              "997   1  ...  measurement of dielectric constant of liquids by the use of microwave techniques\n",
              "998   1  ...  measurement of dielectric constant of liquids by the use of microwave techniques\n",
              "999   1  ...  measurement of dielectric constant of liquids by the use of microwave techniques\n",
              "\n",
              "[1000 rows x 6 columns]"
            ]
          },
          "metadata": {
            "tags": []
          },
          "execution_count": 198
        }
      ]
    },
    {
      "cell_type": "markdown",
      "metadata": {
        "id": "m6aZGX9sbdmc"
      },
      "source": [
        "You will note that, as expected, the scores of documents ranked by TF_IDF are no longer integers. You can see the exact formula used by Terrier from [the Github repo](https://github.com/terrier-org/terrier-core/blob/5.x/modules/core/src/main/java/org/terrier/matching/models/TF_IDF.java#L79).\n",
        "\n",
        "Terrier supports many weighting models - the documentation contains [a list of supported models](http://terrier.org/docs/current/javadoc/org/terrier/matching/models/package-summary.html) - some of which we will discover later in the IR course.\n"
      ]
    },
    {
      "cell_type": "markdown",
      "metadata": {
        "id": "OiM8I_fkUcQ9"
      },
      "source": [
        "### PyTerrier Transformers\n",
        "\n",
        "You'll have noted that BatchRetrieve has a `transform()` method that takes as input a dataframe, and returns another dataframe, which is somehow a *transformation* of the earlier dataframe (e.g. a retrieval transformation). In fact, BatchRetrieve is just one of many similar objects in PyTerrier, which we call [transformers](https://pyterrier.readthedocs.io/en/latest/transformer.html) (represented by the TransformerBase class).\n",
        "\n",
        "Let's give a look at a BatchRetrieve transformer, e.g. the tfidf one:"
      ]
    },
    {
      "cell_type": "code",
      "metadata": {
        "id": "UqMt-9UlTqLa",
        "colab": {
          "base_uri": "https://localhost:8080/"
        },
        "outputId": "45746632-dd80-44cb-b900-aaab1f12001c"
      },
      "source": [
        "#tfidf is a transformer...\n",
        "print(isinstance(tfidf, pt.transformer.TransformerBase))\n",
        "#Yes!\n",
        "\n",
        "# this prints the type hierarchy of the TF_IDF class\n",
        "tfidf.__class__.__mro__"
      ],
      "execution_count": null,
      "outputs": [
        {
          "output_type": "stream",
          "text": [
            "True\n"
          ],
          "name": "stdout"
        },
        {
          "output_type": "execute_result",
          "data": {
            "text/plain": [
              "(pyterrier.batchretrieve.BatchRetrieve,\n",
              " pyterrier.batchretrieve.BatchRetrieveBase,\n",
              " pyterrier.transformer.TransformerBase,\n",
              " matchpy.expressions.expressions.Symbol,\n",
              " matchpy.expressions.expressions.Atom,\n",
              " matchpy.expressions.expressions.Expression,\n",
              " object)"
            ]
          },
          "metadata": {
            "tags": []
          },
          "execution_count": 199
        }
      ]
    },
    {
      "cell_type": "markdown",
      "metadata": {
        "id": "GW3afDgPukvU"
      },
      "source": [
        "One interesting capability of all transformers is that they can be combined using Python operators (this is called operator overloading).\n",
        "\n",
        "Concretely, imagine that you want to chain transformers together - e.g. rank documents first by Tf then re-ranked the *exact same* documents by BM25. We can do this using the `>>` operator - we call this composition, or \"then\"."
      ]
    },
    {
      "cell_type": "code",
      "metadata": {
        "id": "e9HkXxtgug15",
        "colab": {
          "base_uri": "https://localhost:8080/",
          "height": 419
        },
        "outputId": "17c4aea1-bebb-4084-9a34-94a86b672a2e"
      },
      "source": [
        "# this is our first retrieval transformer -\n",
        "# it transform a queries dataframe to a results dataframe\n",
        "tf = pt.BatchRetrieve(index, wmodel=\"Tf\")\n",
        "\n",
        "tf( vaswani_dataset.get_topics().head(1) )"
      ],
      "execution_count": null,
      "outputs": [
        {
          "output_type": "execute_result",
          "data": {
            "text/html": [
              "<div>\n",
              "<style scoped>\n",
              "    .dataframe tbody tr th:only-of-type {\n",
              "        vertical-align: middle;\n",
              "    }\n",
              "\n",
              "    .dataframe tbody tr th {\n",
              "        vertical-align: top;\n",
              "    }\n",
              "\n",
              "    .dataframe thead th {\n",
              "        text-align: right;\n",
              "    }\n",
              "</style>\n",
              "<table border=\"1\" class=\"dataframe\">\n",
              "  <thead>\n",
              "    <tr style=\"text-align: right;\">\n",
              "      <th></th>\n",
              "      <th>qid</th>\n",
              "      <th>docid</th>\n",
              "      <th>docno</th>\n",
              "      <th>rank</th>\n",
              "      <th>score</th>\n",
              "      <th>query</th>\n",
              "    </tr>\n",
              "  </thead>\n",
              "  <tbody>\n",
              "    <tr>\n",
              "      <th>0</th>\n",
              "      <td>1</td>\n",
              "      <td>7233</td>\n",
              "      <td>7234</td>\n",
              "      <td>0</td>\n",
              "      <td>9.0</td>\n",
              "      <td>measurement of dielectric constant of liquids by the use of microwave techniques</td>\n",
              "    </tr>\n",
              "    <tr>\n",
              "      <th>1</th>\n",
              "      <td>1</td>\n",
              "      <td>3692</td>\n",
              "      <td>3693</td>\n",
              "      <td>1</td>\n",
              "      <td>8.0</td>\n",
              "      <td>measurement of dielectric constant of liquids by the use of microwave techniques</td>\n",
              "    </tr>\n",
              "    <tr>\n",
              "      <th>2</th>\n",
              "      <td>1</td>\n",
              "      <td>5501</td>\n",
              "      <td>5502</td>\n",
              "      <td>2</td>\n",
              "      <td>7.0</td>\n",
              "      <td>measurement of dielectric constant of liquids by the use of microwave techniques</td>\n",
              "    </tr>\n",
              "    <tr>\n",
              "      <th>3</th>\n",
              "      <td>1</td>\n",
              "      <td>8907</td>\n",
              "      <td>8908</td>\n",
              "      <td>3</td>\n",
              "      <td>7.0</td>\n",
              "      <td>measurement of dielectric constant of liquids by the use of microwave techniques</td>\n",
              "    </tr>\n",
              "    <tr>\n",
              "      <th>4</th>\n",
              "      <td>1</td>\n",
              "      <td>6460</td>\n",
              "      <td>6461</td>\n",
              "      <td>4</td>\n",
              "      <td>6.0</td>\n",
              "      <td>measurement of dielectric constant of liquids by the use of microwave techniques</td>\n",
              "    </tr>\n",
              "    <tr>\n",
              "      <th>...</th>\n",
              "      <td>...</td>\n",
              "      <td>...</td>\n",
              "      <td>...</td>\n",
              "      <td>...</td>\n",
              "      <td>...</td>\n",
              "      <td>...</td>\n",
              "    </tr>\n",
              "    <tr>\n",
              "      <th>995</th>\n",
              "      <td>1</td>\n",
              "      <td>4267</td>\n",
              "      <td>4268</td>\n",
              "      <td>995</td>\n",
              "      <td>1.0</td>\n",
              "      <td>measurement of dielectric constant of liquids by the use of microwave techniques</td>\n",
              "    </tr>\n",
              "    <tr>\n",
              "      <th>996</th>\n",
              "      <td>1</td>\n",
              "      <td>532</td>\n",
              "      <td>533</td>\n",
              "      <td>996</td>\n",
              "      <td>1.0</td>\n",
              "      <td>measurement of dielectric constant of liquids by the use of microwave techniques</td>\n",
              "    </tr>\n",
              "    <tr>\n",
              "      <th>997</th>\n",
              "      <td>1</td>\n",
              "      <td>4597</td>\n",
              "      <td>4598</td>\n",
              "      <td>997</td>\n",
              "      <td>1.0</td>\n",
              "      <td>measurement of dielectric constant of liquids by the use of microwave techniques</td>\n",
              "    </tr>\n",
              "    <tr>\n",
              "      <th>998</th>\n",
              "      <td>1</td>\n",
              "      <td>521</td>\n",
              "      <td>522</td>\n",
              "      <td>998</td>\n",
              "      <td>1.0</td>\n",
              "      <td>measurement of dielectric constant of liquids by the use of microwave techniques</td>\n",
              "    </tr>\n",
              "    <tr>\n",
              "      <th>999</th>\n",
              "      <td>1</td>\n",
              "      <td>523</td>\n",
              "      <td>524</td>\n",
              "      <td>999</td>\n",
              "      <td>1.0</td>\n",
              "      <td>measurement of dielectric constant of liquids by the use of microwave techniques</td>\n",
              "    </tr>\n",
              "  </tbody>\n",
              "</table>\n",
              "<p>1000 rows × 6 columns</p>\n",
              "</div>"
            ],
            "text/plain": [
              "    qid  ...                                                                             query\n",
              "0     1  ...  measurement of dielectric constant of liquids by the use of microwave techniques\n",
              "1     1  ...  measurement of dielectric constant of liquids by the use of microwave techniques\n",
              "2     1  ...  measurement of dielectric constant of liquids by the use of microwave techniques\n",
              "3     1  ...  measurement of dielectric constant of liquids by the use of microwave techniques\n",
              "4     1  ...  measurement of dielectric constant of liquids by the use of microwave techniques\n",
              "..   ..  ...                                                                               ...\n",
              "995   1  ...  measurement of dielectric constant of liquids by the use of microwave techniques\n",
              "996   1  ...  measurement of dielectric constant of liquids by the use of microwave techniques\n",
              "997   1  ...  measurement of dielectric constant of liquids by the use of microwave techniques\n",
              "998   1  ...  measurement of dielectric constant of liquids by the use of microwave techniques\n",
              "999   1  ...  measurement of dielectric constant of liquids by the use of microwave techniques\n",
              "\n",
              "[1000 rows x 6 columns]"
            ]
          },
          "metadata": {
            "tags": []
          },
          "execution_count": 200
        }
      ]
    },
    {
      "cell_type": "code",
      "metadata": {
        "id": "uHHIn-rMvk_5",
        "colab": {
          "base_uri": "https://localhost:8080/",
          "height": 436
        },
        "outputId": "64f419ad-7a9d-4c58-8fc3-05cb68442f9e"
      },
      "source": [
        "# now let's define a pipeline \n",
        "pipeline = tf >> tfidf\n",
        "print(isinstance(tfidf, pt.transformer.TransformerBase))\n",
        "\n",
        "pipeline( vaswani_dataset.get_topics().head(1) )\n"
      ],
      "execution_count": null,
      "outputs": [
        {
          "output_type": "stream",
          "text": [
            "True\n"
          ],
          "name": "stdout"
        },
        {
          "output_type": "execute_result",
          "data": {
            "text/html": [
              "<div>\n",
              "<style scoped>\n",
              "    .dataframe tbody tr th:only-of-type {\n",
              "        vertical-align: middle;\n",
              "    }\n",
              "\n",
              "    .dataframe tbody tr th {\n",
              "        vertical-align: top;\n",
              "    }\n",
              "\n",
              "    .dataframe thead th {\n",
              "        text-align: right;\n",
              "    }\n",
              "</style>\n",
              "<table border=\"1\" class=\"dataframe\">\n",
              "  <thead>\n",
              "    <tr style=\"text-align: right;\">\n",
              "      <th></th>\n",
              "      <th>qid</th>\n",
              "      <th>docid</th>\n",
              "      <th>docno</th>\n",
              "      <th>rank</th>\n",
              "      <th>score</th>\n",
              "      <th>query</th>\n",
              "    </tr>\n",
              "  </thead>\n",
              "  <tbody>\n",
              "    <tr>\n",
              "      <th>0</th>\n",
              "      <td>1</td>\n",
              "      <td>8171</td>\n",
              "      <td>8172</td>\n",
              "      <td>0</td>\n",
              "      <td>13.746087</td>\n",
              "      <td>measurement of dielectric constant of liquids by the use of microwave techniques</td>\n",
              "    </tr>\n",
              "    <tr>\n",
              "      <th>1</th>\n",
              "      <td>1</td>\n",
              "      <td>9880</td>\n",
              "      <td>9881</td>\n",
              "      <td>1</td>\n",
              "      <td>12.352666</td>\n",
              "      <td>measurement of dielectric constant of liquids by the use of microwave techniques</td>\n",
              "    </tr>\n",
              "    <tr>\n",
              "      <th>2</th>\n",
              "      <td>1</td>\n",
              "      <td>5501</td>\n",
              "      <td>5502</td>\n",
              "      <td>2</td>\n",
              "      <td>12.178153</td>\n",
              "      <td>measurement of dielectric constant of liquids by the use of microwave techniques</td>\n",
              "    </tr>\n",
              "    <tr>\n",
              "      <th>3</th>\n",
              "      <td>1</td>\n",
              "      <td>1501</td>\n",
              "      <td>1502</td>\n",
              "      <td>3</td>\n",
              "      <td>10.993585</td>\n",
              "      <td>measurement of dielectric constant of liquids by the use of microwave techniques</td>\n",
              "    </tr>\n",
              "    <tr>\n",
              "      <th>4</th>\n",
              "      <td>1</td>\n",
              "      <td>9858</td>\n",
              "      <td>9859</td>\n",
              "      <td>4</td>\n",
              "      <td>10.271452</td>\n",
              "      <td>measurement of dielectric constant of liquids by the use of microwave techniques</td>\n",
              "    </tr>\n",
              "    <tr>\n",
              "      <th>...</th>\n",
              "      <td>...</td>\n",
              "      <td>...</td>\n",
              "      <td>...</td>\n",
              "      <td>...</td>\n",
              "      <td>...</td>\n",
              "      <td>...</td>\n",
              "    </tr>\n",
              "    <tr>\n",
              "      <th>995</th>\n",
              "      <td>1</td>\n",
              "      <td>117</td>\n",
              "      <td>118</td>\n",
              "      <td>995</td>\n",
              "      <td>0.985003</td>\n",
              "      <td>measurement of dielectric constant of liquids by the use of microwave techniques</td>\n",
              "    </tr>\n",
              "    <tr>\n",
              "      <th>996</th>\n",
              "      <td>1</td>\n",
              "      <td>4135</td>\n",
              "      <td>4136</td>\n",
              "      <td>996</td>\n",
              "      <td>0.958458</td>\n",
              "      <td>measurement of dielectric constant of liquids by the use of microwave techniques</td>\n",
              "    </tr>\n",
              "    <tr>\n",
              "      <th>997</th>\n",
              "      <td>1</td>\n",
              "      <td>1239</td>\n",
              "      <td>1240</td>\n",
              "      <td>997</td>\n",
              "      <td>0.941543</td>\n",
              "      <td>measurement of dielectric constant of liquids by the use of microwave techniques</td>\n",
              "    </tr>\n",
              "    <tr>\n",
              "      <th>998</th>\n",
              "      <td>1</td>\n",
              "      <td>4053</td>\n",
              "      <td>4054</td>\n",
              "      <td>998</td>\n",
              "      <td>0.925214</td>\n",
              "      <td>measurement of dielectric constant of liquids by the use of microwave techniques</td>\n",
              "    </tr>\n",
              "    <tr>\n",
              "      <th>999</th>\n",
              "      <td>1</td>\n",
              "      <td>615</td>\n",
              "      <td>616</td>\n",
              "      <td>999</td>\n",
              "      <td>0.788473</td>\n",
              "      <td>measurement of dielectric constant of liquids by the use of microwave techniques</td>\n",
              "    </tr>\n",
              "  </tbody>\n",
              "</table>\n",
              "<p>1000 rows × 6 columns</p>\n",
              "</div>"
            ],
            "text/plain": [
              "    qid  ...                                                                             query\n",
              "0     1  ...  measurement of dielectric constant of liquids by the use of microwave techniques\n",
              "1     1  ...  measurement of dielectric constant of liquids by the use of microwave techniques\n",
              "2     1  ...  measurement of dielectric constant of liquids by the use of microwave techniques\n",
              "3     1  ...  measurement of dielectric constant of liquids by the use of microwave techniques\n",
              "4     1  ...  measurement of dielectric constant of liquids by the use of microwave techniques\n",
              "..   ..  ...                                                                               ...\n",
              "995   1  ...  measurement of dielectric constant of liquids by the use of microwave techniques\n",
              "996   1  ...  measurement of dielectric constant of liquids by the use of microwave techniques\n",
              "997   1  ...  measurement of dielectric constant of liquids by the use of microwave techniques\n",
              "998   1  ...  measurement of dielectric constant of liquids by the use of microwave techniques\n",
              "999   1  ...  measurement of dielectric constant of liquids by the use of microwave techniques\n",
              "\n",
              "[1000 rows x 6 columns]"
            ]
          },
          "metadata": {
            "tags": []
          },
          "execution_count": 201
        }
      ]
    },
    {
      "cell_type": "markdown",
      "metadata": {
        "id": "r1yCXIB5w1Qb"
      },
      "source": [
        "There are a number of PyTerrier operators - there are more examples in the [PyTerrier documentation on operators](https://pyterrier.readthedocs.io/en/latest/operators.html)"
      ]
    },
    {
      "cell_type": "markdown",
      "metadata": {
        "id": "NaYavGvnxDk5"
      },
      "source": [
        "#### **Task 4**\n",
        "\n",
        "This task aims to improve your understanding of the PyTerrier operators.\n",
        "\n",
        "**(a)**\n",
        "\n",
        "Create a ranker that returns the top 10 scored documents based on the following retrieval model:\n",
        "$$\n",
        "score(d,Q) = \\big( \\sum_{t \\in Q} w_{TF\\_IDF}(t,d) \\big)  + 3 * \\sum_{t \\in Q} tf_{t,d}\n",
        "$$\n",
        "In essence, this equation scores documents by linearly combining the scores of two different retrieval models. \n",
        "\n",
        "For the correct solution, your pipeline should return no more than 10 documents and document docno `\"10703\"` should have a score of 10.381090 for query `\"chemical\"`.\n",
        "\n",
        "**(b)**\n",
        "\n",
        "Create a ranker that performs the following:\n",
        "\n",
        " - obtains the top 10 highest scoring documents by term frequency (wmodel=\"Tf\")\n",
        " - obtains the top 10 highest scoring documents by TF.IDF (wmodel=\"TF_IDF\")\n",
        " - reranks only those documents found in BOTH of the previous retrieval settings using BM25.\n",
        "\n",
        "How many documents are retrieved by this full pipeline for the query \"chemical\".\n",
        "\n",
        "If you obtain the correct solution, the document with docno \"2558\" should have a score of 10.322110 for query \"chemical\".\n",
        "\n",
        "Hints:\n",
        " - each correct solution needs only a few lines of code if you properly use the PyTerrier operators\n",
        " - you should not need to perform any Pandas dataframe operations\n",
        " - a Tf BatchRetrieve was already illustrated on the 3-documents index above. You will need an equivalent one on the Vaswani index."
      ]
    },
    {
      "cell_type": "code",
      "metadata": {
        "colab": {
          "base_uri": "https://localhost:8080/",
          "height": 359
        },
        "id": "EKxFAE_6uZLy",
        "outputId": "96346215-40f9-496b-b5a2-0f3c9c70396e"
      },
      "source": [
        "# YOUR SOLUTION a)\n",
        "tf = pt.BatchRetrieve(index, wmodel=\"Tf\")\n",
        "tfidf = pt.BatchRetrieve(index, wmodel=\"TF_IDF\")\n",
        "pipeline = (tfidf + (3 * tf ))% 10\n",
        "pipeline.search( 'chemical' )"
      ],
      "execution_count": null,
      "outputs": [
        {
          "output_type": "execute_result",
          "data": {
            "text/html": [
              "<div>\n",
              "<style scoped>\n",
              "    .dataframe tbody tr th:only-of-type {\n",
              "        vertical-align: middle;\n",
              "    }\n",
              "\n",
              "    .dataframe tbody tr th {\n",
              "        vertical-align: top;\n",
              "    }\n",
              "\n",
              "    .dataframe thead th {\n",
              "        text-align: right;\n",
              "    }\n",
              "</style>\n",
              "<table border=\"1\" class=\"dataframe\">\n",
              "  <thead>\n",
              "    <tr style=\"text-align: right;\">\n",
              "      <th></th>\n",
              "      <th>qid</th>\n",
              "      <th>docid</th>\n",
              "      <th>docno</th>\n",
              "      <th>score</th>\n",
              "      <th>query</th>\n",
              "      <th>rank</th>\n",
              "    </tr>\n",
              "  </thead>\n",
              "  <tbody>\n",
              "    <tr>\n",
              "      <th>3</th>\n",
              "      <td>1</td>\n",
              "      <td>6278</td>\n",
              "      <td>6279</td>\n",
              "      <td>12.128197</td>\n",
              "      <td>chemical</td>\n",
              "      <td>0</td>\n",
              "    </tr>\n",
              "    <tr>\n",
              "      <th>0</th>\n",
              "      <td>1</td>\n",
              "      <td>10702</td>\n",
              "      <td>10703</td>\n",
              "      <td>10.381090</td>\n",
              "      <td>chemical</td>\n",
              "      <td>1</td>\n",
              "    </tr>\n",
              "    <tr>\n",
              "      <th>1</th>\n",
              "      <td>1</td>\n",
              "      <td>1055</td>\n",
              "      <td>1056</td>\n",
              "      <td>9.857900</td>\n",
              "      <td>chemical</td>\n",
              "      <td>2</td>\n",
              "    </tr>\n",
              "    <tr>\n",
              "      <th>2</th>\n",
              "      <td>1</td>\n",
              "      <td>4885</td>\n",
              "      <td>4886</td>\n",
              "      <td>9.699605</td>\n",
              "      <td>chemical</td>\n",
              "      <td>3</td>\n",
              "    </tr>\n",
              "    <tr>\n",
              "      <th>4</th>\n",
              "      <td>1</td>\n",
              "      <td>8765</td>\n",
              "      <td>8766</td>\n",
              "      <td>8.884626</td>\n",
              "      <td>chemical</td>\n",
              "      <td>4</td>\n",
              "    </tr>\n",
              "    <tr>\n",
              "      <th>5</th>\n",
              "      <td>1</td>\n",
              "      <td>1139</td>\n",
              "      <td>1140</td>\n",
              "      <td>8.884626</td>\n",
              "      <td>chemical</td>\n",
              "      <td>5</td>\n",
              "    </tr>\n",
              "    <tr>\n",
              "      <th>6</th>\n",
              "      <td>1</td>\n",
              "      <td>10138</td>\n",
              "      <td>10139</td>\n",
              "      <td>8.767690</td>\n",
              "      <td>chemical</td>\n",
              "      <td>6</td>\n",
              "    </tr>\n",
              "    <tr>\n",
              "      <th>7</th>\n",
              "      <td>1</td>\n",
              "      <td>2519</td>\n",
              "      <td>2520</td>\n",
              "      <td>8.655311</td>\n",
              "      <td>chemical</td>\n",
              "      <td>7</td>\n",
              "    </tr>\n",
              "    <tr>\n",
              "      <th>8</th>\n",
              "      <td>1</td>\n",
              "      <td>2557</td>\n",
              "      <td>2558</td>\n",
              "      <td>8.655311</td>\n",
              "      <td>chemical</td>\n",
              "      <td>8</td>\n",
              "    </tr>\n",
              "    <tr>\n",
              "      <th>9</th>\n",
              "      <td>1</td>\n",
              "      <td>4686</td>\n",
              "      <td>4687</td>\n",
              "      <td>8.547228</td>\n",
              "      <td>chemical</td>\n",
              "      <td>9</td>\n",
              "    </tr>\n",
              "  </tbody>\n",
              "</table>\n",
              "</div>"
            ],
            "text/plain": [
              "  qid  docid  docno      score     query  rank\n",
              "3   1   6278   6279  12.128197  chemical     0\n",
              "0   1  10702  10703  10.381090  chemical     1\n",
              "1   1   1055   1056   9.857900  chemical     2\n",
              "2   1   4885   4886   9.699605  chemical     3\n",
              "4   1   8765   8766   8.884626  chemical     4\n",
              "5   1   1139   1140   8.884626  chemical     5\n",
              "6   1  10138  10139   8.767690  chemical     6\n",
              "7   1   2519   2520   8.655311  chemical     7\n",
              "8   1   2557   2558   8.655311  chemical     8\n",
              "9   1   4686   4687   8.547228  chemical     9"
            ]
          },
          "metadata": {
            "tags": []
          },
          "execution_count": 202
        }
      ]
    },
    {
      "cell_type": "code",
      "metadata": {
        "id": "XnsRdT4WvspD",
        "colab": {
          "base_uri": "https://localhost:8080/"
        },
        "outputId": "4da45c18-c8dc-45f4-b72d-a656ba02a1cf"
      },
      "source": [
        "# YOUR SOLUTION b)\n",
        "\n",
        "\n",
        "\n",
        "br_tf = pt.BatchRetrieve(index, wmodel=\"Tf\") % 10\n",
        "print(\"Top 10 highest scoring documents by term frequency\")\n",
        "print(\"----------------------------------------\")\n",
        "print(br_tf.search(\"chemical\"))\n",
        "print(\"----------------------------------------\")\n",
        "\n",
        "br_tfidf = pt.BatchRetrieve(index, wmodel=\"TF_IDF\") % 10\n",
        "print(\"Top 10 highest scoring documents by TFIDF\")\n",
        "print(\"----------------------------------------\")\n",
        "print(br_tfidf.search(\"chemical\"))\n",
        "print(\"----------------------------------------\")\n",
        "\n",
        "bm25 = pt.BatchRetrieve(index, wmodel=\"BM25\")\n",
        "pipeline = (br_tf & br_tfidf) >> bm25\n",
        "print(\"FINAL Pipeline\")\n",
        "print(\"----------------------------------------\")\n",
        "print(pipeline.search(\"chemical\"))\n",
        "print(\"----------------------------------------\")\n",
        "\n",
        "print(\"Number of documents retrieved by this full pipeline :\", len(pipeline.search(\"chemical\")))\n"
      ],
      "execution_count": null,
      "outputs": [
        {
          "output_type": "stream",
          "text": [
            "Top 10 highest scoring documents by term frequency\n",
            "----------------------------------------\n",
            "  qid  docid  docno  rank  score     query\n",
            "0   1   6278   6279     0    2.0  chemical\n",
            "1   1  10702  10703     1    1.0  chemical\n",
            "2   1  10444  10445     2    1.0  chemical\n",
            "3   1  10138  10139     3    1.0  chemical\n",
            "4   1   9373   9374     4    1.0  chemical\n",
            "5   1   8765   8766     5    1.0  chemical\n",
            "6   1   8415   8416     6    1.0  chemical\n",
            "7   1   7048   7049     7    1.0  chemical\n",
            "8   1   2557   2558     8    1.0  chemical\n",
            "9   1   6128   6129     9    1.0  chemical\n",
            "----------------------------------------\n",
            "Top 10 highest scoring documents by TFIDF\n",
            "----------------------------------------\n",
            "  qid  docid  docno  rank     score     query\n",
            "0   1  10702  10703     0  7.381090  chemical\n",
            "1   1   1055   1056     1  6.857900  chemical\n",
            "2   1   4885   4886     2  6.699605  chemical\n",
            "3   1   6278   6279     3  6.128197  chemical\n",
            "4   1   8765   8766     4  5.884626  chemical\n",
            "5   1   1139   1140     5  5.884626  chemical\n",
            "6   1  10138  10139     6  5.767690  chemical\n",
            "7   1   2519   2520     7  5.655311  chemical\n",
            "8   1   2557   2558     8  5.655311  chemical\n",
            "9   1   4686   4687     9  5.547228  chemical\n",
            "----------------------------------------\n",
            "FINAL Pipeline\n",
            "----------------------------------------\n",
            "  qid  docid  docno  rank      score     query\n",
            "0   1  10702  10703     0  13.472012  chemical\n",
            "1   1   6278   6279     1  11.185223  chemical\n",
            "2   1   8765   8766     2  10.740657  chemical\n",
            "3   1  10138  10139     3  10.527225  chemical\n",
            "4   1   2557   2558     4  10.322110  chemical\n",
            "----------------------------------------\n",
            "Number of documents retrieved by this full pipeline : 5\n"
          ],
          "name": "stdout"
        }
      ]
    },
    {
      "cell_type": "markdown",
      "metadata": {
        "id": "YQ0j9lFfx-gO"
      },
      "source": [
        "### What is Success?\n",
        "\n",
        "So far, we have been creating search engine models, but we haven't decided if any of them ia actually any good. While we will study *evaluation measures* in Lecture 5, let's just investigate if we are getting a correct (\"relevant\") document at the first rank."
      ]
    },
    {
      "cell_type": "code",
      "metadata": {
        "id": "iyShZYpwwNSx",
        "colab": {
          "base_uri": "https://localhost:8080/",
          "height": 419
        },
        "outputId": "dbdfe785-6a62-44d1-d78c-fd0d04f62f69"
      },
      "source": [
        "qrels = vaswani_dataset.get_qrels()\n",
        "def get_res_with_labels(ranker, df):\n",
        "  #get the results for the query or queries\n",
        "  results = ranker( df )\n",
        "  # left outer join with the qrels\n",
        "  with_labels = results.merge(qrels, on=[\"qid\", \"docno\"], how=\"left\").fillna(0)\n",
        "  return with_labels\n",
        "\n",
        "#lets get the Tf results for the first query\n",
        "get_res_with_labels(tf, vaswani_dataset.get_topics().head(1) )\n",
        "\n"
      ],
      "execution_count": null,
      "outputs": [
        {
          "output_type": "execute_result",
          "data": {
            "text/html": [
              "<div>\n",
              "<style scoped>\n",
              "    .dataframe tbody tr th:only-of-type {\n",
              "        vertical-align: middle;\n",
              "    }\n",
              "\n",
              "    .dataframe tbody tr th {\n",
              "        vertical-align: top;\n",
              "    }\n",
              "\n",
              "    .dataframe thead th {\n",
              "        text-align: right;\n",
              "    }\n",
              "</style>\n",
              "<table border=\"1\" class=\"dataframe\">\n",
              "  <thead>\n",
              "    <tr style=\"text-align: right;\">\n",
              "      <th></th>\n",
              "      <th>qid</th>\n",
              "      <th>docid</th>\n",
              "      <th>docno</th>\n",
              "      <th>rank</th>\n",
              "      <th>score</th>\n",
              "      <th>query</th>\n",
              "      <th>label</th>\n",
              "    </tr>\n",
              "  </thead>\n",
              "  <tbody>\n",
              "    <tr>\n",
              "      <th>0</th>\n",
              "      <td>1</td>\n",
              "      <td>7233</td>\n",
              "      <td>7234</td>\n",
              "      <td>0</td>\n",
              "      <td>9.0</td>\n",
              "      <td>measurement of dielectric constant of liquids by the use of microwave techniques</td>\n",
              "      <td>0.0</td>\n",
              "    </tr>\n",
              "    <tr>\n",
              "      <th>1</th>\n",
              "      <td>1</td>\n",
              "      <td>3692</td>\n",
              "      <td>3693</td>\n",
              "      <td>1</td>\n",
              "      <td>8.0</td>\n",
              "      <td>measurement of dielectric constant of liquids by the use of microwave techniques</td>\n",
              "      <td>0.0</td>\n",
              "    </tr>\n",
              "    <tr>\n",
              "      <th>2</th>\n",
              "      <td>1</td>\n",
              "      <td>5501</td>\n",
              "      <td>5502</td>\n",
              "      <td>2</td>\n",
              "      <td>7.0</td>\n",
              "      <td>measurement of dielectric constant of liquids by the use of microwave techniques</td>\n",
              "      <td>1.0</td>\n",
              "    </tr>\n",
              "    <tr>\n",
              "      <th>3</th>\n",
              "      <td>1</td>\n",
              "      <td>8907</td>\n",
              "      <td>8908</td>\n",
              "      <td>3</td>\n",
              "      <td>7.0</td>\n",
              "      <td>measurement of dielectric constant of liquids by the use of microwave techniques</td>\n",
              "      <td>0.0</td>\n",
              "    </tr>\n",
              "    <tr>\n",
              "      <th>4</th>\n",
              "      <td>1</td>\n",
              "      <td>6460</td>\n",
              "      <td>6461</td>\n",
              "      <td>4</td>\n",
              "      <td>6.0</td>\n",
              "      <td>measurement of dielectric constant of liquids by the use of microwave techniques</td>\n",
              "      <td>0.0</td>\n",
              "    </tr>\n",
              "    <tr>\n",
              "      <th>...</th>\n",
              "      <td>...</td>\n",
              "      <td>...</td>\n",
              "      <td>...</td>\n",
              "      <td>...</td>\n",
              "      <td>...</td>\n",
              "      <td>...</td>\n",
              "      <td>...</td>\n",
              "    </tr>\n",
              "    <tr>\n",
              "      <th>995</th>\n",
              "      <td>1</td>\n",
              "      <td>4267</td>\n",
              "      <td>4268</td>\n",
              "      <td>995</td>\n",
              "      <td>1.0</td>\n",
              "      <td>measurement of dielectric constant of liquids by the use of microwave techniques</td>\n",
              "      <td>0.0</td>\n",
              "    </tr>\n",
              "    <tr>\n",
              "      <th>996</th>\n",
              "      <td>1</td>\n",
              "      <td>532</td>\n",
              "      <td>533</td>\n",
              "      <td>996</td>\n",
              "      <td>1.0</td>\n",
              "      <td>measurement of dielectric constant of liquids by the use of microwave techniques</td>\n",
              "      <td>0.0</td>\n",
              "    </tr>\n",
              "    <tr>\n",
              "      <th>997</th>\n",
              "      <td>1</td>\n",
              "      <td>4597</td>\n",
              "      <td>4598</td>\n",
              "      <td>997</td>\n",
              "      <td>1.0</td>\n",
              "      <td>measurement of dielectric constant of liquids by the use of microwave techniques</td>\n",
              "      <td>0.0</td>\n",
              "    </tr>\n",
              "    <tr>\n",
              "      <th>998</th>\n",
              "      <td>1</td>\n",
              "      <td>521</td>\n",
              "      <td>522</td>\n",
              "      <td>998</td>\n",
              "      <td>1.0</td>\n",
              "      <td>measurement of dielectric constant of liquids by the use of microwave techniques</td>\n",
              "      <td>0.0</td>\n",
              "    </tr>\n",
              "    <tr>\n",
              "      <th>999</th>\n",
              "      <td>1</td>\n",
              "      <td>523</td>\n",
              "      <td>524</td>\n",
              "      <td>999</td>\n",
              "      <td>1.0</td>\n",
              "      <td>measurement of dielectric constant of liquids by the use of microwave techniques</td>\n",
              "      <td>0.0</td>\n",
              "    </tr>\n",
              "  </tbody>\n",
              "</table>\n",
              "<p>1000 rows × 7 columns</p>\n",
              "</div>"
            ],
            "text/plain": [
              "    qid  ...  label\n",
              "0     1  ...    0.0\n",
              "1     1  ...    0.0\n",
              "2     1  ...    1.0\n",
              "3     1  ...    0.0\n",
              "4     1  ...    0.0\n",
              "..   ..  ...    ...\n",
              "995   1  ...    0.0\n",
              "996   1  ...    0.0\n",
              "997   1  ...    0.0\n",
              "998   1  ...    0.0\n",
              "999   1  ...    0.0\n",
              "\n",
              "[1000 rows x 7 columns]"
            ]
          },
          "metadata": {
            "tags": []
          },
          "execution_count": 204
        }
      ]
    },
    {
      "cell_type": "markdown",
      "metadata": {
        "id": "qHlNDnHsegNz"
      },
      "source": [
        "So, we got a relevant document third ranked using Tf. Let's check TF_IDF to see whether it does better:"
      ]
    },
    {
      "cell_type": "code",
      "metadata": {
        "id": "tScqYO0FeHMi",
        "colab": {
          "base_uri": "https://localhost:8080/",
          "height": 419
        },
        "outputId": "6b0eba6d-27aa-4c39-a4e1-7d4e1fac396c"
      },
      "source": [
        "#lets get the tfidf results for the first query\n",
        "get_res_with_labels(tfidf, vaswani_dataset.get_topics().head(1) )"
      ],
      "execution_count": null,
      "outputs": [
        {
          "output_type": "execute_result",
          "data": {
            "text/html": [
              "<div>\n",
              "<style scoped>\n",
              "    .dataframe tbody tr th:only-of-type {\n",
              "        vertical-align: middle;\n",
              "    }\n",
              "\n",
              "    .dataframe tbody tr th {\n",
              "        vertical-align: top;\n",
              "    }\n",
              "\n",
              "    .dataframe thead th {\n",
              "        text-align: right;\n",
              "    }\n",
              "</style>\n",
              "<table border=\"1\" class=\"dataframe\">\n",
              "  <thead>\n",
              "    <tr style=\"text-align: right;\">\n",
              "      <th></th>\n",
              "      <th>qid</th>\n",
              "      <th>docid</th>\n",
              "      <th>docno</th>\n",
              "      <th>rank</th>\n",
              "      <th>score</th>\n",
              "      <th>query</th>\n",
              "      <th>label</th>\n",
              "    </tr>\n",
              "  </thead>\n",
              "  <tbody>\n",
              "    <tr>\n",
              "      <th>0</th>\n",
              "      <td>1</td>\n",
              "      <td>8171</td>\n",
              "      <td>8172</td>\n",
              "      <td>0</td>\n",
              "      <td>13.746087</td>\n",
              "      <td>measurement of dielectric constant of liquids by the use of microwave techniques</td>\n",
              "      <td>1.0</td>\n",
              "    </tr>\n",
              "    <tr>\n",
              "      <th>1</th>\n",
              "      <td>1</td>\n",
              "      <td>9880</td>\n",
              "      <td>9881</td>\n",
              "      <td>1</td>\n",
              "      <td>12.352666</td>\n",
              "      <td>measurement of dielectric constant of liquids by the use of microwave techniques</td>\n",
              "      <td>0.0</td>\n",
              "    </tr>\n",
              "    <tr>\n",
              "      <th>2</th>\n",
              "      <td>1</td>\n",
              "      <td>5501</td>\n",
              "      <td>5502</td>\n",
              "      <td>2</td>\n",
              "      <td>12.178153</td>\n",
              "      <td>measurement of dielectric constant of liquids by the use of microwave techniques</td>\n",
              "      <td>1.0</td>\n",
              "    </tr>\n",
              "    <tr>\n",
              "      <th>3</th>\n",
              "      <td>1</td>\n",
              "      <td>1501</td>\n",
              "      <td>1502</td>\n",
              "      <td>3</td>\n",
              "      <td>10.993585</td>\n",
              "      <td>measurement of dielectric constant of liquids by the use of microwave techniques</td>\n",
              "      <td>1.0</td>\n",
              "    </tr>\n",
              "    <tr>\n",
              "      <th>4</th>\n",
              "      <td>1</td>\n",
              "      <td>9858</td>\n",
              "      <td>9859</td>\n",
              "      <td>4</td>\n",
              "      <td>10.271452</td>\n",
              "      <td>measurement of dielectric constant of liquids by the use of microwave techniques</td>\n",
              "      <td>1.0</td>\n",
              "    </tr>\n",
              "    <tr>\n",
              "      <th>...</th>\n",
              "      <td>...</td>\n",
              "      <td>...</td>\n",
              "      <td>...</td>\n",
              "      <td>...</td>\n",
              "      <td>...</td>\n",
              "      <td>...</td>\n",
              "      <td>...</td>\n",
              "    </tr>\n",
              "    <tr>\n",
              "      <th>995</th>\n",
              "      <td>1</td>\n",
              "      <td>2455</td>\n",
              "      <td>2456</td>\n",
              "      <td>995</td>\n",
              "      <td>2.646072</td>\n",
              "      <td>measurement of dielectric constant of liquids by the use of microwave techniques</td>\n",
              "      <td>0.0</td>\n",
              "    </tr>\n",
              "    <tr>\n",
              "      <th>996</th>\n",
              "      <td>1</td>\n",
              "      <td>3972</td>\n",
              "      <td>3973</td>\n",
              "      <td>996</td>\n",
              "      <td>2.646072</td>\n",
              "      <td>measurement of dielectric constant of liquids by the use of microwave techniques</td>\n",
              "      <td>0.0</td>\n",
              "    </tr>\n",
              "    <tr>\n",
              "      <th>997</th>\n",
              "      <td>1</td>\n",
              "      <td>8288</td>\n",
              "      <td>8289</td>\n",
              "      <td>997</td>\n",
              "      <td>2.646072</td>\n",
              "      <td>measurement of dielectric constant of liquids by the use of microwave techniques</td>\n",
              "      <td>0.0</td>\n",
              "    </tr>\n",
              "    <tr>\n",
              "      <th>998</th>\n",
              "      <td>1</td>\n",
              "      <td>11011</td>\n",
              "      <td>11012</td>\n",
              "      <td>998</td>\n",
              "      <td>2.644992</td>\n",
              "      <td>measurement of dielectric constant of liquids by the use of microwave techniques</td>\n",
              "      <td>0.0</td>\n",
              "    </tr>\n",
              "    <tr>\n",
              "      <th>999</th>\n",
              "      <td>1</td>\n",
              "      <td>8036</td>\n",
              "      <td>8037</td>\n",
              "      <td>999</td>\n",
              "      <td>2.644992</td>\n",
              "      <td>measurement of dielectric constant of liquids by the use of microwave techniques</td>\n",
              "      <td>0.0</td>\n",
              "    </tr>\n",
              "  </tbody>\n",
              "</table>\n",
              "<p>1000 rows × 7 columns</p>\n",
              "</div>"
            ],
            "text/plain": [
              "    qid  ...  label\n",
              "0     1  ...    1.0\n",
              "1     1  ...    0.0\n",
              "2     1  ...    1.0\n",
              "3     1  ...    1.0\n",
              "4     1  ...    1.0\n",
              "..   ..  ...    ...\n",
              "995   1  ...    0.0\n",
              "996   1  ...    0.0\n",
              "997   1  ...    0.0\n",
              "998   1  ...    0.0\n",
              "999   1  ...    0.0\n",
              "\n",
              "[1000 rows x 7 columns]"
            ]
          },
          "metadata": {
            "tags": []
          },
          "execution_count": 205
        }
      ]
    },
    {
      "cell_type": "markdown",
      "metadata": {
        "id": "TH8qbvhFek5b"
      },
      "source": [
        "Interesting - it got a relevant document at the top rank. Think about what TF_IDF is doing compared to Tf. "
      ]
    },
    {
      "cell_type": "markdown",
      "metadata": {
        "id": "R41fzAkjzVl3"
      },
      "source": [
        "Keeping with the Tf ranking function, let's try to help it perform better by better formulating the query `'measurement of dielectric constant of liquids by the use of microwave techniques'`.\n",
        "\n",
        "In particular, Terrier can take into account how often a query term occurs in a query. In doing so, documents are actually scored like this:\n",
        "$$\n",
        "score(d,Q) = \\sum_{t \\in Q} tf_{t,q} * tf_{t,d}\n",
        "$$\n",
        "where $tf_{t,d}$ is the frequency of the term in *document* and $tf_{t,q}$ is the frequency of the term in the *query*.\n",
        "\n",
        "However, in our example query ( `'measurement of dielectric constant of liquids by the use of microwave techniques'`) all (non-stopword) query terms have a query term frequency of 1. \n",
        "\n",
        "We can try is to give more (or less) weight to some of these query terms, so as to place more or less emphasis on those terms, by appending a number such as `^2` (or `^0.1`) to some words in the query string."
      ]
    },
    {
      "cell_type": "code",
      "metadata": {
        "id": "42pNBGLdytV-",
        "colab": {
          "base_uri": "https://localhost:8080/",
          "height": 419
        },
        "outputId": "31758dbe-3d66-4ff2-99dc-79c45f2017e3"
      },
      "source": [
        "# here I try to change the emphasis on some words\n",
        "newQueryDf = pd.DataFrame([\n",
        "  [\"1\", \"measurement^0.1 of dielectric constant of liquids by \"+\n",
        "    \"the use of microwave techniques^2\"]\n",
        "  ], columns=[\"qid\", \"query\"])\n",
        "get_res_with_labels(tf, newQueryDf )\n"
      ],
      "execution_count": null,
      "outputs": [
        {
          "output_type": "execute_result",
          "data": {
            "text/html": [
              "<div>\n",
              "<style scoped>\n",
              "    .dataframe tbody tr th:only-of-type {\n",
              "        vertical-align: middle;\n",
              "    }\n",
              "\n",
              "    .dataframe tbody tr th {\n",
              "        vertical-align: top;\n",
              "    }\n",
              "\n",
              "    .dataframe thead th {\n",
              "        text-align: right;\n",
              "    }\n",
              "</style>\n",
              "<table border=\"1\" class=\"dataframe\">\n",
              "  <thead>\n",
              "    <tr style=\"text-align: right;\">\n",
              "      <th></th>\n",
              "      <th>qid</th>\n",
              "      <th>docid</th>\n",
              "      <th>docno</th>\n",
              "      <th>rank</th>\n",
              "      <th>score</th>\n",
              "      <th>query</th>\n",
              "      <th>label</th>\n",
              "    </tr>\n",
              "  </thead>\n",
              "  <tbody>\n",
              "    <tr>\n",
              "      <th>0</th>\n",
              "      <td>1</td>\n",
              "      <td>3692</td>\n",
              "      <td>3693</td>\n",
              "      <td>0</td>\n",
              "      <td>4.00</td>\n",
              "      <td>measurement^0.1 of dielectric constant of liquids by the use of microwave techniques^2</td>\n",
              "      <td>0.0</td>\n",
              "    </tr>\n",
              "    <tr>\n",
              "      <th>1</th>\n",
              "      <td>1</td>\n",
              "      <td>7233</td>\n",
              "      <td>7234</td>\n",
              "      <td>1</td>\n",
              "      <td>3.60</td>\n",
              "      <td>measurement^0.1 of dielectric constant of liquids by the use of microwave techniques^2</td>\n",
              "      <td>0.0</td>\n",
              "    </tr>\n",
              "    <tr>\n",
              "      <th>2</th>\n",
              "      <td>1</td>\n",
              "      <td>8907</td>\n",
              "      <td>8908</td>\n",
              "      <td>2</td>\n",
              "      <td>3.20</td>\n",
              "      <td>measurement^0.1 of dielectric constant of liquids by the use of microwave techniques^2</td>\n",
              "      <td>0.0</td>\n",
              "    </tr>\n",
              "    <tr>\n",
              "      <th>3</th>\n",
              "      <td>1</td>\n",
              "      <td>5501</td>\n",
              "      <td>5502</td>\n",
              "      <td>3</td>\n",
              "      <td>3.05</td>\n",
              "      <td>measurement^0.1 of dielectric constant of liquids by the use of microwave techniques^2</td>\n",
              "      <td>1.0</td>\n",
              "    </tr>\n",
              "    <tr>\n",
              "      <th>4</th>\n",
              "      <td>1</td>\n",
              "      <td>8662</td>\n",
              "      <td>8663</td>\n",
              "      <td>4</td>\n",
              "      <td>3.00</td>\n",
              "      <td>measurement^0.1 of dielectric constant of liquids by the use of microwave techniques^2</td>\n",
              "      <td>0.0</td>\n",
              "    </tr>\n",
              "    <tr>\n",
              "      <th>...</th>\n",
              "      <td>...</td>\n",
              "      <td>...</td>\n",
              "      <td>...</td>\n",
              "      <td>...</td>\n",
              "      <td>...</td>\n",
              "      <td>...</td>\n",
              "      <td>...</td>\n",
              "    </tr>\n",
              "    <tr>\n",
              "      <th>995</th>\n",
              "      <td>1</td>\n",
              "      <td>7115</td>\n",
              "      <td>7116</td>\n",
              "      <td>995</td>\n",
              "      <td>0.50</td>\n",
              "      <td>measurement^0.1 of dielectric constant of liquids by the use of microwave techniques^2</td>\n",
              "      <td>0.0</td>\n",
              "    </tr>\n",
              "    <tr>\n",
              "      <th>996</th>\n",
              "      <td>1</td>\n",
              "      <td>8092</td>\n",
              "      <td>8093</td>\n",
              "      <td>996</td>\n",
              "      <td>0.50</td>\n",
              "      <td>measurement^0.1 of dielectric constant of liquids by the use of microwave techniques^2</td>\n",
              "      <td>0.0</td>\n",
              "    </tr>\n",
              "    <tr>\n",
              "      <th>997</th>\n",
              "      <td>1</td>\n",
              "      <td>1979</td>\n",
              "      <td>1980</td>\n",
              "      <td>997</td>\n",
              "      <td>0.50</td>\n",
              "      <td>measurement^0.1 of dielectric constant of liquids by the use of microwave techniques^2</td>\n",
              "      <td>0.0</td>\n",
              "    </tr>\n",
              "    <tr>\n",
              "      <th>998</th>\n",
              "      <td>1</td>\n",
              "      <td>1991</td>\n",
              "      <td>1992</td>\n",
              "      <td>998</td>\n",
              "      <td>0.50</td>\n",
              "      <td>measurement^0.1 of dielectric constant of liquids by the use of microwave techniques^2</td>\n",
              "      <td>0.0</td>\n",
              "    </tr>\n",
              "    <tr>\n",
              "      <th>999</th>\n",
              "      <td>1</td>\n",
              "      <td>7387</td>\n",
              "      <td>7388</td>\n",
              "      <td>999</td>\n",
              "      <td>0.50</td>\n",
              "      <td>measurement^0.1 of dielectric constant of liquids by the use of microwave techniques^2</td>\n",
              "      <td>0.0</td>\n",
              "    </tr>\n",
              "  </tbody>\n",
              "</table>\n",
              "<p>1000 rows × 7 columns</p>\n",
              "</div>"
            ],
            "text/plain": [
              "    qid  ...  label\n",
              "0     1  ...    0.0\n",
              "1     1  ...    0.0\n",
              "2     1  ...    0.0\n",
              "3     1  ...    1.0\n",
              "4     1  ...    0.0\n",
              "..   ..  ...    ...\n",
              "995   1  ...    0.0\n",
              "996   1  ...    0.0\n",
              "997   1  ...    0.0\n",
              "998   1  ...    0.0\n",
              "999   1  ...    0.0\n",
              "\n",
              "[1000 rows x 7 columns]"
            ]
          },
          "metadata": {
            "tags": []
          },
          "execution_count": 206
        }
      ]
    },
    {
      "cell_type": "markdown",
      "metadata": {
        "id": "F45OJVIO1AhS"
      },
      "source": [
        "#### **Task 5**\n",
        "\n",
        "Spend **up to 5 minutes** trying to reformulate the query by increasing or decreasing the weight of some query terms to get a relevant result at the first rank.\n",
        "\n",
        "Hint: You might want to inspect some of the relevant (or non-relevant!) documents to see what words they contain. E.g. you might want to look at the contents of docnos 7923 and 3693."
      ]
    },
    {
      "cell_type": "code",
      "metadata": {
        "id": "SZc72D6Ezf5y",
        "colab": {
          "base_uri": "https://localhost:8080/"
        },
        "outputId": "d02d6311-6c07-4b02-9d4d-3bcb8ba28922"
      },
      "source": [
        "#YOUR SOLUTION\n",
        "print(get_document_direct(index, docid=7922))\n",
        "print(get_document_direct(index, docid=3692))"
      ],
      "execution_count": null,
      "outputs": [
        {
          "output_type": "stream",
          "text": [
            "Docno 7923 (docid 7922)\n",
            "\tcalcul 1\n",
            "\tshown 1\n",
            "\tmeasur 1\n",
            "\telectr 1\n",
            "\tsmaller 1\n",
            "\tfield 2\n",
            "\tphase 2\n",
            "\tliquid 1\n",
            "\ttime 1\n",
            "\tnormal 1\n",
            "\tapplic 1\n",
            "\tcurrent 1\n",
            "\texperi 1\n",
            "\tnew 1\n",
            "\tobserv 1\n",
            "\tstate 1\n",
            "\tenergi 2\n",
            "\tdielectr 4\n",
            "\tinfluenc 1\n",
            "\tacceler 1\n",
            "\tmass 1\n",
            "\tcapacitor 1\n",
            "\tchang 2\n",
            "\tcorrespond 1\n",
            "\tsolid 1\n",
            "\telectro 1\n",
            "\thundr 1\n",
            "\theat 1\n",
            "\tphenomenon 1\n",
            "\tdissip 1\n",
            "\tpartli 2\n",
            "\telectrod 1\n",
            "\tjoul 1\n",
            "\tfusion 2\n",
            "\n",
            "Docno 3693 (docid 3692)\n",
            "\telectron 5\n",
            "\tderiv 1\n",
            "\tprincipl 1\n",
            "\tapproach 2\n",
            "\tshown 1\n",
            "\tcan 1\n",
            "\ttheori 1\n",
            "\tdevelop 1\n",
            "\tpart 1\n",
            "\tmai 1\n",
            "\tstatic 1\n",
            "\tfrequenc 1\n",
            "\tgroup 2\n",
            "\tlow 1\n",
            "\tfield 1\n",
            "\tdepend 1\n",
            "\tcase 1\n",
            "\tlong 1\n",
            "\tform 1\n",
            "\trang 1\n",
            "\thigh 1\n",
            "\tsmall 1\n",
            "\tterm 1\n",
            "\tconstant 4\n",
            "\tquantum 1\n",
            "\tdielectr 4\n",
            "\tfirst 1\n",
            "\tsolid 3\n",
            "\tinteract 3\n",
            "\tcollect 2\n",
            "\tmajor 1\n",
            "\tquestion 1\n",
            "\tisol 1\n",
            "\tlarger 1\n",
            "\tminor 1\n",
            "\tplasmon 1\n",
            "\tpolariz 1\n",
            "\n"
          ],
          "name": "stdout"
        }
      ]
    },
    {
      "cell_type": "code",
      "metadata": {
        "colab": {
          "base_uri": "https://localhost:8080/",
          "height": 80
        },
        "id": "2JaHtms8ATel",
        "outputId": "e870483f-02fe-4dcf-90cd-dae7e8fd0c08"
      },
      "source": [
        "newQueryDf_1 = pd.DataFrame([\n",
        "  [\"1\", \"measurement^2 of dielectric^2 constant of liquids by \"+\n",
        "    \"the use of microwave techniques\"]\n",
        "  ], columns=[\"qid\", \"query\"])\n",
        "get_res_with_labels(tf, newQueryDf_1 ).head(1)"
      ],
      "execution_count": null,
      "outputs": [
        {
          "output_type": "execute_result",
          "data": {
            "text/html": [
              "<div>\n",
              "<style scoped>\n",
              "    .dataframe tbody tr th:only-of-type {\n",
              "        vertical-align: middle;\n",
              "    }\n",
              "\n",
              "    .dataframe tbody tr th {\n",
              "        vertical-align: top;\n",
              "    }\n",
              "\n",
              "    .dataframe thead th {\n",
              "        text-align: right;\n",
              "    }\n",
              "</style>\n",
              "<table border=\"1\" class=\"dataframe\">\n",
              "  <thead>\n",
              "    <tr style=\"text-align: right;\">\n",
              "      <th></th>\n",
              "      <th>qid</th>\n",
              "      <th>docid</th>\n",
              "      <th>docno</th>\n",
              "      <th>rank</th>\n",
              "      <th>score</th>\n",
              "      <th>query</th>\n",
              "      <th>label</th>\n",
              "    </tr>\n",
              "  </thead>\n",
              "  <tbody>\n",
              "    <tr>\n",
              "      <th>0</th>\n",
              "      <td>1</td>\n",
              "      <td>3692</td>\n",
              "      <td>3693</td>\n",
              "      <td>0</td>\n",
              "      <td>6.0</td>\n",
              "      <td>measurement^2 of dielectric^2 constant of liquids by the use of microwave techniques</td>\n",
              "      <td>0.0</td>\n",
              "    </tr>\n",
              "  </tbody>\n",
              "</table>\n",
              "</div>"
            ],
            "text/plain": [
              "  qid  ...  label\n",
              "0   1  ...    0.0\n",
              "\n",
              "[1 rows x 7 columns]"
            ]
          },
          "metadata": {
            "tags": []
          },
          "execution_count": 208
        }
      ]
    },
    {
      "cell_type": "code",
      "metadata": {
        "colab": {
          "base_uri": "https://localhost:8080/",
          "height": 80
        },
        "id": "rYDcrSGlA7yS",
        "outputId": "6da1d62d-52b8-47bb-9090-d0a8a2ecc660"
      },
      "source": [
        "newQueryDf_2 = pd.DataFrame([\n",
        "  [\"1\", \"measurement of dielectric^3 constant of liquids by \"+\n",
        "    \"the use of microwave^2 techniques\"]\n",
        "  ], columns=[\"qid\", \"query\"])\n",
        "get_res_with_labels(tf, newQueryDf_2 ).head(1)"
      ],
      "execution_count": null,
      "outputs": [
        {
          "output_type": "execute_result",
          "data": {
            "text/html": [
              "<div>\n",
              "<style scoped>\n",
              "    .dataframe tbody tr th:only-of-type {\n",
              "        vertical-align: middle;\n",
              "    }\n",
              "\n",
              "    .dataframe tbody tr th {\n",
              "        vertical-align: top;\n",
              "    }\n",
              "\n",
              "    .dataframe thead th {\n",
              "        text-align: right;\n",
              "    }\n",
              "</style>\n",
              "<table border=\"1\" class=\"dataframe\">\n",
              "  <thead>\n",
              "    <tr style=\"text-align: right;\">\n",
              "      <th></th>\n",
              "      <th>qid</th>\n",
              "      <th>docid</th>\n",
              "      <th>docno</th>\n",
              "      <th>rank</th>\n",
              "      <th>score</th>\n",
              "      <th>query</th>\n",
              "      <th>label</th>\n",
              "    </tr>\n",
              "  </thead>\n",
              "  <tbody>\n",
              "    <tr>\n",
              "      <th>0</th>\n",
              "      <td>1</td>\n",
              "      <td>3692</td>\n",
              "      <td>3693</td>\n",
              "      <td>0</td>\n",
              "      <td>5.333333</td>\n",
              "      <td>measurement of dielectric^3 constant of liquids by the use of microwave^2 techniques</td>\n",
              "      <td>0.0</td>\n",
              "    </tr>\n",
              "  </tbody>\n",
              "</table>\n",
              "</div>"
            ],
            "text/plain": [
              "  qid  ...  label\n",
              "0   1  ...    0.0\n",
              "\n",
              "[1 rows x 7 columns]"
            ]
          },
          "metadata": {
            "tags": []
          },
          "execution_count": 209
        }
      ]
    },
    {
      "cell_type": "code",
      "metadata": {
        "colab": {
          "base_uri": "https://localhost:8080/",
          "height": 80
        },
        "id": "zHYdH9y5BMpO",
        "outputId": "d975d266-6b66-4c0a-fb83-6a3a891ad049"
      },
      "source": [
        "newQueryDf_3 = pd.DataFrame([\n",
        "  [\"1\", \"measurement of dielectric^3 constant^4 of liquids^2 by \"+\n",
        "    \"the use of microwave^2 techniques^2\"]\n",
        "  ], columns=[\"qid\", \"query\"])\n",
        "get_res_with_labels(tf, newQueryDf_3 ).head(1)"
      ],
      "execution_count": null,
      "outputs": [
        {
          "output_type": "execute_result",
          "data": {
            "text/html": [
              "<div>\n",
              "<style scoped>\n",
              "    .dataframe tbody tr th:only-of-type {\n",
              "        vertical-align: middle;\n",
              "    }\n",
              "\n",
              "    .dataframe tbody tr th {\n",
              "        vertical-align: top;\n",
              "    }\n",
              "\n",
              "    .dataframe thead th {\n",
              "        text-align: right;\n",
              "    }\n",
              "</style>\n",
              "<table border=\"1\" class=\"dataframe\">\n",
              "  <thead>\n",
              "    <tr style=\"text-align: right;\">\n",
              "      <th></th>\n",
              "      <th>qid</th>\n",
              "      <th>docid</th>\n",
              "      <th>docno</th>\n",
              "      <th>rank</th>\n",
              "      <th>score</th>\n",
              "      <th>query</th>\n",
              "      <th>label</th>\n",
              "    </tr>\n",
              "  </thead>\n",
              "  <tbody>\n",
              "    <tr>\n",
              "      <th>0</th>\n",
              "      <td>1</td>\n",
              "      <td>3692</td>\n",
              "      <td>3693</td>\n",
              "      <td>0</td>\n",
              "      <td>7.0</td>\n",
              "      <td>measurement of dielectric^3 constant^4 of liquids^2 by the use of microwave^2 techniques^2</td>\n",
              "      <td>0.0</td>\n",
              "    </tr>\n",
              "  </tbody>\n",
              "</table>\n",
              "</div>"
            ],
            "text/plain": [
              "  qid  ...  label\n",
              "0   1  ...    0.0\n",
              "\n",
              "[1 rows x 7 columns]"
            ]
          },
          "metadata": {
            "tags": []
          },
          "execution_count": 210
        }
      ]
    },
    {
      "cell_type": "code",
      "metadata": {
        "colab": {
          "base_uri": "https://localhost:8080/",
          "height": 80
        },
        "id": "H8sJ0R1SBlBd",
        "outputId": "55652f3b-402f-4e0b-8789-ccffe4199206"
      },
      "source": [
        "newQueryDf_4 = pd.DataFrame([\n",
        "  [\"1\", \"measurement of dielectric^4 constant^4 of liquids by \"+\n",
        "    \"the use of microwave techniques^2\"]\n",
        "  ], columns=[\"qid\", \"query\"])\n",
        "get_res_with_labels(tf, newQueryDf_4 ).head(1)"
      ],
      "execution_count": null,
      "outputs": [
        {
          "output_type": "execute_result",
          "data": {
            "text/html": [
              "<div>\n",
              "<style scoped>\n",
              "    .dataframe tbody tr th:only-of-type {\n",
              "        vertical-align: middle;\n",
              "    }\n",
              "\n",
              "    .dataframe tbody tr th {\n",
              "        vertical-align: top;\n",
              "    }\n",
              "\n",
              "    .dataframe thead th {\n",
              "        text-align: right;\n",
              "    }\n",
              "</style>\n",
              "<table border=\"1\" class=\"dataframe\">\n",
              "  <thead>\n",
              "    <tr style=\"text-align: right;\">\n",
              "      <th></th>\n",
              "      <th>qid</th>\n",
              "      <th>docid</th>\n",
              "      <th>docno</th>\n",
              "      <th>rank</th>\n",
              "      <th>score</th>\n",
              "      <th>query</th>\n",
              "      <th>label</th>\n",
              "    </tr>\n",
              "  </thead>\n",
              "  <tbody>\n",
              "    <tr>\n",
              "      <th>0</th>\n",
              "      <td>1</td>\n",
              "      <td>3692</td>\n",
              "      <td>3693</td>\n",
              "      <td>0</td>\n",
              "      <td>8.0</td>\n",
              "      <td>measurement of dielectric^4 constant^4 of liquids by the use of microwave techniques^2</td>\n",
              "      <td>0.0</td>\n",
              "    </tr>\n",
              "  </tbody>\n",
              "</table>\n",
              "</div>"
            ],
            "text/plain": [
              "  qid  ...  label\n",
              "0   1  ...    0.0\n",
              "\n",
              "[1 rows x 7 columns]"
            ]
          },
          "metadata": {
            "tags": []
          },
          "execution_count": 211
        }
      ]
    },
    {
      "cell_type": "markdown",
      "metadata": {
        "id": "yCITs_Iq1W3w"
      },
      "source": [
        "**Reflection**: While we could not manually reformulate each user's query, however knowing which words should be important or not can help us understand what a good ranking model should do.\n",
        "\n",
        "Later in the course, we'll talk about other approaches to (automatically) reformulate queries, such as query expansion, which can help to improve the search engine's effectiveness.\n"
      ]
    },
    {
      "cell_type": "markdown",
      "metadata": {
        "id": "Mt0iPhRw2J-S"
      },
      "source": [
        "## That's all folks\n",
        "\n",
        "**Submission Instructions**:\n",
        "Complete this notebook, and answer the related questions in the [Exercise 1 Quiz Instance on Moodle](https://moodle.gla.ac.uk/mod/quiz/view.php?id=2195723). As part of the Quiz, you will be asked to upload your .ipynb notebook solution and answer a few simple questions (use File... Download .ipynb).\n",
        "\n",
        "Your responses to the Quiz along with your ipynb notebook solution must be submitted by **Thursday 10th June 2021, 4:30pm**.\n",
        "\n",
        "Future IR exercises will build upon the learning outcome from this assessed lab. Should you need to reinforce any of the material in this lab, the following parts of the PyTerrier documentation will be useful:\n",
        " * [PyTerrier datasets](https://pyterrier.readthedocs.io/en/latest/datasets.html)\n",
        " * [Using Terrier for retrieval](https://pyterrier.readthedocs.io/en/latest/terrier-indexing.html)\n",
        " * [Transformers in PyTerrier](https://pyterrier.readthedocs.io/en/latest/transformer.html)\n",
        " * [Transformer Operators](https://pyterrier.readthedocs.io/en/latest/operators.html)"
      ]
    },
    {
      "cell_type": "code",
      "metadata": {
        "id": "YobrIo5-L31t"
      },
      "source": [
        ""
      ],
      "execution_count": null,
      "outputs": []
    }
  ]
}